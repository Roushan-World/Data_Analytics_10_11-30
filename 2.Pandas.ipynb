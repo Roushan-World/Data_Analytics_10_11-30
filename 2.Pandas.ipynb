{
 "cells": [
  {
   "cell_type": "code",
   "execution_count": 10,
   "id": "4f8f2490-46d7-4cbc-949b-f91d2b415f72",
   "metadata": {},
   "outputs": [],
   "source": [
    "import numpy as np\n",
    "\n",
    "import pandas as pd"
   ]
  },
  {
   "cell_type": "code",
   "execution_count": 11,
   "id": "5cf2368b-4099-497e-b5b0-1817aa0b37d5",
   "metadata": {},
   "outputs": [],
   "source": [
    "dict1={\n",
    "    \"name\":['harry','John','akshay','shubham'],\n",
    "    \"marks\":[30,40,50,60],\n",
    "    \"city\":['Gaya','Texas','Banaras','Bareilly']\n",
    "}"
   ]
  },
  {
   "cell_type": "code",
   "execution_count": 12,
   "id": "0c151c35-42ff-42a0-8244-7597827f5dd0",
   "metadata": {},
   "outputs": [
    {
     "data": {
      "text/plain": [
       "{'name': ['harry', 'John', 'akshay', 'shubham'],\n",
       " 'marks': [30, 40, 50, 60],\n",
       " 'city': ['Gaya', 'Texas', 'Banaras', 'Bareilly']}"
      ]
     },
     "execution_count": 12,
     "metadata": {},
     "output_type": "execute_result"
    }
   ],
   "source": [
    "dict1"
   ]
  },
  {
   "cell_type": "code",
   "execution_count": 13,
   "id": "94926f81-8adb-4575-b648-8e76f0349a9b",
   "metadata": {},
   "outputs": [
    {
     "data": {
      "text/plain": [
       "<module 'pandas' from 'C:\\\\Python311\\\\Lib\\\\site-packages\\\\pandas\\\\__init__.py'>"
      ]
     },
     "execution_count": 13,
     "metadata": {},
     "output_type": "execute_result"
    }
   ],
   "source": [
    "pd"
   ]
  },
  {
   "cell_type": "code",
   "execution_count": 29,
   "id": "5c059f9e-fd4a-4f8d-bd1d-677a555322a9",
   "metadata": {},
   "outputs": [
    {
     "data": {
      "text/html": [
       "<div>\n",
       "<style scoped>\n",
       "    .dataframe tbody tr th:only-of-type {\n",
       "        vertical-align: middle;\n",
       "    }\n",
       "\n",
       "    .dataframe tbody tr th {\n",
       "        vertical-align: top;\n",
       "    }\n",
       "\n",
       "    .dataframe thead th {\n",
       "        text-align: right;\n",
       "    }\n",
       "</style>\n",
       "<table border=\"1\" class=\"dataframe\">\n",
       "  <thead>\n",
       "    <tr style=\"text-align: right;\">\n",
       "      <th></th>\n",
       "      <th>name</th>\n",
       "      <th>marks</th>\n",
       "      <th>city</th>\n",
       "    </tr>\n",
       "  </thead>\n",
       "  <tbody>\n",
       "    <tr>\n",
       "      <th>0</th>\n",
       "      <td>harry</td>\n",
       "      <td>30</td>\n",
       "      <td>Gaya</td>\n",
       "    </tr>\n",
       "    <tr>\n",
       "      <th>1</th>\n",
       "      <td>John</td>\n",
       "      <td>40</td>\n",
       "      <td>Texas</td>\n",
       "    </tr>\n",
       "    <tr>\n",
       "      <th>2</th>\n",
       "      <td>akshay</td>\n",
       "      <td>50</td>\n",
       "      <td>Banaras</td>\n",
       "    </tr>\n",
       "    <tr>\n",
       "      <th>3</th>\n",
       "      <td>shubham</td>\n",
       "      <td>60</td>\n",
       "      <td>Bareilly</td>\n",
       "    </tr>\n",
       "  </tbody>\n",
       "</table>\n",
       "</div>"
      ],
      "text/plain": [
       "      name  marks      city\n",
       "0    harry     30      Gaya\n",
       "1     John     40     Texas\n",
       "2   akshay     50   Banaras\n",
       "3  shubham     60  Bareilly"
      ]
     },
     "execution_count": 29,
     "metadata": {},
     "output_type": "execute_result"
    }
   ],
   "source": [
    "x=pd.DataFrame(dict1)\n",
    "x"
   ]
  },
  {
   "cell_type": "markdown",
   "id": "da51cde9-d009-4811-aecf-33886c5c3177",
   "metadata": {},
   "source": [
    "# Q. What is pandas?\n",
    " * __Pandas is an open Sources data analysis library written in python.__\n",
    " * __It leverages the power and speed of numpy to make data analysis preprocessing easy for data scientiest.__\n",
    " * __It provides rich and highly robust data operations.__\n",
    "\n",
    "# Pandas Data Structures\n",
    "\n",
    " * __Pandas has two types of data structure.__\n",
    " * __1. Series: It's one dimensional array with indexes, it store a single column or row of data in DataFrame.__\n",
    " * __2. DataFrame: It is tablular spreadsheet like structure representing rows each rows each of contains one or multiple columns.__\n",
    "\n",
    "# Note:\n",
    " * __1. A One-Dimensional array(labeled) Capable of holding any type of data-Series.__\n",
    " * __2. A Two-Dimensional array(labeled) structures with columns of potentialally different types of data- DataFrame.__"
   ]
  },
  {
   "cell_type": "code",
   "execution_count": 25,
   "id": "70565941-b96c-4a0b-abcc-6b0fbc2e6135",
   "metadata": {},
   "outputs": [],
   "source": [
    "ser=pd.Series(np.random.rand(40))"
   ]
  },
  {
   "cell_type": "code",
   "execution_count": 26,
   "id": "7b14d550-c072-41bb-80f9-6fdf8d8afdec",
   "metadata": {},
   "outputs": [
    {
     "data": {
      "text/plain": [
       "0     0.380381\n",
       "1     0.818919\n",
       "2     0.168083\n",
       "3     0.747152\n",
       "4     0.974645\n",
       "5     0.733715\n",
       "6     0.188497\n",
       "7     0.303235\n",
       "8     0.572821\n",
       "9     0.015894\n",
       "10    0.604225\n",
       "11    0.682259\n",
       "12    0.565703\n",
       "13    0.656910\n",
       "14    0.813356\n",
       "15    0.174386\n",
       "16    0.448554\n",
       "17    0.654932\n",
       "18    0.159698\n",
       "19    0.694148\n",
       "20    0.318024\n",
       "21    0.977636\n",
       "22    0.416895\n",
       "23    0.968285\n",
       "24    0.336467\n",
       "25    0.069136\n",
       "26    0.105831\n",
       "27    0.811564\n",
       "28    0.350519\n",
       "29    0.319603\n",
       "30    0.749337\n",
       "31    0.903288\n",
       "32    0.699370\n",
       "33    0.063605\n",
       "34    0.401318\n",
       "35    0.255258\n",
       "36    0.363943\n",
       "37    0.498175\n",
       "38    0.468702\n",
       "39    0.137506\n",
       "dtype: float64"
      ]
     },
     "execution_count": 26,
     "metadata": {},
     "output_type": "execute_result"
    }
   ],
   "source": [
    "ser"
   ]
  },
  {
   "cell_type": "code",
   "execution_count": 27,
   "id": "11611117-cca4-46b4-b924-f71ee8ee52f7",
   "metadata": {},
   "outputs": [
    {
     "ename": "NameError",
     "evalue": "name 'df' is not defined",
     "output_type": "error",
     "traceback": [
      "\u001b[1;31m---------------------------------------------------------------------------\u001b[0m",
      "\u001b[1;31mNameError\u001b[0m                                 Traceback (most recent call last)",
      "Cell \u001b[1;32mIn[27], line 1\u001b[0m\n\u001b[1;32m----> 1\u001b[0m \u001b[43mdf\u001b[49m\n",
      "\u001b[1;31mNameError\u001b[0m: name 'df' is not defined"
     ]
    }
   ],
   "source": [
    "df"
   ]
  },
  {
   "cell_type": "code",
   "execution_count": 30,
   "id": "86a00fd3-86ad-4d59-85ed-3cd4364e6c3a",
   "metadata": {},
   "outputs": [
    {
     "data": {
      "text/html": [
       "<div>\n",
       "<style scoped>\n",
       "    .dataframe tbody tr th:only-of-type {\n",
       "        vertical-align: middle;\n",
       "    }\n",
       "\n",
       "    .dataframe tbody tr th {\n",
       "        vertical-align: top;\n",
       "    }\n",
       "\n",
       "    .dataframe thead th {\n",
       "        text-align: right;\n",
       "    }\n",
       "</style>\n",
       "<table border=\"1\" class=\"dataframe\">\n",
       "  <thead>\n",
       "    <tr style=\"text-align: right;\">\n",
       "      <th></th>\n",
       "      <th>name</th>\n",
       "      <th>marks</th>\n",
       "      <th>city</th>\n",
       "    </tr>\n",
       "  </thead>\n",
       "  <tbody>\n",
       "    <tr>\n",
       "      <th>0</th>\n",
       "      <td>harry</td>\n",
       "      <td>30</td>\n",
       "      <td>Gaya</td>\n",
       "    </tr>\n",
       "    <tr>\n",
       "      <th>1</th>\n",
       "      <td>John</td>\n",
       "      <td>40</td>\n",
       "      <td>Texas</td>\n",
       "    </tr>\n",
       "    <tr>\n",
       "      <th>2</th>\n",
       "      <td>akshay</td>\n",
       "      <td>50</td>\n",
       "      <td>Banaras</td>\n",
       "    </tr>\n",
       "    <tr>\n",
       "      <th>3</th>\n",
       "      <td>shubham</td>\n",
       "      <td>60</td>\n",
       "      <td>Bareilly</td>\n",
       "    </tr>\n",
       "  </tbody>\n",
       "</table>\n",
       "</div>"
      ],
      "text/plain": [
       "      name  marks      city\n",
       "0    harry     30      Gaya\n",
       "1     John     40     Texas\n",
       "2   akshay     50   Banaras\n",
       "3  shubham     60  Bareilly"
      ]
     },
     "execution_count": 30,
     "metadata": {},
     "output_type": "execute_result"
    }
   ],
   "source": [
    "x"
   ]
  },
  {
   "cell_type": "code",
   "execution_count": 34,
   "id": "de851b64-90ff-4163-99f0-21331b550149",
   "metadata": {},
   "outputs": [],
   "source": [
    "df=pd.DataFrame(dict1)"
   ]
  },
  {
   "cell_type": "code",
   "execution_count": 35,
   "id": "56d32278-c4a0-4592-a0c8-6642644dcb67",
   "metadata": {},
   "outputs": [],
   "source": [
    "# CSV= comma seperated value file.\n",
    "\n",
    "df.to_csv('sample.csv')"
   ]
  },
  {
   "cell_type": "markdown",
   "id": "e36ad008-df31-41ca-87b7-b2c4cf8c89f7",
   "metadata": {},
   "source": [
    "# Remove Index Value"
   ]
  },
  {
   "cell_type": "code",
   "execution_count": 36,
   "id": "6bf66446-41d9-4e61-85e4-a9977903a081",
   "metadata": {},
   "outputs": [],
   "source": [
    "df.to_csv('sample_index_False.csv',index=False)"
   ]
  },
  {
   "cell_type": "code",
   "execution_count": 37,
   "id": "95ee7656-879c-4ab1-a63a-9571c70764cf",
   "metadata": {},
   "outputs": [
    {
     "data": {
      "text/html": [
       "<div>\n",
       "<style scoped>\n",
       "    .dataframe tbody tr th:only-of-type {\n",
       "        vertical-align: middle;\n",
       "    }\n",
       "\n",
       "    .dataframe tbody tr th {\n",
       "        vertical-align: top;\n",
       "    }\n",
       "\n",
       "    .dataframe thead th {\n",
       "        text-align: right;\n",
       "    }\n",
       "</style>\n",
       "<table border=\"1\" class=\"dataframe\">\n",
       "  <thead>\n",
       "    <tr style=\"text-align: right;\">\n",
       "      <th></th>\n",
       "      <th>name</th>\n",
       "      <th>marks</th>\n",
       "      <th>city</th>\n",
       "    </tr>\n",
       "  </thead>\n",
       "  <tbody>\n",
       "    <tr>\n",
       "      <th>0</th>\n",
       "      <td>harry</td>\n",
       "      <td>30</td>\n",
       "      <td>Gaya</td>\n",
       "    </tr>\n",
       "    <tr>\n",
       "      <th>1</th>\n",
       "      <td>John</td>\n",
       "      <td>40</td>\n",
       "      <td>Texas</td>\n",
       "    </tr>\n",
       "    <tr>\n",
       "      <th>2</th>\n",
       "      <td>akshay</td>\n",
       "      <td>50</td>\n",
       "      <td>Banaras</td>\n",
       "    </tr>\n",
       "    <tr>\n",
       "      <th>3</th>\n",
       "      <td>shubham</td>\n",
       "      <td>60</td>\n",
       "      <td>Bareilly</td>\n",
       "    </tr>\n",
       "  </tbody>\n",
       "</table>\n",
       "</div>"
      ],
      "text/plain": [
       "      name  marks      city\n",
       "0    harry     30      Gaya\n",
       "1     John     40     Texas\n",
       "2   akshay     50   Banaras\n",
       "3  shubham     60  Bareilly"
      ]
     },
     "execution_count": 37,
     "metadata": {},
     "output_type": "execute_result"
    }
   ],
   "source": [
    "df"
   ]
  },
  {
   "cell_type": "markdown",
   "id": "e9e2ee26-c23c-4a6f-a8a8-4be272a19fa9",
   "metadata": {},
   "source": [
    "# head() function"
   ]
  },
  {
   "cell_type": "code",
   "execution_count": 43,
   "id": "26779553-76eb-4371-b832-767ac0c57d9b",
   "metadata": {},
   "outputs": [
    {
     "data": {
      "text/html": [
       "<div>\n",
       "<style scoped>\n",
       "    .dataframe tbody tr th:only-of-type {\n",
       "        vertical-align: middle;\n",
       "    }\n",
       "\n",
       "    .dataframe tbody tr th {\n",
       "        vertical-align: top;\n",
       "    }\n",
       "\n",
       "    .dataframe thead th {\n",
       "        text-align: right;\n",
       "    }\n",
       "</style>\n",
       "<table border=\"1\" class=\"dataframe\">\n",
       "  <thead>\n",
       "    <tr style=\"text-align: right;\">\n",
       "      <th></th>\n",
       "      <th>name</th>\n",
       "      <th>marks</th>\n",
       "      <th>city</th>\n",
       "    </tr>\n",
       "  </thead>\n",
       "  <tbody>\n",
       "    <tr>\n",
       "      <th>0</th>\n",
       "      <td>harry</td>\n",
       "      <td>30</td>\n",
       "      <td>Gaya</td>\n",
       "    </tr>\n",
       "    <tr>\n",
       "      <th>1</th>\n",
       "      <td>John</td>\n",
       "      <td>40</td>\n",
       "      <td>Texas</td>\n",
       "    </tr>\n",
       "  </tbody>\n",
       "</table>\n",
       "</div>"
      ],
      "text/plain": [
       "    name  marks   city\n",
       "0  harry     30   Gaya\n",
       "1   John     40  Texas"
      ]
     },
     "execution_count": 43,
     "metadata": {},
     "output_type": "execute_result"
    }
   ],
   "source": [
    "df.head(2)   # name marks city ................................. .---------------,-------------,----------"
   ]
  },
  {
   "cell_type": "markdown",
   "id": "4027c871-7bc4-4e75-989f-aa324e1daf2a",
   "metadata": {},
   "source": [
    "# Describe() function\n",
    "\n",
    " * __For numeric data, the result's index will count, mean, std, min, max, as well as lower, 50 and upper percentiles. By default the lower percentile is 25 and the uppper percentile is 75. The 50 Percentile is the same as the median.__"
   ]
  },
  {
   "cell_type": "code",
   "execution_count": 44,
   "id": "77d1dc52-3475-40db-8d02-cf483bf63944",
   "metadata": {},
   "outputs": [
    {
     "data": {
      "text/html": [
       "<div>\n",
       "<style scoped>\n",
       "    .dataframe tbody tr th:only-of-type {\n",
       "        vertical-align: middle;\n",
       "    }\n",
       "\n",
       "    .dataframe tbody tr th {\n",
       "        vertical-align: top;\n",
       "    }\n",
       "\n",
       "    .dataframe thead th {\n",
       "        text-align: right;\n",
       "    }\n",
       "</style>\n",
       "<table border=\"1\" class=\"dataframe\">\n",
       "  <thead>\n",
       "    <tr style=\"text-align: right;\">\n",
       "      <th></th>\n",
       "      <th>marks</th>\n",
       "    </tr>\n",
       "  </thead>\n",
       "  <tbody>\n",
       "    <tr>\n",
       "      <th>count</th>\n",
       "      <td>4.000000</td>\n",
       "    </tr>\n",
       "    <tr>\n",
       "      <th>mean</th>\n",
       "      <td>45.000000</td>\n",
       "    </tr>\n",
       "    <tr>\n",
       "      <th>std</th>\n",
       "      <td>12.909944</td>\n",
       "    </tr>\n",
       "    <tr>\n",
       "      <th>min</th>\n",
       "      <td>30.000000</td>\n",
       "    </tr>\n",
       "    <tr>\n",
       "      <th>25%</th>\n",
       "      <td>37.500000</td>\n",
       "    </tr>\n",
       "    <tr>\n",
       "      <th>50%</th>\n",
       "      <td>45.000000</td>\n",
       "    </tr>\n",
       "    <tr>\n",
       "      <th>75%</th>\n",
       "      <td>52.500000</td>\n",
       "    </tr>\n",
       "    <tr>\n",
       "      <th>max</th>\n",
       "      <td>60.000000</td>\n",
       "    </tr>\n",
       "  </tbody>\n",
       "</table>\n",
       "</div>"
      ],
      "text/plain": [
       "           marks\n",
       "count   4.000000\n",
       "mean   45.000000\n",
       "std    12.909944\n",
       "min    30.000000\n",
       "25%    37.500000\n",
       "50%    45.000000\n",
       "75%    52.500000\n",
       "max    60.000000"
      ]
     },
     "execution_count": 44,
     "metadata": {},
     "output_type": "execute_result"
    }
   ],
   "source": [
    "df.describe()"
   ]
  },
  {
   "cell_type": "code",
   "execution_count": null,
   "id": "bb195e57-882a-47fc-9503-e1c0e7cc1ba4",
   "metadata": {},
   "outputs": [],
   "source": []
  }
 ],
 "metadata": {
  "kernelspec": {
   "display_name": "Python 3 (ipykernel)",
   "language": "python",
   "name": "python3"
  },
  "language_info": {
   "codemirror_mode": {
    "name": "ipython",
    "version": 3
   },
   "file_extension": ".py",
   "mimetype": "text/x-python",
   "name": "python",
   "nbconvert_exporter": "python",
   "pygments_lexer": "ipython3",
   "version": "3.11.4"
  }
 },
 "nbformat": 4,
 "nbformat_minor": 5
}
