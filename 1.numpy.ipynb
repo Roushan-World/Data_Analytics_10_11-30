{
 "cells": [
  {
   "cell_type": "markdown",
   "id": "16d87b75-b87b-469f-8649-9af8bad414a8",
   "metadata": {},
   "source": [
    "# 1. Numpy\n",
    "\n",
    " * __Numpy provides efficient storage.__\n",
    " * __Numpy provides better ways of handling data for processing.__\n",
    " * __It is fast.__\n",
    " * __It is easy to learn.__\n",
    " * __Numpy user relatively less memeory to store data.__\n",
    "\n",
    "# Jupyter\n",
    "\n",
    " * __The Jupyter Notebook is an open source web application that allows you to create line code, equations, visualizations and narrative text.__\n",
    " * __The Notebook has support for over 40 Programming languages, including Python, R, Jullia and Scala.__\n",
    " * __Notebooks can be shared with other using email,Dropbox, GitHub and the Jupyter Notebook viewers.__\n",
    " * __Your code can produce rich, interactive output HTML, images, videos, LaTeX, and many custom types.__ "
   ]
  },
  {
   "cell_type": "code",
   "execution_count": 1,
   "id": "7973aac1-71e6-4053-84d0-c493ae2329f6",
   "metadata": {},
   "outputs": [],
   "source": [
    "import numpy as np"
   ]
  },
  {
   "cell_type": "code",
   "execution_count": 2,
   "id": "5d0e341f-67bc-4722-853a-239c7d51de3a",
   "metadata": {},
   "outputs": [],
   "source": [
    "# Creating array\n",
    "\n",
    "myarray=np.array([2,3,32,7])\n"
   ]
  },
  {
   "cell_type": "code",
   "execution_count": 3,
   "id": "860fee85-f36e-4453-b328-1e720babaa8b",
   "metadata": {},
   "outputs": [
    {
     "data": {
      "text/plain": [
       "array([ 2,  3, 32,  7])"
      ]
     },
     "execution_count": 3,
     "metadata": {},
     "output_type": "execute_result"
    }
   ],
   "source": [
    "myarray"
   ]
  },
  {
   "cell_type": "code",
   "execution_count": 4,
   "id": "e5adafc6-904e-43a2-a0dc-b040c96d9ca0",
   "metadata": {},
   "outputs": [
    {
     "data": {
      "text/plain": [
       "array([ 2,  3, 32,  7], dtype=int8)"
      ]
     },
     "execution_count": 4,
     "metadata": {},
     "output_type": "execute_result"
    }
   ],
   "source": [
    "myarray=np.array([2,3,32,7],np.int8)\n",
    "myarray"
   ]
  },
  {
   "cell_type": "code",
   "execution_count": 5,
   "id": "e7a04bd6-fe87-4da7-895c-cadb3993d69d",
   "metadata": {},
   "outputs": [
    {
     "data": {
      "text/plain": [
       "array([ 2,  3, 32,  7])"
      ]
     },
     "execution_count": 5,
     "metadata": {},
     "output_type": "execute_result"
    }
   ],
   "source": [
    "myarray=np.array([2,3,32,7],np.int32)\n",
    "myarray"
   ]
  },
  {
   "cell_type": "code",
   "execution_count": 6,
   "id": "634cf645-5c03-4217-9f6d-e4f82a16b0a3",
   "metadata": {},
   "outputs": [
    {
     "data": {
      "text/plain": [
       "array([ 2,  3, 32,  7], dtype=int64)"
      ]
     },
     "execution_count": 6,
     "metadata": {},
     "output_type": "execute_result"
    }
   ],
   "source": [
    "myarray=np.array([2,3,32,7],np.int64)\n",
    "myarray"
   ]
  },
  {
   "cell_type": "code",
   "execution_count": 7,
   "id": "48c4bb9b-9d10-4e48-950a-1d2a7d4fb7c7",
   "metadata": {},
   "outputs": [],
   "source": [
    "# 1-D array\n",
    "\n",
    "myarr=np.array([3,6,37,8],np.int64)"
   ]
  },
  {
   "cell_type": "code",
   "execution_count": 8,
   "id": "6bb22ccb-647e-4495-b665-4f446b65fd8f",
   "metadata": {},
   "outputs": [
    {
     "data": {
      "text/plain": [
       "array([ 3,  6, 37,  8], dtype=int64)"
      ]
     },
     "execution_count": 8,
     "metadata": {},
     "output_type": "execute_result"
    }
   ],
   "source": [
    "myarr"
   ]
  },
  {
   "cell_type": "code",
   "execution_count": 9,
   "id": "fe19e323-5760-40fe-b24f-80fe8f9c50ef",
   "metadata": {},
   "outputs": [],
   "source": [
    "# 2-D array\n",
    "myarr=np.array([[3,6,9,12]],np.int64)"
   ]
  },
  {
   "cell_type": "code",
   "execution_count": 10,
   "id": "74a4a390-0dff-4826-aa5a-732d3afc40c3",
   "metadata": {},
   "outputs": [
    {
     "data": {
      "text/plain": [
       "array([[ 3,  6,  9, 12]], dtype=int64)"
      ]
     },
     "execution_count": 10,
     "metadata": {},
     "output_type": "execute_result"
    }
   ],
   "source": [
    "myarr"
   ]
  },
  {
   "cell_type": "code",
   "execution_count": 11,
   "id": "81ddf828-8605-457b-b815-d9f96d2236b1",
   "metadata": {},
   "outputs": [
    {
     "name": "stdout",
     "output_type": "stream",
     "text": [
      "3\n",
      "6\n",
      "9\n",
      "12\n"
     ]
    }
   ],
   "source": [
    "# Finding index number\n",
    "\n",
    "print(myarr[0,0])\n",
    "print(myarr[0,1])\n",
    "print(myarr[0,2])\n",
    "print(myarr[0,3])\n",
    "#print(myarr[1,3])"
   ]
  },
  {
   "cell_type": "code",
   "execution_count": 12,
   "id": "4dcc6422-9bc7-48a4-a8d2-cba718efbe95",
   "metadata": {},
   "outputs": [
    {
     "data": {
      "text/plain": [
       "(1, 4)"
      ]
     },
     "execution_count": 12,
     "metadata": {},
     "output_type": "execute_result"
    }
   ],
   "source": [
    "# show details of the array\n",
    "\n",
    "myarr.shape"
   ]
  },
  {
   "cell_type": "code",
   "execution_count": 13,
   "id": "672bf7be-4575-4be8-afe9-77ddec866c7e",
   "metadata": {},
   "outputs": [
    {
     "data": {
      "text/plain": [
       "dtype('int64')"
      ]
     },
     "execution_count": 13,
     "metadata": {},
     "output_type": "execute_result"
    }
   ],
   "source": [
    "# Checking data types of array\n",
    "\n",
    "myarr.dtype"
   ]
  },
  {
   "cell_type": "code",
   "execution_count": 14,
   "id": "b8273182-3e87-4458-8f4c-3371012e6f96",
   "metadata": {},
   "outputs": [
    {
     "data": {
      "text/plain": [
       "array([[ 3,  6,  9, 12]], dtype=int64)"
      ]
     },
     "execution_count": 14,
     "metadata": {},
     "output_type": "execute_result"
    }
   ],
   "source": [
    "myarr"
   ]
  },
  {
   "cell_type": "code",
   "execution_count": 15,
   "id": "41e6879d-8558-4333-81ee-91a775ea346b",
   "metadata": {},
   "outputs": [],
   "source": [
    "# how to change any element in numpy\n",
    "\n",
    "myarr[0,1]=45   # 0 is the row index value and 1 is the column index value.\n"
   ]
  },
  {
   "cell_type": "code",
   "execution_count": 16,
   "id": "fada1c3c-572f-49f9-a55f-c2d6d7b03c80",
   "metadata": {},
   "outputs": [
    {
     "data": {
      "text/plain": [
       "array([[ 3, 45,  9, 12]], dtype=int64)"
      ]
     },
     "execution_count": 16,
     "metadata": {},
     "output_type": "execute_result"
    }
   ],
   "source": [
    "myarr"
   ]
  },
  {
   "cell_type": "code",
   "execution_count": 17,
   "id": "638b7579-311f-40b4-961b-5132afb01845",
   "metadata": {},
   "outputs": [],
   "source": [
    "myarr[0,3]=100\n"
   ]
  },
  {
   "cell_type": "code",
   "execution_count": 18,
   "id": "d6356563-ae04-4310-82df-1442b0f4ef63",
   "metadata": {},
   "outputs": [
    {
     "data": {
      "text/plain": [
       "array([[  3,  45,   9, 100]], dtype=int64)"
      ]
     },
     "execution_count": 18,
     "metadata": {},
     "output_type": "execute_result"
    }
   ],
   "source": [
    "myarr"
   ]
  },
  {
   "cell_type": "markdown",
   "id": "18127cd7-cfa0-4e77-9d2a-cbe53dc7fb96",
   "metadata": {},
   "source": [
    "# Note:\n",
    "* __There are 5 general mechanism for creating array:__\n",
    "  * __1. Conversion from other Python structures. (eg: list, tuples).__\n",
    "  * __2. Intrinsic numpy array creating object(eg: arange, one, Zeros etc).__\n",
    "  * __3. Reading arrays from disk, either from standard or custom formats.__\n",
    "  * __4. Creating arrays from raw bytes through the use of string of buffers.__\n",
    "  * __5. Use of special library functions eg (random).__"
   ]
  },
  {
   "cell_type": "markdown",
   "id": "e37310e7",
   "metadata": {},
   "source": [
    "\n",
    "\n"
   ]
  },
  {
   "cell_type": "code",
   "execution_count": 19,
   "id": "8a5038a6-6b7d-4cfd-a087-ae0669498819",
   "metadata": {},
   "outputs": [
    {
     "data": {
      "text/plain": [
       "array([[1, 2, 3],\n",
       "       [5, 8, 5],\n",
       "       [0, 3, 1]])"
      ]
     },
     "execution_count": 19,
     "metadata": {},
     "output_type": "execute_result"
    }
   ],
   "source": [
    "listarray=np.array([[1,2,3],[5,8,5],[0,3,1]])\n",
    "listarray"
   ]
  },
  {
   "cell_type": "code",
   "execution_count": 20,
   "id": "fe0e90b1-f142-4108-a5fc-3cd44c39badd",
   "metadata": {},
   "outputs": [
    {
     "data": {
      "text/plain": [
       "dtype('int32')"
      ]
     },
     "execution_count": 20,
     "metadata": {},
     "output_type": "execute_result"
    }
   ],
   "source": [
    "# check the data types of the array\n",
    "\n",
    "listarray.dtype"
   ]
  },
  {
   "cell_type": "code",
   "execution_count": 21,
   "id": "d70a496f-6ad3-4c01-9123-e00c4d1505a2",
   "metadata": {},
   "outputs": [
    {
     "data": {
      "text/plain": [
       "(3, 3)"
      ]
     },
     "execution_count": 21,
     "metadata": {},
     "output_type": "execute_result"
    }
   ],
   "source": [
    "# Checking the shape of any data type\n",
    "\n",
    "listarray.shape"
   ]
  },
  {
   "cell_type": "code",
   "execution_count": 22,
   "id": "63f9b14c-4846-477f-a451-dfeb5729fbef",
   "metadata": {},
   "outputs": [
    {
     "data": {
      "text/plain": [
       "9"
      ]
     },
     "execution_count": 22,
     "metadata": {},
     "output_type": "execute_result"
    }
   ],
   "source": [
    "# Checking size of any array\n",
    "\n",
    "listarray.size"
   ]
  },
  {
   "cell_type": "code",
   "execution_count": 23,
   "id": "2ef7a73a-93aa-4714-9b51-54a859352a48",
   "metadata": {},
   "outputs": [
    {
     "data": {
      "text/plain": [
       "array({25, 34}, dtype=object)"
      ]
     },
     "execution_count": 23,
     "metadata": {},
     "output_type": "execute_result"
    }
   ],
   "source": [
    "# Set array # Data type is object.\n",
    "\n",
    "np.array({34,25,25,25})"
   ]
  },
  {
   "cell_type": "code",
   "execution_count": 24,
   "id": "5d9d93e8-f12a-44dc-8624-24eff2d2c9a8",
   "metadata": {},
   "outputs": [],
   "source": [
    "zeros=np.zeros((2,5))"
   ]
  },
  {
   "cell_type": "code",
   "execution_count": 25,
   "id": "8c3b61c9-0c51-49a7-8caf-3d7559216dd4",
   "metadata": {},
   "outputs": [
    {
     "data": {
      "text/plain": [
       "array([[0., 0., 0., 0., 0.],\n",
       "       [0., 0., 0., 0., 0.]])"
      ]
     },
     "execution_count": 25,
     "metadata": {},
     "output_type": "execute_result"
    }
   ],
   "source": [
    "zeros"
   ]
  },
  {
   "cell_type": "code",
   "execution_count": 26,
   "id": "b5df85c0-5f76-4793-bd58-8a0c89c65251",
   "metadata": {},
   "outputs": [
    {
     "data": {
      "text/plain": [
       "dtype('float64')"
      ]
     },
     "execution_count": 26,
     "metadata": {},
     "output_type": "execute_result"
    }
   ],
   "source": [
    "zeros.dtype"
   ]
  },
  {
   "cell_type": "code",
   "execution_count": 27,
   "id": "c9eb71ce-b377-46be-be1d-192edf9f989f",
   "metadata": {},
   "outputs": [],
   "source": [
    "range=np.arange(15)"
   ]
  },
  {
   "cell_type": "code",
   "execution_count": 28,
   "id": "24cdc0f3-9383-4304-bd9a-94fd2688d6ca",
   "metadata": {},
   "outputs": [
    {
     "data": {
      "text/plain": [
       "array([ 0,  1,  2,  3,  4,  5,  6,  7,  8,  9, 10, 11, 12, 13, 14])"
      ]
     },
     "execution_count": 28,
     "metadata": {},
     "output_type": "execute_result"
    }
   ],
   "source": [
    "range"
   ]
  },
  {
   "cell_type": "code",
   "execution_count": 29,
   "id": "cfc05a78-f7e7-41aa-ab50-6c12a7e78887",
   "metadata": {},
   "outputs": [
    {
     "data": {
      "text/plain": [
       "array([2.        , 2.02040816, 2.04081633, 2.06122449, 2.08163265,\n",
       "       2.10204082, 2.12244898, 2.14285714, 2.16326531, 2.18367347,\n",
       "       2.20408163, 2.2244898 , 2.24489796, 2.26530612, 2.28571429,\n",
       "       2.30612245, 2.32653061, 2.34693878, 2.36734694, 2.3877551 ,\n",
       "       2.40816327, 2.42857143, 2.44897959, 2.46938776, 2.48979592,\n",
       "       2.51020408, 2.53061224, 2.55102041, 2.57142857, 2.59183673,\n",
       "       2.6122449 , 2.63265306, 2.65306122, 2.67346939, 2.69387755,\n",
       "       2.71428571, 2.73469388, 2.75510204, 2.7755102 , 2.79591837,\n",
       "       2.81632653, 2.83673469, 2.85714286, 2.87755102, 2.89795918,\n",
       "       2.91836735, 2.93877551, 2.95918367, 2.97959184, 3.        ])"
      ]
     },
     "execution_count": 29,
     "metadata": {},
     "output_type": "execute_result"
    }
   ],
   "source": [
    "np.linspace(2.0,3.0,num=50)"
   ]
  },
  {
   "cell_type": "code",
   "execution_count": 30,
   "id": "8b7ab3d7-7c3f-4808-913b-fe75d201e817",
   "metadata": {},
   "outputs": [
    {
     "data": {
      "text/plain": [
       "array([2.  , 2.02, 2.04, 2.06, 2.08, 2.1 , 2.12, 2.14, 2.16, 2.18, 2.2 ,\n",
       "       2.22, 2.24, 2.26, 2.28, 2.3 , 2.32, 2.34, 2.36, 2.38, 2.4 , 2.42,\n",
       "       2.44, 2.46, 2.48, 2.5 , 2.52, 2.54, 2.56, 2.58, 2.6 , 2.62, 2.64,\n",
       "       2.66, 2.68, 2.7 , 2.72, 2.74, 2.76, 2.78, 2.8 , 2.82, 2.84, 2.86,\n",
       "       2.88, 2.9 , 2.92, 2.94, 2.96, 2.98])"
      ]
     },
     "execution_count": 30,
     "metadata": {},
     "output_type": "execute_result"
    }
   ],
   "source": [
    "np.linspace(2.0,3.0,num=50, endpoint=False)"
   ]
  },
  {
   "cell_type": "code",
   "execution_count": 31,
   "id": "22f05ac1-6a39-454a-8e3c-abc8adfd273e",
   "metadata": {},
   "outputs": [],
   "source": [
    "lspace=np.linspace(1,5,12,endpoint=False)"
   ]
  },
  {
   "cell_type": "code",
   "execution_count": 32,
   "id": "311e02e9-ad0b-4b89-b2d5-90ec28382fdd",
   "metadata": {},
   "outputs": [
    {
     "data": {
      "text/plain": [
       "array([1.        , 1.33333333, 1.66666667, 2.        , 2.33333333,\n",
       "       2.66666667, 3.        , 3.33333333, 3.66666667, 4.        ,\n",
       "       4.33333333, 4.66666667])"
      ]
     },
     "execution_count": 32,
     "metadata": {},
     "output_type": "execute_result"
    }
   ],
   "source": [
    "lspace"
   ]
  },
  {
   "cell_type": "code",
   "execution_count": 33,
   "id": "5d32354e-076a-4ed0-9821-e96de1e5c5dc",
   "metadata": {},
   "outputs": [],
   "source": [
    "# empty array\n",
    "\n",
    "emp=np.empty((4,6))"
   ]
  },
  {
   "cell_type": "code",
   "execution_count": 34,
   "id": "3a909c80-434d-4ed2-b246-9afca9b1595e",
   "metadata": {},
   "outputs": [
    {
     "data": {
      "text/plain": [
       "array([[3.56043053e-307, 1.37961641e-306, 9.45697982e-308,\n",
       "        8.01097889e-307, 1.78020169e-306, 7.56601165e-307],\n",
       "       [1.02359984e-306, 1.33510679e-306, 2.22522597e-306,\n",
       "        1.33511018e-306, 6.23057689e-307, 1.86921279e-306],\n",
       "       [8.90098127e-307, 1.78020848e-306, 1.60219035e-306,\n",
       "        1.42418172e-306, 8.06610070e-308, 6.89810244e-307],\n",
       "       [1.22387550e-307, 2.22522596e-306, 8.34423917e-308,\n",
       "        1.11261162e-306, 1.78021527e-306, 6.95309593e-310]])"
      ]
     },
     "execution_count": 34,
     "metadata": {},
     "output_type": "execute_result"
    }
   ],
   "source": [
    "emp"
   ]
  },
  {
   "cell_type": "code",
   "execution_count": 35,
   "id": "f2bb5116-8ba3-4937-89a9-767651564ebd",
   "metadata": {},
   "outputs": [
    {
     "name": "stdout",
     "output_type": "stream",
     "text": [
      "Matrix b:\n",
      " [-965017600      32766]\n"
     ]
    }
   ],
   "source": [
    "import numpy as np\n",
    "\n",
    "b=np.empty(2,dtype=int)   # row is 1 and column 2\n",
    "print(\"Matrix b:\\n\",b)"
   ]
  },
  {
   "cell_type": "code",
   "execution_count": 36,
   "id": "ba1d3c19-7335-445b-9540-79b10746314d",
   "metadata": {},
   "outputs": [
    {
     "name": "stdout",
     "output_type": "stream",
     "text": [
      "\n",
      "Matrix a:\n",
      " [[898959984       423]\n",
      " [        0         0]]\n"
     ]
    }
   ],
   "source": [
    "a=np.empty([2,2], dtype=int)\n",
    "print(\"\\nMatrix a:\\n\",a)"
   ]
  },
  {
   "cell_type": "code",
   "execution_count": 37,
   "id": "c9b8ea34-7896-46c4-9a4f-00cdbd09788a",
   "metadata": {},
   "outputs": [
    {
     "name": "stdout",
     "output_type": "stream",
     "text": [
      "\n",
      "Matrix c: \n",
      " [[        0         0 932700672]\n",
      " [      423 932701184       423]\n",
      " [932701696       423   7209065]]\n"
     ]
    }
   ],
   "source": [
    "c=np.empty([3,3],dtype=int)\n",
    "print('\\nMatrix c: \\n',c)"
   ]
  },
  {
   "cell_type": "markdown",
   "id": "a0119453-553e-42af-8d85-d70cf3c542ec",
   "metadata": {},
   "source": [
    "# identity\n",
    "\n",
    " * __The identity array is a square array withy ones on the main diagonal.__\n",
    " * __Number of rows (and columns) in n x n output.__\n",
    " * __n x n array with its main diagonal set to one, and all other element is 0.__"
   ]
  },
  {
   "cell_type": "code",
   "execution_count": 38,
   "id": "d791d034-5b76-4644-98c1-cdfd6f61a096",
   "metadata": {},
   "outputs": [
    {
     "data": {
      "text/plain": [
       "array([[1., 0., 0., 0., 0., 0., 0., 0., 0., 0.],\n",
       "       [0., 1., 0., 0., 0., 0., 0., 0., 0., 0.],\n",
       "       [0., 0., 1., 0., 0., 0., 0., 0., 0., 0.],\n",
       "       [0., 0., 0., 1., 0., 0., 0., 0., 0., 0.],\n",
       "       [0., 0., 0., 0., 1., 0., 0., 0., 0., 0.],\n",
       "       [0., 0., 0., 0., 0., 1., 0., 0., 0., 0.],\n",
       "       [0., 0., 0., 0., 0., 0., 1., 0., 0., 0.],\n",
       "       [0., 0., 0., 0., 0., 0., 0., 1., 0., 0.],\n",
       "       [0., 0., 0., 0., 0., 0., 0., 0., 1., 0.],\n",
       "       [0., 0., 0., 0., 0., 0., 0., 0., 0., 1.]])"
      ]
     },
     "execution_count": 38,
     "metadata": {},
     "output_type": "execute_result"
    }
   ],
   "source": [
    "ide=np.identity(10)\n",
    "ide"
   ]
  },
  {
   "cell_type": "code",
   "execution_count": 39,
   "id": "0f87e4fc-7e29-428b-81e5-9ec0178ace8d",
   "metadata": {},
   "outputs": [
    {
     "data": {
      "text/plain": [
       "array([[1., 0., 0., ..., 0., 0., 0.],\n",
       "       [0., 1., 0., ..., 0., 0., 0.],\n",
       "       [0., 0., 1., ..., 0., 0., 0.],\n",
       "       ...,\n",
       "       [0., 0., 0., ..., 1., 0., 0.],\n",
       "       [0., 0., 0., ..., 0., 1., 0.],\n",
       "       [0., 0., 0., ..., 0., 0., 1.]])"
      ]
     },
     "execution_count": 39,
     "metadata": {},
     "output_type": "execute_result"
    }
   ],
   "source": [
    "ide1=np.identity(100)\n",
    "ide1"
   ]
  },
  {
   "cell_type": "code",
   "execution_count": 40,
   "id": "6fb66d72-ecf3-43a6-9edf-366a040a0e8e",
   "metadata": {},
   "outputs": [
    {
     "data": {
      "text/plain": [
       "(100, 100)"
      ]
     },
     "execution_count": 40,
     "metadata": {},
     "output_type": "execute_result"
    }
   ],
   "source": [
    "ide1.shape"
   ]
  },
  {
   "cell_type": "code",
   "execution_count": 41,
   "id": "8dd87f74-73b9-428e-9675-56b191a0edb1",
   "metadata": {},
   "outputs": [
    {
     "data": {
      "text/plain": [
       "array([ 0,  1,  2,  3,  4,  5,  6,  7,  8,  9, 10, 11, 12, 13, 14, 15, 16,\n",
       "       17, 18, 19, 20, 21, 22, 23, 24, 25, 26, 27, 28, 29, 30, 31, 32, 33,\n",
       "       34, 35, 36, 37, 38, 39, 40, 41, 42, 43, 44, 45, 46, 47, 48, 49, 50,\n",
       "       51, 52, 53, 54, 55, 56, 57, 58, 59, 60, 61, 62, 63, 64, 65, 66, 67,\n",
       "       68, 69, 70, 71, 72, 73, 74, 75, 76, 77, 78, 79, 80, 81, 82, 83, 84,\n",
       "       85, 86, 87, 88, 89, 90, 91, 92, 93, 94, 95, 96, 97, 98])"
      ]
     },
     "execution_count": 41,
     "metadata": {},
     "output_type": "execute_result"
    }
   ],
   "source": [
    "# arange() in numpy\n",
    "arr=np.arange(99)\n",
    "arr"
   ]
  },
  {
   "cell_type": "code",
   "execution_count": 42,
   "id": "e4ba2ea7-86a4-45f9-8e45-07d4e4197a5f",
   "metadata": {},
   "outputs": [
    {
     "data": {
      "text/plain": [
       "array([[ 0,  1,  2,  3,  4,  5,  6,  7,  8,  9, 10, 11, 12, 13, 14, 15,\n",
       "        16, 17, 18, 19, 20, 21, 22, 23, 24, 25, 26, 27, 28, 29, 30, 31,\n",
       "        32],\n",
       "       [33, 34, 35, 36, 37, 38, 39, 40, 41, 42, 43, 44, 45, 46, 47, 48,\n",
       "        49, 50, 51, 52, 53, 54, 55, 56, 57, 58, 59, 60, 61, 62, 63, 64,\n",
       "        65],\n",
       "       [66, 67, 68, 69, 70, 71, 72, 73, 74, 75, 76, 77, 78, 79, 80, 81,\n",
       "        82, 83, 84, 85, 86, 87, 88, 89, 90, 91, 92, 93, 94, 95, 96, 97,\n",
       "        98]])"
      ]
     },
     "execution_count": 42,
     "metadata": {},
     "output_type": "execute_result"
    }
   ],
   "source": [
    "# reshape\n",
    "\n",
    "arr.reshape(3,33)"
   ]
  },
  {
   "cell_type": "code",
   "execution_count": 43,
   "id": "9a53e6dd-9ff2-4077-aa22-0c23f2c1ed9e",
   "metadata": {},
   "outputs": [
    {
     "data": {
      "text/plain": [
       "array([ 0,  1,  2,  3,  4,  5,  6,  7,  8,  9, 10, 11, 12, 13, 14, 15, 16,\n",
       "       17, 18, 19, 20, 21, 22, 23, 24, 25, 26, 27, 28, 29, 30, 31, 32, 33,\n",
       "       34, 35, 36, 37, 38, 39, 40, 41, 42, 43, 44, 45, 46, 47, 48, 49, 50,\n",
       "       51, 52, 53, 54, 55, 56, 57, 58, 59, 60, 61, 62, 63, 64, 65, 66, 67,\n",
       "       68, 69, 70, 71, 72, 73, 74, 75, 76, 77, 78, 79, 80, 81, 82, 83, 84,\n",
       "       85, 86, 87, 88, 89, 90, 91, 92, 93, 94, 95, 96, 97, 98, 99])"
      ]
     },
     "execution_count": 43,
     "metadata": {},
     "output_type": "execute_result"
    }
   ],
   "source": [
    "arr=np.arange(100)\n",
    "arr"
   ]
  },
  {
   "cell_type": "code",
   "execution_count": 44,
   "id": "72ad0d8a-1c42-4f7a-95a3-6e2df4f24fb3",
   "metadata": {},
   "outputs": [
    {
     "data": {
      "text/plain": [
       "array([[ 0,  1,  2,  3,  4,  5,  6,  7,  8,  9, 10, 11, 12, 13, 14, 15,\n",
       "        16, 17, 18, 19, 20, 21, 22, 23, 24],\n",
       "       [25, 26, 27, 28, 29, 30, 31, 32, 33, 34, 35, 36, 37, 38, 39, 40,\n",
       "        41, 42, 43, 44, 45, 46, 47, 48, 49],\n",
       "       [50, 51, 52, 53, 54, 55, 56, 57, 58, 59, 60, 61, 62, 63, 64, 65,\n",
       "        66, 67, 68, 69, 70, 71, 72, 73, 74],\n",
       "       [75, 76, 77, 78, 79, 80, 81, 82, 83, 84, 85, 86, 87, 88, 89, 90,\n",
       "        91, 92, 93, 94, 95, 96, 97, 98, 99]])"
      ]
     },
     "execution_count": 44,
     "metadata": {},
     "output_type": "execute_result"
    }
   ],
   "source": [
    "arr.reshape(4,25)"
   ]
  },
  {
   "cell_type": "code",
   "execution_count": 45,
   "id": "ca1c62d0-34af-4b2a-9604-f372829cd7a1",
   "metadata": {},
   "outputs": [
    {
     "data": {
      "text/plain": [
       "array([ 0,  1,  2,  3,  4,  5,  6,  7,  8,  9, 10, 11, 12, 13, 14, 15, 16,\n",
       "       17, 18, 19, 20, 21, 22, 23, 24, 25, 26, 27, 28, 29, 30, 31, 32, 33,\n",
       "       34, 35, 36, 37, 38, 39, 40, 41, 42, 43, 44, 45, 46, 47, 48, 49, 50,\n",
       "       51, 52, 53, 54, 55, 56, 57, 58, 59, 60, 61, 62, 63, 64, 65, 66, 67,\n",
       "       68, 69, 70, 71, 72, 73, 74, 75, 76, 77, 78, 79, 80, 81, 82, 83, 84,\n",
       "       85, 86, 87, 88, 89, 90, 91, 92, 93, 94, 95, 96, 97, 98, 99])"
      ]
     },
     "execution_count": 45,
     "metadata": {},
     "output_type": "execute_result"
    }
   ],
   "source": [
    "arr.ravel()"
   ]
  },
  {
   "cell_type": "code",
   "execution_count": 46,
   "id": "5660d8d5-c1bd-49fc-9b8a-d10ce4b763c6",
   "metadata": {},
   "outputs": [
    {
     "data": {
      "text/plain": [
       "(100,)"
      ]
     },
     "execution_count": 46,
     "metadata": {},
     "output_type": "execute_result"
    }
   ],
   "source": [
    "arr.shape"
   ]
  },
  {
   "cell_type": "code",
   "execution_count": 47,
   "id": "1d254cbf-a89a-4e8c-bfde-cd6e6808b6e7",
   "metadata": {},
   "outputs": [
    {
     "data": {
      "text/plain": [
       "[[1, 2, 3], [4, 5, 6], [7, 1, 0]]"
      ]
     },
     "execution_count": 47,
     "metadata": {},
     "output_type": "execute_result"
    }
   ],
   "source": [
    "# Numpy array\n",
    "\n",
    "x= [[1,2,3],[4,5,6],[7,1,0]]\n",
    "x"
   ]
  },
  {
   "cell_type": "code",
   "execution_count": 48,
   "id": "6ee3964a-67da-4dba-a1cb-3bf9f762be8c",
   "metadata": {},
   "outputs": [
    {
     "ename": "AttributeError",
     "evalue": "'list' object has no attribute 'shape'",
     "output_type": "error",
     "traceback": [
      "\u001b[1;31m---------------------------------------------------------------------------\u001b[0m",
      "\u001b[1;31mAttributeError\u001b[0m                            Traceback (most recent call last)",
      "Cell \u001b[1;32mIn[48], line 1\u001b[0m\n\u001b[1;32m----> 1\u001b[0m \u001b[43mx\u001b[49m\u001b[38;5;241;43m.\u001b[39;49m\u001b[43mshape\u001b[49m\n",
      "\u001b[1;31mAttributeError\u001b[0m: 'list' object has no attribute 'shape'"
     ]
    }
   ],
   "source": [
    "x.shape"
   ]
  },
  {
   "cell_type": "code",
   "execution_count": 49,
   "id": "f11c62cc-6f7a-4d69-bb8e-d58076757322",
   "metadata": {},
   "outputs": [],
   "source": [
    "ar=np.array(x)"
   ]
  },
  {
   "cell_type": "code",
   "execution_count": 50,
   "id": "937805af-f938-4bdb-85cb-07f3b1bbc38f",
   "metadata": {},
   "outputs": [
    {
     "data": {
      "text/plain": [
       "array([[1, 2, 3],\n",
       "       [4, 5, 6],\n",
       "       [7, 1, 0]])"
      ]
     },
     "execution_count": 50,
     "metadata": {},
     "output_type": "execute_result"
    }
   ],
   "source": [
    "ar"
   ]
  },
  {
   "cell_type": "code",
   "execution_count": 51,
   "id": "3a1c3c7b-f1a0-46de-aef4-cc1d555abd63",
   "metadata": {},
   "outputs": [
    {
     "data": {
      "text/plain": [
       "(3, 3)"
      ]
     },
     "execution_count": 51,
     "metadata": {},
     "output_type": "execute_result"
    }
   ],
   "source": [
    "ar.shape"
   ]
  },
  {
   "cell_type": "code",
   "execution_count": 52,
   "id": "d085113a-4eeb-4cc7-b197-5fe48a349d25",
   "metadata": {},
   "outputs": [
    {
     "data": {
      "text/plain": [
       "array([12,  8,  9])"
      ]
     },
     "execution_count": 52,
     "metadata": {},
     "output_type": "execute_result"
    }
   ],
   "source": [
    "ar.sum(axis=0)   # [12,8,9]   # addition perform by rows=0"
   ]
  },
  {
   "cell_type": "code",
   "execution_count": 53,
   "id": "13b69238-b7e4-416e-95aa-e3e5af34f72a",
   "metadata": {},
   "outputs": [
    {
     "data": {
      "text/plain": [
       "array([ 6, 15,  8])"
      ]
     },
     "execution_count": 53,
     "metadata": {},
     "output_type": "execute_result"
    }
   ],
   "source": [
    "ar.sum(axis=1)  # [6,15,8]  # addition perform by column=1"
   ]
  },
  {
   "cell_type": "markdown",
   "id": "c3fdca1d-aa15-431b-a77f-0270f01578ab",
   "metadata": {},
   "source": [
    "# Transpose() \n",
    "\n",
    " * __With the help of Numpy numpy.transpose(), we can perform the simple function of transpose within one line using numpy.transpose() method of numpy. It can transpose the 2-D arrays on the other hand it has no effect on 1-D arrays. This method transpose the 2-D numpy array.__"
   ]
  },
  {
   "cell_type": "code",
   "execution_count": 54,
   "id": "52c4795d-efc5-4b22-9c9f-feb9d683f377",
   "metadata": {},
   "outputs": [
    {
     "data": {
      "text/plain": [
       "array([[1, 2, 3],\n",
       "       [4, 5, 6],\n",
       "       [7, 1, 0]])"
      ]
     },
     "execution_count": 54,
     "metadata": {},
     "output_type": "execute_result"
    }
   ],
   "source": [
    "ar"
   ]
  },
  {
   "cell_type": "code",
   "execution_count": 55,
   "id": "ef704007-8a4b-47aa-869c-f560d6076b89",
   "metadata": {},
   "outputs": [
    {
     "data": {
      "text/plain": [
       "array([[1, 4, 7],\n",
       "       [2, 5, 1],\n",
       "       [3, 6, 0]])"
      ]
     },
     "execution_count": 55,
     "metadata": {},
     "output_type": "execute_result"
    }
   ],
   "source": [
    "# Tanspose\n",
    "ar.T"
   ]
  },
  {
   "cell_type": "code",
   "execution_count": 56,
   "id": "0891c0b6-fb4e-4d77-adac-1e5fec4ee8f4",
   "metadata": {},
   "outputs": [
    {
     "data": {
      "text/plain": [
       "<numpy.flatiter at 0x1a737a4edc0>"
      ]
     },
     "execution_count": 56,
     "metadata": {},
     "output_type": "execute_result"
    }
   ],
   "source": [
    "# iterators \n",
    "\n",
    "ar.flat   "
   ]
  },
  {
   "cell_type": "code",
   "execution_count": 57,
   "id": "f481260e-80a0-4ff7-8d1d-9ac946995095",
   "metadata": {},
   "outputs": [
    {
     "name": "stdout",
     "output_type": "stream",
     "text": [
      "1\n",
      "2\n",
      "3\n",
      "4\n",
      "5\n",
      "6\n",
      "7\n",
      "1\n",
      "0\n"
     ]
    }
   ],
   "source": [
    "for items in ar.flat:\n",
    "    print(items)"
   ]
  },
  {
   "cell_type": "code",
   "execution_count": 58,
   "id": "f2f214e9-3d2b-4e3d-90dc-3d2db65b0fc7",
   "metadata": {},
   "outputs": [
    {
     "data": {
      "text/plain": [
       "2"
      ]
     },
     "execution_count": 58,
     "metadata": {},
     "output_type": "execute_result"
    }
   ],
   "source": [
    "# how to check dimension in array.\n",
    "\n",
    "ar.ndim"
   ]
  },
  {
   "cell_type": "code",
   "execution_count": 59,
   "id": "82758201-77b6-40a9-98b1-d487b99d80fb",
   "metadata": {},
   "outputs": [
    {
     "data": {
      "text/plain": [
       "9"
      ]
     },
     "execution_count": 59,
     "metadata": {},
     "output_type": "execute_result"
    }
   ],
   "source": [
    "# how to check size of the size\n",
    "\n",
    "ar.size"
   ]
  },
  {
   "cell_type": "code",
   "execution_count": 60,
   "id": "0999598b-42a2-452a-8f81-73fc11b1c3fe",
   "metadata": {},
   "outputs": [
    {
     "data": {
      "text/plain": [
       "array([[1, 2, 3],\n",
       "       [4, 5, 6],\n",
       "       [7, 1, 0]])"
      ]
     },
     "execution_count": 60,
     "metadata": {},
     "output_type": "execute_result"
    }
   ],
   "source": [
    "ar"
   ]
  },
  {
   "cell_type": "code",
   "execution_count": 61,
   "id": "d0afce98-473d-49d6-bd8e-1e007f87f98b",
   "metadata": {},
   "outputs": [
    {
     "data": {
      "text/plain": [
       "36"
      ]
     },
     "execution_count": 61,
     "metadata": {},
     "output_type": "execute_result"
    }
   ],
   "source": [
    "ar.nbytes"
   ]
  },
  {
   "cell_type": "code",
   "execution_count": 62,
   "id": "98f03917-7f2e-467f-9761-444fdc150998",
   "metadata": {},
   "outputs": [
    {
     "data": {
      "text/plain": [
       "array([  1,   2,   3,   4,   6, 634])"
      ]
     },
     "execution_count": 62,
     "metadata": {},
     "output_type": "execute_result"
    }
   ],
   "source": [
    "one=np.array([1,2,3,4,6,634])    # 1-D\n",
    "\n",
    "one"
   ]
  },
  {
   "cell_type": "code",
   "execution_count": 63,
   "id": "b50299c2-0aa1-4902-bacc-3365ef6252d7",
   "metadata": {},
   "outputs": [
    {
     "data": {
      "text/plain": [
       "6"
      ]
     },
     "execution_count": 63,
     "metadata": {},
     "output_type": "execute_result"
    }
   ],
   "source": [
    "one.size"
   ]
  },
  {
   "cell_type": "code",
   "execution_count": 64,
   "id": "227f92bf-2805-491f-b4a8-8c0bd0e532cc",
   "metadata": {},
   "outputs": [
    {
     "data": {
      "text/plain": [
       "24"
      ]
     },
     "execution_count": 64,
     "metadata": {},
     "output_type": "execute_result"
    }
   ],
   "source": [
    "one.nbytes"
   ]
  },
  {
   "cell_type": "markdown",
   "id": "f3fe0644-a0a7-4455-abae-3e3af2640d55",
   "metadata": {},
   "source": [
    " * __The main difference between attributes and method is that attributes are data, while method are action. This means that attributes store information, while methods perform actions. For example, an attribute might store the name of the array, while a method might be a function that calculates the sum of the slements of an array. To call an attribute, you can use the same dot notation and add parentheses, like this:__\n",
    " * __array.attributes*__\n",
    " * __array.method(argument1,argument2)__"
   ]
  },
  {
   "cell_type": "code",
   "execution_count": 65,
   "id": "3e36bbbd-5855-48bd-bccb-8b5613b2209e",
   "metadata": {},
   "outputs": [
    {
     "data": {
      "text/plain": [
       "array([  1,   2,   3,   4,   6, 634])"
      ]
     },
     "execution_count": 65,
     "metadata": {},
     "output_type": "execute_result"
    }
   ],
   "source": [
    "one"
   ]
  },
  {
   "cell_type": "code",
   "execution_count": 66,
   "id": "e43a531c-8781-49b2-8042-93487b9cc577",
   "metadata": {},
   "outputs": [
    {
     "data": {
      "text/plain": [
       "5"
      ]
     },
     "execution_count": 66,
     "metadata": {},
     "output_type": "execute_result"
    }
   ],
   "source": [
    "one.argmax()   # This is the index value of maximum number in the array"
   ]
  },
  {
   "cell_type": "code",
   "execution_count": 67,
   "id": "07b0490c-e201-4b99-8651-130754c216e8",
   "metadata": {},
   "outputs": [
    {
     "data": {
      "text/plain": [
       "0"
      ]
     },
     "execution_count": 67,
     "metadata": {},
     "output_type": "execute_result"
    }
   ],
   "source": [
    "one.argmin()  # This returns the minimum number in the array."
   ]
  },
  {
   "cell_type": "code",
   "execution_count": 68,
   "id": "c9f5c997-319a-49c6-958d-9403e69e49fd",
   "metadata": {},
   "outputs": [
    {
     "data": {
      "text/plain": [
       "array([  1,   2,   3,   4,   6, 634])"
      ]
     },
     "execution_count": 68,
     "metadata": {},
     "output_type": "execute_result"
    }
   ],
   "source": [
    "# argsort\n",
    "\n",
    "one"
   ]
  },
  {
   "cell_type": "code",
   "execution_count": 69,
   "id": "aa5dd1ae-8e93-42d0-b9b7-c023c96e55e8",
   "metadata": {},
   "outputs": [],
   "source": [
    "two=np.array([10,15,7,8,20,9,200,15])"
   ]
  },
  {
   "cell_type": "code",
   "execution_count": 70,
   "id": "d818e811-1f84-4175-bbbf-47c45e4a5263",
   "metadata": {},
   "outputs": [
    {
     "data": {
      "text/plain": [
       "array([ 10,  15,   7,   8,  20,   9, 200,  15])"
      ]
     },
     "execution_count": 70,
     "metadata": {},
     "output_type": "execute_result"
    }
   ],
   "source": [
    "two"
   ]
  },
  {
   "cell_type": "code",
   "execution_count": 71,
   "id": "bd22d475-ef9b-47c3-b2e9-0557da1de192",
   "metadata": {},
   "outputs": [
    {
     "data": {
      "text/plain": [
       "array([2, 3, 5, 0, 1, 7, 4, 6], dtype=int64)"
      ]
     },
     "execution_count": 71,
     "metadata": {},
     "output_type": "execute_result"
    }
   ],
   "source": [
    "two.argsort()    # ascending order"
   ]
  },
  {
   "cell_type": "code",
   "execution_count": 72,
   "id": "bf94019d-c4db-49d4-b1be-1cb1c69c7f52",
   "metadata": {},
   "outputs": [
    {
     "data": {
      "text/plain": [
       "array([[1, 2, 3],\n",
       "       [4, 5, 6],\n",
       "       [7, 1, 0]])"
      ]
     },
     "execution_count": 72,
     "metadata": {},
     "output_type": "execute_result"
    }
   ],
   "source": [
    "ar"
   ]
  },
  {
   "cell_type": "code",
   "execution_count": 73,
   "id": "36e87bdf-7c65-42a1-9240-8ff642fa910d",
   "metadata": {},
   "outputs": [
    {
     "data": {
      "text/plain": [
       "8"
      ]
     },
     "execution_count": 73,
     "metadata": {},
     "output_type": "execute_result"
    }
   ],
   "source": [
    "ar.argmin()   # column index"
   ]
  },
  {
   "cell_type": "code",
   "execution_count": 74,
   "id": "8a70b9e6-a7d9-4107-baba-075a3dedab46",
   "metadata": {},
   "outputs": [
    {
     "data": {
      "text/plain": [
       "6"
      ]
     },
     "execution_count": 74,
     "metadata": {},
     "output_type": "execute_result"
    }
   ],
   "source": [
    "ar.argmax()"
   ]
  },
  {
   "cell_type": "code",
   "execution_count": 75,
   "id": "932f31a0-d360-4680-a9cf-ef0e79c4e9dc",
   "metadata": {},
   "outputs": [
    {
     "data": {
      "text/plain": [
       "array([[1, 2, 3],\n",
       "       [4, 5, 6],\n",
       "       [7, 1, 0]])"
      ]
     },
     "execution_count": 75,
     "metadata": {},
     "output_type": "execute_result"
    }
   ],
   "source": [
    "ar"
   ]
  },
  {
   "cell_type": "code",
   "execution_count": 76,
   "id": "b093a16e-5a12-445b-99b0-26a911f452a8",
   "metadata": {},
   "outputs": [
    {
     "data": {
      "text/plain": [
       "array([2, 1, 1], dtype=int64)"
      ]
     },
     "execution_count": 76,
     "metadata": {},
     "output_type": "execute_result"
    }
   ],
   "source": [
    "ar.argmax(axis=0)   # rows"
   ]
  },
  {
   "cell_type": "code",
   "execution_count": 77,
   "id": "3ddc3311-9b3d-4cc1-883e-2edf27e06711",
   "metadata": {},
   "outputs": [
    {
     "data": {
      "text/plain": [
       "array([2, 2, 0], dtype=int64)"
      ]
     },
     "execution_count": 77,
     "metadata": {},
     "output_type": "execute_result"
    }
   ],
   "source": [
    "ar.argmax(axis=1)   #by column"
   ]
  },
  {
   "cell_type": "code",
   "execution_count": 78,
   "id": "8324b1e4-f584-4e46-b310-4f46cf962b40",
   "metadata": {},
   "outputs": [
    {
     "data": {
      "text/plain": [
       "array([[1, 2, 3],\n",
       "       [4, 5, 6],\n",
       "       [7, 1, 0]])"
      ]
     },
     "execution_count": 78,
     "metadata": {},
     "output_type": "execute_result"
    }
   ],
   "source": [
    "ar"
   ]
  },
  {
   "cell_type": "code",
   "execution_count": 79,
   "id": "2a4c96b9-4476-4cc6-94bd-379b6110d967",
   "metadata": {},
   "outputs": [
    {
     "data": {
      "text/plain": [
       "array([[0, 1, 2],\n",
       "       [0, 1, 2],\n",
       "       [2, 1, 0]], dtype=int64)"
      ]
     },
     "execution_count": 79,
     "metadata": {},
     "output_type": "execute_result"
    }
   ],
   "source": [
    "ar.argsort(axis=1)  #[0,1,2],[0,1,2],[2,1,0] # by column\n"
   ]
  },
  {
   "cell_type": "code",
   "execution_count": 80,
   "id": "aa52e2ab-ba03-4698-bfe4-91c833610e5b",
   "metadata": {},
   "outputs": [
    {
     "data": {
      "text/plain": [
       "array([[1, 2, 3],\n",
       "       [4, 5, 6],\n",
       "       [7, 1, 0]])"
      ]
     },
     "execution_count": 80,
     "metadata": {},
     "output_type": "execute_result"
    }
   ],
   "source": [
    "ar"
   ]
  },
  {
   "cell_type": "code",
   "execution_count": 81,
   "id": "1acfe742-c3ee-42ce-8ff3-2b1fe2b7e32c",
   "metadata": {},
   "outputs": [
    {
     "data": {
      "text/plain": [
       "array([[0, 2, 2],\n",
       "       [1, 0, 0],\n",
       "       [2, 1, 1]], dtype=int64)"
      ]
     },
     "execution_count": 81,
     "metadata": {},
     "output_type": "execute_result"
    }
   ],
   "source": [
    "ar.argsort(axis=0)  # arranged by rows."
   ]
  },
  {
   "cell_type": "code",
   "execution_count": 82,
   "id": "2e366d07-2a00-4da7-a4a5-48b63f9c4d87",
   "metadata": {},
   "outputs": [
    {
     "data": {
      "text/plain": [
       "array([1, 2, 3, 4, 5, 6, 7, 1, 0])"
      ]
     },
     "execution_count": 82,
     "metadata": {},
     "output_type": "execute_result"
    }
   ],
   "source": [
    "# ravel \n",
    "\n",
    "ar.ravel()   # arranged in sequence form."
   ]
  },
  {
   "cell_type": "code",
   "execution_count": 83,
   "id": "b1c32034-8bcf-4c55-bf03-e61e23998a9e",
   "metadata": {},
   "outputs": [
    {
     "data": {
      "text/plain": [
       "array([[1],\n",
       "       [2],\n",
       "       [3],\n",
       "       [4],\n",
       "       [5],\n",
       "       [6],\n",
       "       [7],\n",
       "       [1],\n",
       "       [0]])"
      ]
     },
     "execution_count": 83,
     "metadata": {},
     "output_type": "execute_result"
    }
   ],
   "source": [
    "# reshape\n",
    "\n",
    "ar.reshape(9,1)  # 9 rows and 1 column # 9X1 9"
   ]
  },
  {
   "cell_type": "code",
   "execution_count": 84,
   "id": "91a079f6-73e5-40cc-9b44-51fbaa60c337",
   "metadata": {},
   "outputs": [
    {
     "data": {
      "text/plain": [
       "array([[1, 2, 3],\n",
       "       [4, 5, 6],\n",
       "       [7, 1, 0]])"
      ]
     },
     "execution_count": 84,
     "metadata": {},
     "output_type": "execute_result"
    }
   ],
   "source": [
    "ar"
   ]
  },
  {
   "cell_type": "code",
   "execution_count": 85,
   "id": "e5e38522-edcf-4ca4-b9b8-1e104696e49c",
   "metadata": {},
   "outputs": [
    {
     "data": {
      "text/plain": [
       "array([[1, 2, 1],\n",
       "       [4, 0, 6],\n",
       "       [8, 1, 0]])"
      ]
     },
     "execution_count": 85,
     "metadata": {},
     "output_type": "execute_result"
    }
   ],
   "source": [
    "ar2=np.array([[1,2,1],[4,0,6],[8,1,0]])\n",
    "ar2"
   ]
  },
  {
   "cell_type": "code",
   "execution_count": 86,
   "id": "510e4a00-a00f-4c0b-bfd3-4f1ae1f22bff",
   "metadata": {},
   "outputs": [
    {
     "data": {
      "text/plain": [
       "array([[ 2,  4,  4],\n",
       "       [ 8,  5, 12],\n",
       "       [15,  2,  0]])"
      ]
     },
     "execution_count": 86,
     "metadata": {},
     "output_type": "execute_result"
    }
   ],
   "source": [
    "# Add two array\n",
    "ar+ar2  # add this array by column method."
   ]
  },
  {
   "cell_type": "code",
   "execution_count": 87,
   "id": "0373b237-21bd-4ed2-9ee5-0002295f254e",
   "metadata": {},
   "outputs": [
    {
     "data": {
      "text/plain": [
       "[324, 34, 34, 546]"
      ]
     },
     "execution_count": 87,
     "metadata": {},
     "output_type": "execute_result"
    }
   ],
   "source": [
    "x=[324,34]+[34,546]\n",
    "x    # If you performing list addition then addition is not allowed."
   ]
  },
  {
   "cell_type": "code",
   "execution_count": 88,
   "id": "1a75b13d-fad1-4bb9-b81e-48da298c5b00",
   "metadata": {},
   "outputs": [
    {
     "data": {
      "text/plain": [
       "array([[1, 2, 3],\n",
       "       [4, 5, 6],\n",
       "       [7, 1, 0]])"
      ]
     },
     "execution_count": 88,
     "metadata": {},
     "output_type": "execute_result"
    }
   ],
   "source": [
    "# multiplying two array\n",
    "\n",
    "ar"
   ]
  },
  {
   "cell_type": "code",
   "execution_count": 89,
   "id": "958eda98-fd3c-437e-9e6d-3ce3fda447e5",
   "metadata": {},
   "outputs": [
    {
     "data": {
      "text/plain": [
       "array([[1, 2, 1],\n",
       "       [4, 0, 6],\n",
       "       [8, 1, 0]])"
      ]
     },
     "execution_count": 89,
     "metadata": {},
     "output_type": "execute_result"
    }
   ],
   "source": [
    "ar2"
   ]
  },
  {
   "cell_type": "code",
   "execution_count": 90,
   "id": "e8b416ac-bd9a-4273-8bdf-2612e14b4eb2",
   "metadata": {},
   "outputs": [
    {
     "data": {
      "text/plain": [
       "array([[ 1,  4,  3],\n",
       "       [16,  0, 36],\n",
       "       [56,  1,  0]])"
      ]
     },
     "execution_count": 90,
     "metadata": {},
     "output_type": "execute_result"
    }
   ],
   "source": [
    "ar*ar2  # multiplied by column method i.e by default"
   ]
  },
  {
   "cell_type": "code",
   "execution_count": 91,
   "id": "19248b31-e9a5-466d-a1d0-2dd47190942c",
   "metadata": {},
   "outputs": [
    {
     "data": {
      "text/plain": [
       "array([[1, 2, 3],\n",
       "       [4, 5, 6],\n",
       "       [7, 1, 0]])"
      ]
     },
     "execution_count": 91,
     "metadata": {},
     "output_type": "execute_result"
    }
   ],
   "source": [
    "# how to find the square root of the array if possible\n",
    "ar"
   ]
  },
  {
   "cell_type": "code",
   "execution_count": 92,
   "id": "ab9a37af-2556-44b6-b747-2403f95bbe8f",
   "metadata": {},
   "outputs": [
    {
     "data": {
      "text/plain": [
       "array([[1.        , 1.41421356, 1.73205081],\n",
       "       [2.        , 2.23606798, 2.44948974],\n",
       "       [2.64575131, 1.        , 0.        ]])"
      ]
     },
     "execution_count": 92,
     "metadata": {},
     "output_type": "execute_result"
    }
   ],
   "source": [
    "np.sqrt(ar)"
   ]
  },
  {
   "cell_type": "code",
   "execution_count": 93,
   "id": "9b07266e-212a-4902-a9da-bd6fad92f668",
   "metadata": {},
   "outputs": [
    {
     "data": {
      "text/plain": [
       "array([[1, 2, 1],\n",
       "       [4, 0, 6],\n",
       "       [8, 1, 0]])"
      ]
     },
     "execution_count": 93,
     "metadata": {},
     "output_type": "execute_result"
    }
   ],
   "source": [
    "ar2"
   ]
  },
  {
   "cell_type": "code",
   "execution_count": 94,
   "id": "9887277e-1875-4b51-b1e1-dba22d03b0d0",
   "metadata": {},
   "outputs": [
    {
     "data": {
      "text/plain": [
       "array([[1.        , 1.41421356, 1.        ],\n",
       "       [2.        , 0.        , 2.44948974],\n",
       "       [2.82842712, 1.        , 0.        ]])"
      ]
     },
     "execution_count": 94,
     "metadata": {},
     "output_type": "execute_result"
    }
   ],
   "source": [
    "np.sqrt(ar2)"
   ]
  },
  {
   "cell_type": "code",
   "execution_count": 95,
   "id": "23377897-2bec-4ab2-9b01-7539f113b43e",
   "metadata": {},
   "outputs": [
    {
     "data": {
      "text/plain": [
       "array([[1, 2, 3],\n",
       "       [4, 5, 6],\n",
       "       [7, 1, 0]])"
      ]
     },
     "execution_count": 95,
     "metadata": {},
     "output_type": "execute_result"
    }
   ],
   "source": [
    "ar"
   ]
  },
  {
   "cell_type": "code",
   "execution_count": 96,
   "id": "67b23b6c-b020-4d98-8697-856ff9ba916f",
   "metadata": {},
   "outputs": [
    {
     "data": {
      "text/plain": [
       "29"
      ]
     },
     "execution_count": 96,
     "metadata": {},
     "output_type": "execute_result"
    }
   ],
   "source": [
    "# sum of all element in the array.\n",
    "ar.sum()"
   ]
  },
  {
   "cell_type": "code",
   "execution_count": 97,
   "id": "da210abd-65ab-4d10-9bf7-d29826aa8acb",
   "metadata": {},
   "outputs": [
    {
     "data": {
      "text/plain": [
       "7"
      ]
     },
     "execution_count": 97,
     "metadata": {},
     "output_type": "execute_result"
    }
   ],
   "source": [
    "ar.max()"
   ]
  },
  {
   "cell_type": "code",
   "execution_count": 98,
   "id": "eea6488e-8c82-4c9d-a477-011b4c0372ba",
   "metadata": {},
   "outputs": [
    {
     "data": {
      "text/plain": [
       "array([[1, 2, 1],\n",
       "       [4, 0, 6],\n",
       "       [8, 1, 0]])"
      ]
     },
     "execution_count": 98,
     "metadata": {},
     "output_type": "execute_result"
    }
   ],
   "source": [
    "ar2"
   ]
  },
  {
   "cell_type": "code",
   "execution_count": 99,
   "id": "1579bec4-bc3f-4f41-9c91-01a468b48f43",
   "metadata": {},
   "outputs": [
    {
     "data": {
      "text/plain": [
       "8"
      ]
     },
     "execution_count": 99,
     "metadata": {},
     "output_type": "execute_result"
    }
   ],
   "source": [
    "ar2.max()"
   ]
  },
  {
   "cell_type": "code",
   "execution_count": 100,
   "id": "ef0934f7-7b7b-4a0f-99a4-20bde1d917b8",
   "metadata": {},
   "outputs": [
    {
     "data": {
      "text/plain": [
       "array([[1, 2, 3],\n",
       "       [4, 5, 6],\n",
       "       [7, 1, 0]])"
      ]
     },
     "execution_count": 100,
     "metadata": {},
     "output_type": "execute_result"
    }
   ],
   "source": [
    "ar"
   ]
  },
  {
   "cell_type": "code",
   "execution_count": 101,
   "id": "183b3bf7-a4d7-4e0c-a469-abc7752807de",
   "metadata": {},
   "outputs": [
    {
     "data": {
      "text/plain": [
       "(array([1, 1, 1, 2], dtype=int64), array([0, 1, 2, 0], dtype=int64))"
      ]
     },
     "execution_count": 101,
     "metadata": {},
     "output_type": "execute_result"
    }
   ],
   "source": [
    "np.where(ar>3)  # it gives the index value greater than 3 by rows and by ascending order"
   ]
  },
  {
   "cell_type": "code",
   "execution_count": 102,
   "id": "806daf03-fb22-4f35-afbe-338debc7951b",
   "metadata": {},
   "outputs": [
    {
     "data": {
      "text/plain": [
       "(array([1, 1, 2], dtype=int64), array([1, 2, 0], dtype=int64))"
      ]
     },
     "execution_count": 102,
     "metadata": {},
     "output_type": "execute_result"
    }
   ],
   "source": [
    "np.where(ar>4)  #[1,1,2]"
   ]
  },
  {
   "cell_type": "code",
   "execution_count": 103,
   "id": "83d2bcaa-0e78-45d6-ac12-b779a4a69490",
   "metadata": {},
   "outputs": [
    {
     "data": {
      "text/plain": [
       "(array([1, 2], dtype=int64), array([2, 0], dtype=int64))"
      ]
     },
     "execution_count": 103,
     "metadata": {},
     "output_type": "execute_result"
    }
   ],
   "source": [
    "np.where(ar>5) #"
   ]
  },
  {
   "cell_type": "code",
   "execution_count": 104,
   "id": "0ad29f75-d169-4d95-a8b9-c01803776f91",
   "metadata": {},
   "outputs": [
    {
     "data": {
      "text/plain": [
       "8"
      ]
     },
     "execution_count": 104,
     "metadata": {},
     "output_type": "execute_result"
    }
   ],
   "source": [
    "# Zeros  # It counts total value of non zeros in your array\n",
    "\n",
    "np.count_nonzero(ar)"
   ]
  },
  {
   "cell_type": "code",
   "execution_count": 105,
   "id": "e9ad5b3b-f9cf-478e-a8f1-38845299ba33",
   "metadata": {},
   "outputs": [
    {
     "data": {
      "text/plain": [
       "array([[1, 2, 3],\n",
       "       [4, 5, 6],\n",
       "       [7, 1, 0]])"
      ]
     },
     "execution_count": 105,
     "metadata": {},
     "output_type": "execute_result"
    }
   ],
   "source": [
    "ar"
   ]
  },
  {
   "cell_type": "code",
   "execution_count": 106,
   "id": "337133f9-a7db-4ed3-ba21-7b3ddae4d04d",
   "metadata": {},
   "outputs": [
    {
     "data": {
      "text/plain": [
       "(array([0, 0, 0, 1, 1, 1, 2, 2], dtype=int64),\n",
       " array([0, 1, 2, 0, 1, 2, 0, 1], dtype=int64))"
      ]
     },
     "execution_count": 106,
     "metadata": {},
     "output_type": "execute_result"
    }
   ],
   "source": [
    "np.nonzero(ar)"
   ]
  },
  {
   "cell_type": "markdown",
   "id": "cc0a1e06-0703-47ea-9249-cfd2af908f8b",
   "metadata": {},
   "source": [
    "# Numerical Operations On Numpy Array"
   ]
  },
  {
   "cell_type": "markdown",
   "id": "15a7cc8a-9c96-40fc-b74b-ee70964cd047",
   "metadata": {},
   "source": [
    "# Using Scalars"
   ]
  },
  {
   "cell_type": "code",
   "execution_count": 107,
   "id": "56725bec-b1f6-4c6d-8add-88ad1a03b6a6",
   "metadata": {},
   "outputs": [
    {
     "data": {
      "text/plain": [
       "array([ 2.  ,  3.  ,  7.9 ,  3.3 ,  6.9 ,  0.11, 10.3 , 12.9 ])"
      ]
     },
     "execution_count": 107,
     "metadata": {},
     "output_type": "execute_result"
    }
   ],
   "source": [
    "import numpy as np\n",
    "\n",
    "lst=[2,3,7.9,3.3,6.9,0.11,10.3,12.9]\n",
    "v=np.array(lst)\n",
    "v"
   ]
  },
  {
   "cell_type": "code",
   "execution_count": 108,
   "id": "ccbb8a99-7e28-4bf6-866a-db6bd3f85e4a",
   "metadata": {},
   "outputs": [
    {
     "data": {
      "text/plain": [
       "dtype('float64')"
      ]
     },
     "execution_count": 108,
     "metadata": {},
     "output_type": "execute_result"
    }
   ],
   "source": [
    "v.dtype"
   ]
  },
  {
   "cell_type": "code",
   "execution_count": 109,
   "id": "c813a775-9f9e-4a77-92bf-45d20f38cf99",
   "metadata": {},
   "outputs": [
    {
     "data": {
      "text/plain": [
       "array([ 4.  ,  5.  ,  9.9 ,  5.3 ,  8.9 ,  2.11, 12.3 , 14.9 ])"
      ]
     },
     "execution_count": 109,
     "metadata": {},
     "output_type": "execute_result"
    }
   ],
   "source": [
    "v=v+2\n",
    "v"
   ]
  },
  {
   "cell_type": "code",
   "execution_count": 110,
   "id": "4394da02-5929-4f92-899a-81b7dc291a89",
   "metadata": {},
   "outputs": [
    {
     "name": "stdout",
     "output_type": "stream",
     "text": [
      "[ 4.    5.    9.9   5.3   8.9   2.11 12.3  14.9 ]\n"
     ]
    }
   ],
   "source": [
    "print(v)"
   ]
  },
  {
   "cell_type": "code",
   "execution_count": 111,
   "id": "5fe6cb24-c412-400d-bfb4-cbfdeea822e6",
   "metadata": {},
   "outputs": [
    {
     "name": "stdout",
     "output_type": "stream",
     "text": [
      "[ 8.   10.   19.8  10.6  17.8   4.22 24.6  29.8 ]\n"
     ]
    }
   ],
   "source": [
    "print(v*2)"
   ]
  },
  {
   "cell_type": "code",
   "execution_count": 112,
   "id": "29decea4-5cac-4641-9ece-89ecaf176779",
   "metadata": {},
   "outputs": [
    {
     "name": "stdout",
     "output_type": "stream",
     "text": [
      "[ 2.62  3.62  8.52  3.92  7.52  0.73 10.92 13.52]\n"
     ]
    }
   ],
   "source": [
    "print(v-1.38)"
   ]
  },
  {
   "cell_type": "code",
   "execution_count": 113,
   "id": "c3790449-4f57-4fd1-b55a-82bf39548cd1",
   "metadata": {},
   "outputs": [
    {
     "name": "stdout",
     "output_type": "stream",
     "text": [
      "[ 4.    5.    9.9   5.3   8.9   2.11 12.3  14.9 ]\n"
     ]
    }
   ],
   "source": [
    "print(v)"
   ]
  },
  {
   "cell_type": "code",
   "execution_count": 114,
   "id": "c4a528ea-2f1b-4e26-9a3c-9a69063bdc48",
   "metadata": {},
   "outputs": [
    {
     "name": "stdout",
     "output_type": "stream",
     "text": [
      "[ 16.      25.      98.01    28.09    79.21     4.4521 151.29   222.01  ]\n"
     ]
    }
   ],
   "source": [
    "print(v**2)"
   ]
  },
  {
   "cell_type": "code",
   "execution_count": 115,
   "id": "f2c07a02-201f-43c5-aab3-13a1f52e72cd",
   "metadata": {},
   "outputs": [
    {
     "name": "stdout",
     "output_type": "stream",
     "text": [
      "[ 8.         11.18033989 31.14962279 12.2015163  26.55125232  3.06495204\n",
      " 43.13776768 57.51477202]\n"
     ]
    }
   ],
   "source": [
    "print(v**1.5)"
   ]
  },
  {
   "cell_type": "code",
   "execution_count": 116,
   "id": "11bd0650-9d44-4907-aaba-1fd3f2aa23d8",
   "metadata": {},
   "outputs": [
    {
     "name": "stdout",
     "output_type": "stream",
     "text": [
      "[4, 5, 9.9, 5.3, 8.9, 2.11, 12.3, 14.9]\n"
     ]
    }
   ],
   "source": [
    "result=[]\n",
    "lst=[2,3,7.9,3.3,6.9,0.11,10.3,12.9]\n",
    "\n",
    "for i in lst:\n",
    "    i=i+2\n",
    "    result.append(i)\n",
    "print(result)\n",
    "   # +2 result"
   ]
  },
  {
   "cell_type": "code",
   "execution_count": 117,
   "id": "c3e6ad50-9de2-460f-9d09-26b702eaa3a9",
   "metadata": {},
   "outputs": [
    {
     "name": "stdout",
     "output_type": "stream",
     "text": [
      "[2, 3, 7.9, 3.3, 6.9, 0.11, 10.3, 12.9]\n",
      "[6, 7, 11.9, 7.3, 10.9, 4.11, 14.3, 16.9]\n"
     ]
    }
   ],
   "source": [
    "x=[]\n",
    "print(lst)\n",
    "for val in lst:\n",
    "    x.append(val+4)\n",
    "print(x)"
   ]
  },
  {
   "cell_type": "code",
   "execution_count": 118,
   "id": "13263f5a-0f8e-456b-9487-fdc1666b9292",
   "metadata": {},
   "outputs": [
    {
     "name": "stdout",
     "output_type": "stream",
     "text": [
      "[4, 5, 9.9, 5.3, 8.9, 2.11, 12.3, 14.9]\n"
     ]
    }
   ],
   "source": [
    "res=[val +2 for val in lst]\n",
    "print(res)"
   ]
  },
  {
   "cell_type": "code",
   "execution_count": 119,
   "id": "ad4aad2a-ee5c-4f86-8f32-ec383238ec09",
   "metadata": {},
   "outputs": [
    {
     "data": {
      "text/plain": [
       "[2, 3, 7.9, 3.3, 6.9, 0.11, 10.3, 12.9]"
      ]
     },
     "execution_count": 119,
     "metadata": {},
     "output_type": "execute_result"
    }
   ],
   "source": [
    "lst"
   ]
  },
  {
   "cell_type": "markdown",
   "id": "3b995b9a-53bb-4664-8874-daf7b8cf1ffb",
   "metadata": {},
   "source": [
    "# Arithmetic operations with two arrays."
   ]
  },
  {
   "cell_type": "code",
   "execution_count": 120,
   "id": "5929f9be-47e1-418f-96dc-c994071b7f65",
   "metadata": {},
   "outputs": [
    {
     "name": "stdout",
     "output_type": "stream",
     "text": [
      "Adding to arrays:\n",
      "[[12. 13. 14.]\n",
      " [22. 23. 24.]\n",
      " [32. 33. 34.]]\n"
     ]
    }
   ],
   "source": [
    "a=np.array([[11,12,13],[21,22,23],[31,32,33]])\n",
    "b=np.ones((3,3))\n",
    "\n",
    "print('Adding to arrays:')\n",
    "print(a+b)"
   ]
  },
  {
   "cell_type": "code",
   "execution_count": 121,
   "id": "cb393403-cbb7-4075-8a0b-f8ca728d7e8b",
   "metadata": {},
   "outputs": [
    {
     "data": {
      "text/plain": [
       "array([[1., 1., 1.],\n",
       "       [1., 1., 1.],\n",
       "       [1., 1., 1.]])"
      ]
     },
     "execution_count": 121,
     "metadata": {},
     "output_type": "execute_result"
    }
   ],
   "source": [
    "b=np.ones((3,3))\n",
    "b"
   ]
  },
  {
   "cell_type": "code",
   "execution_count": 122,
   "id": "073e068c-a675-4daa-af85-c3aeae89dd0f",
   "metadata": {},
   "outputs": [
    {
     "name": "stdout",
     "output_type": "stream",
     "text": [
      "[[11 12 13]\n",
      " [21 22 23]\n",
      " [31 32 33]]\n",
      "[[1. 1. 1.]\n",
      " [1. 1. 1.]\n",
      " [1. 1. 1.]]\n"
     ]
    }
   ],
   "source": [
    "print(a)\n",
    "print(b)"
   ]
  },
  {
   "cell_type": "code",
   "execution_count": 123,
   "id": "b345e26e-8434-48cb-923e-d9d1b5815d36",
   "metadata": {},
   "outputs": [
    {
     "name": "stdout",
     "output_type": "stream",
     "text": [
      "Multiplying two arrays:\n",
      "[[ 44.  48.  52.]\n",
      " [ 84.  88.  92.]\n",
      " [124. 128. 132.]]\n"
     ]
    }
   ],
   "source": [
    "print('Multiplying two arrays:')\n",
    "print(a*(b+3))"
   ]
  },
  {
   "cell_type": "markdown",
   "id": "82ada848-d234-4a48-9db7-d5e2dc7da0c2",
   "metadata": {},
   "source": [
    "# Definition of the dot product\n",
    "\n",
    "\n",
    " * __The dot product is defined like this:__\n",
    " * __dot(a,b, out=None)__"
   ]
  },
  {
   "cell_type": "code",
   "execution_count": 124,
   "id": "b2c8ee9d-1303-4085-95eb-7e37bc241384",
   "metadata": {},
   "outputs": [
    {
     "name": "stdout",
     "output_type": "stream",
     "text": [
      "12\n",
      "1\n"
     ]
    }
   ],
   "source": [
    "print(np.dot(3,4))\n",
    "\n",
    "x=np.array([3])\n",
    "y=np.array([4])\n",
    "print(x.ndim)"
   ]
  },
  {
   "cell_type": "code",
   "execution_count": 125,
   "id": "351ad308-1678-4869-98e5-5b5423722f8b",
   "metadata": {},
   "outputs": [
    {
     "name": "stdout",
     "output_type": "stream",
     "text": [
      "1\n",
      "-14\n"
     ]
    }
   ],
   "source": [
    "x=np.array([3,-2])\n",
    "y=np.array([-4,1])\n",
    "\n",
    "print(x.ndim)\n",
    "\n",
    "print(np.dot(x,y))"
   ]
  },
  {
   "cell_type": "code",
   "execution_count": 126,
   "id": "67e84ee6-8abb-4a20-9ab8-f53e0c6f0226",
   "metadata": {},
   "outputs": [
    {
     "name": "stdout",
     "output_type": "stream",
     "text": [
      "32\n"
     ]
    }
   ],
   "source": [
    "array1=np.array([1,2,3])\n",
    "array2=np.array([4,5,6])\n",
    "dot_product=np.dot(array1,array2)\n",
    "print(dot_product)"
   ]
  },
  {
   "cell_type": "code",
   "execution_count": 127,
   "id": "e98dc23c-30d9-4205-95cb-318b415bed52",
   "metadata": {},
   "outputs": [
    {
     "name": "stdout",
     "output_type": "stream",
     "text": [
      "[[1 2 3]\n",
      " [3 2 1]]\n",
      "[[ 2  3  4 -2]\n",
      " [ 1 -1  2  3]\n",
      " [ 1  2  3  0]]\n",
      "(2, 3)\n",
      "(3, 4)\n",
      "[[ 7  7 17  4]\n",
      " [ 9  9 19  0]]\n"
     ]
    }
   ],
   "source": [
    "a=np.array([[1,2,3],[3,2,1]])\n",
    "b=np.array([[2,3,4,-2],[1,-1,2,3],[1,2,3,0]])\n",
    "\n",
    "print(a)\n",
    "print(b)\n",
    "\n",
    "print(a.shape)\n",
    "print(b.shape)\n",
    "\n",
    "print(np.dot(a,b))"
   ]
  },
  {
   "cell_type": "code",
   "execution_count": 128,
   "id": "4c38dffe-b2c3-4b69-a1b0-d3e4e00ad819",
   "metadata": {},
   "outputs": [
    {
     "name": "stdout",
     "output_type": "stream",
     "text": [
      "x.shpae: (4, 2, 3) x.ndmin: 3\n",
      "y.shpae: (2, 3, 5) y.ndmin: 3\n",
      "[[[[ 14  19   5   8   1]\n",
      "   [ 15  15  10  16   3]]\n",
      "\n",
      "  [[ 18  24   8  10   2]\n",
      "   [ 20  20  14  22   2]]]\n",
      "\n",
      "\n",
      " [[[  1   1  -1  -1  -2]\n",
      "   [  3  -3  -3   1  -2]]\n",
      "\n",
      "  [[ -6  -7  -1   0   3]\n",
      "   [-11   1   2  -8   5]]]\n",
      "\n",
      "\n",
      " [[[ 16  21   7   8   1]\n",
      "   [ 19  16  11  20   0]]\n",
      "\n",
      "  [[ 25  32  12  11   1]\n",
      "   [ 32  23  16  33  -4]]]\n",
      "\n",
      "\n",
      " [[[ 11  14   6   5   1]\n",
      "   [ 14  11   8  15  -2]]\n",
      "\n",
      "  [[ 17  23   5   9   0]\n",
      "   [ 19  16  10  19   3]]]]\n"
     ]
    }
   ],
   "source": [
    "x=np.array([[[3,1,2],[4,2,2]],\n",
    "            [[-1,0,1],[1,-1,-2]],\n",
    "            [[3,2,2],[4,4,3]],\n",
    "            [[2,2,1],[3,1,3]]])\n",
    "y=np.array([[[2,3,1,2,1],\n",
    "             [2,2,2,0,0],\n",
    "             [3,4,0,1,-1]],\n",
    "            [[1,4,3,2,2],\n",
    "             [4,1,1,4,-3],\n",
    "             [4,1,0,3,0]]])\n",
    "print('x.shpae:',x.shape,'x.ndmin:',x.ndim)\n",
    "print('y.shpae:',y.shape,'y.ndmin:',y.ndim)\n",
    "\n",
    "\n",
    "r=np.dot(x,y)\n",
    "print(r)"
   ]
  },
  {
   "cell_type": "markdown",
   "id": "bc4b7d1d-59ae-4c6f-99f5-7d1868e92696",
   "metadata": {},
   "source": [
    "# Matrices vs Two-Dimensional arrays"
   ]
  },
  {
   "cell_type": "code",
   "execution_count": 129,
   "id": "55c1d27a-3bb9-4aa3-8142-2bbb5338141a",
   "metadata": {},
   "outputs": [
    {
     "name": "stdout",
     "output_type": "stream",
     "text": [
      "[[ 3  4  3]\n",
      " [ 2  4  6]\n",
      " [-3 -6 -9]]\n"
     ]
    }
   ],
   "source": [
    "x1 = np.array([[1,2,3],[2,2,2],[3,3,3]])\n",
    "y1 =np.array([[3,2,1],[1,2,3],[-1,-2,-3]])\n",
    "\n",
    "r1=x1*y1\n",
    "print(r1)\n",
    "\n",
    "#[3,4,3],[2,4,6],[-3,-6,-9]"
   ]
  },
  {
   "cell_type": "markdown",
   "id": "4d280f34-769b-4e9a-b55d-49d61b589148",
   "metadata": {},
   "source": [
    "# Comparison Opertors"
   ]
  },
  {
   "cell_type": "code",
   "execution_count": 130,
   "id": "11973f12-af17-4c60-a3c3-d1f0dc6dc032",
   "metadata": {},
   "outputs": [
    {
     "data": {
      "text/plain": [
       "array([[ True, False,  True],\n",
       "       [False,  True,  True],\n",
       "       [ True,  True, False]])"
      ]
     },
     "execution_count": 130,
     "metadata": {},
     "output_type": "execute_result"
    }
   ],
   "source": [
    "a2=np.array([[11,12,13],[21,22,23],[31,32,33]])\n",
    "b2=np.array([[11,102,13],[201,22,23],[31,32,303]])\n",
    "\n",
    "a2==b2"
   ]
  },
  {
   "cell_type": "code",
   "execution_count": 131,
   "id": "30363a4e-c77d-44e5-b49d-72c457d36a2d",
   "metadata": {},
   "outputs": [
    {
     "data": {
      "text/plain": [
       "array([[ True, False,  True],\n",
       "       [False,  True,  True],\n",
       "       [ True,  True, False]])"
      ]
     },
     "execution_count": 131,
     "metadata": {},
     "output_type": "execute_result"
    }
   ],
   "source": [
    "a2>=b2"
   ]
  },
  {
   "cell_type": "code",
   "execution_count": 132,
   "id": "fb0972e1-70c8-4938-b00e-50d630dddb86",
   "metadata": {},
   "outputs": [
    {
     "data": {
      "text/plain": [
       "array([[False,  True, False],\n",
       "       [ True, False, False],\n",
       "       [False, False,  True]])"
      ]
     },
     "execution_count": 132,
     "metadata": {},
     "output_type": "execute_result"
    }
   ],
   "source": [
    "a2<b2"
   ]
  },
  {
   "cell_type": "code",
   "execution_count": 133,
   "id": "bb9c7b61-ac2c-45f7-aca2-97cbcdb0c2fc",
   "metadata": {},
   "outputs": [
    {
     "data": {
      "text/plain": [
       "array([[ True,  True,  True],\n",
       "       [ True,  True,  True],\n",
       "       [ True,  True,  True]])"
      ]
     },
     "execution_count": 133,
     "metadata": {},
     "output_type": "execute_result"
    }
   ],
   "source": [
    "a2<=b2"
   ]
  },
  {
   "cell_type": "code",
   "execution_count": 134,
   "id": "a3588ee0-3950-47b0-a41d-d7820ff0ee3e",
   "metadata": {},
   "outputs": [
    {
     "data": {
      "text/plain": [
       "array([[False,  True, False],\n",
       "       [ True, False, False],\n",
       "       [False, False,  True]])"
      ]
     },
     "execution_count": 134,
     "metadata": {},
     "output_type": "execute_result"
    }
   ],
   "source": [
    "a2!=b2"
   ]
  },
  {
   "cell_type": "code",
   "execution_count": 135,
   "id": "0c12eee4-48c9-4d53-a361-edb0d3658cc6",
   "metadata": {},
   "outputs": [
    {
     "data": {
      "text/plain": [
       "array([[False, False, False],\n",
       "       [False, False, False],\n",
       "       [False, False, False]])"
      ]
     },
     "execution_count": 135,
     "metadata": {},
     "output_type": "execute_result"
    }
   ],
   "source": [
    "a2>b2"
   ]
  },
  {
   "cell_type": "code",
   "execution_count": 136,
   "id": "2a303987-7033-4c2c-aed5-290056f4030a",
   "metadata": {},
   "outputs": [
    {
     "data": {
      "text/plain": [
       "array([[11, 12, 13],\n",
       "       [21, 22, 23],\n",
       "       [31, 32, 33]])"
      ]
     },
     "execution_count": 136,
     "metadata": {},
     "output_type": "execute_result"
    }
   ],
   "source": [
    "a2"
   ]
  },
  {
   "cell_type": "code",
   "execution_count": 137,
   "id": "bf754c3e-3675-4148-ae3c-21ce22d46dec",
   "metadata": {},
   "outputs": [
    {
     "data": {
      "text/plain": [
       "array([[ 11, 102,  13],\n",
       "       [201,  22,  23],\n",
       "       [ 31,  32, 303]])"
      ]
     },
     "execution_count": 137,
     "metadata": {},
     "output_type": "execute_result"
    }
   ],
   "source": [
    "b2"
   ]
  },
  {
   "cell_type": "code",
   "execution_count": 138,
   "id": "6d8e9521-b46c-4378-8264-7d021d638683",
   "metadata": {},
   "outputs": [
    {
     "name": "stdout",
     "output_type": "stream",
     "text": [
      "[[ True False]\n",
      " [False False]]\n",
      "[[ True  True]\n",
      " [ True False]]\n"
     ]
    }
   ],
   "source": [
    "a3=np.array([[True,True],[False,False]])\n",
    "a4= np.array([[True,False],[True,False]])\n",
    "\n",
    "print(np.logical_and(a3,a4))\n",
    "\n",
    "print(np.logical_or(a3,a4)) "
   ]
  },
  {
   "cell_type": "markdown",
   "id": "29d178af-37a3-4577-9ccd-ce54c94e60de",
   "metadata": {},
   "source": [
    "# Applying operators on arrays with different shpaes"
   ]
  },
  {
   "cell_type": "code",
   "execution_count": 139,
   "id": "febb21ce-5e1c-475e-b76b-e131178d5f3a",
   "metadata": {},
   "outputs": [
    {
     "name": "stdout",
     "output_type": "stream",
     "text": [
      "[[11 24 39]\n",
      " [21 44 69]\n",
      " [31 64 99]]\n"
     ]
    }
   ],
   "source": [
    "a1=np.array([[11,12,13],[21,22,23],[31,32,33]])\n",
    "a2=np.array([1,2,3])\n",
    "\n",
    "print(a1*a2)"
   ]
  },
  {
   "cell_type": "code",
   "execution_count": 140,
   "id": "61a0f201-6834-46e0-8a0e-0129b4011071",
   "metadata": {},
   "outputs": [
    {
     "name": "stdout",
     "output_type": "stream",
     "text": [
      "[[12 14 16]\n",
      " [22 24 26]\n",
      " [32 34 36]]\n"
     ]
    }
   ],
   "source": [
    "print(a1+a2)"
   ]
  },
  {
   "cell_type": "code",
   "execution_count": 141,
   "id": "745b2234-cd29-421a-8204-cc4ba6fd7ed8",
   "metadata": {},
   "outputs": [
    {
     "name": "stdout",
     "output_type": "stream",
     "text": [
      "[[11.          6.          4.33333333]\n",
      " [21.         11.          7.66666667]\n",
      " [31.         16.         11.        ]]\n"
     ]
    }
   ],
   "source": [
    "print(a1/a2)    #float"
   ]
  },
  {
   "cell_type": "code",
   "execution_count": 142,
   "id": "b258d64d-9537-4977-ada5-797498837550",
   "metadata": {},
   "outputs": [
    {
     "name": "stdout",
     "output_type": "stream",
     "text": [
      "[[11  6  4]\n",
      " [21 11  7]\n",
      " [31 16 11]]\n"
     ]
    }
   ],
   "source": [
    "print(a1//a2)"
   ]
  },
  {
   "cell_type": "code",
   "execution_count": 143,
   "id": "fb6e8dd7-7071-4f1e-a9be-7c00b5cc88a4",
   "metadata": {},
   "outputs": [
    {
     "name": "stdout",
     "output_type": "stream",
     "text": [
      "[[   11   144  2197]\n",
      " [   21   484 12167]\n",
      " [   31  1024 35937]]\n"
     ]
    }
   ],
   "source": [
    "print(a1**a2)"
   ]
  },
  {
   "cell_type": "markdown",
   "id": "f1a86378-8a7a-4157-9624-7f79c4b63a2c",
   "metadata": {},
   "source": [
    "# Numpy Arrays: Concatenationg, Flattening and Adding Dimension"
   ]
  },
  {
   "cell_type": "code",
   "execution_count": 144,
   "id": "93ccc960-f175-4456-bb2c-840af91d946d",
   "metadata": {},
   "outputs": [
    {
     "name": "stdout",
     "output_type": "stream",
     "text": [
      "[ 0  1  2  3  4  5  6  7  8  9 10 11 12 13 14 15 16 17 18 19 20 21 21 23]\n"
     ]
    }
   ],
   "source": [
    "a = np.array([[[0,1],\n",
    "               [2,3],\n",
    "               [4,5],\n",
    "               [6,7]],\n",
    "              [[8,9],\n",
    "               [10,11],\n",
    "               [12,13],\n",
    "               [14,15]],\n",
    "              [[16,17],\n",
    "               [18,19],\n",
    "               [20,21],\n",
    "               [21,23]]])\n",
    "x=a.flatten()\n",
    "print(x)"
   ]
  },
  {
   "cell_type": "code",
   "execution_count": 145,
   "id": "eb4fca38-b063-43ca-9cea-a789262ff2bd",
   "metadata": {},
   "outputs": [
    {
     "data": {
      "text/plain": [
       "array([ 0,  1,  2,  3,  4,  5,  6,  7,  8,  9, 10, 11, 12, 13, 14, 15, 16,\n",
       "       17, 18, 19, 20, 21, 21, 23])"
      ]
     },
     "execution_count": 145,
     "metadata": {},
     "output_type": "execute_result"
    }
   ],
   "source": [
    "x.ravel()"
   ]
  },
  {
   "cell_type": "code",
   "execution_count": 146,
   "id": "b04b4883-7020-4062-ab20-a528d0f7bce5",
   "metadata": {},
   "outputs": [],
   "source": [
    "# 7301530985 "
   ]
  },
  {
   "cell_type": "code",
   "execution_count": 147,
   "id": "b73c5a65-3ee0-4375-a58e-b9171da4340b",
   "metadata": {},
   "outputs": [],
   "source": [
    "# 1. Create an one dimensional array called \"V\".\n",
    "# 2. Create a new array consists of the odd indices of previously created array \"V\".\n",
    "# 3. Create a new array backwards ordering from v.\n",
    "# 4. What will be the output of the following code:\n",
    "    # a= np.array([1,2,3,4,5])\n",
    "    # b=a[1:4]\n",
    "    # b[0]=200\n",
    "    # print(a[1])\n",
    "# 5. Create two dimensional array called \"m\".\n",
    "# 6. Create a new array from m, in which the elements of each row are in reverse order.\n",
    "# 7. Another one, where the rows are in reverse order.\n",
    "# 8. Create an array from m, where columns and rows are in reverse order.\n",
    "# 9. Cut of the first and last row and the first and last column."
   ]
  },
  {
   "cell_type": "code",
   "execution_count": 148,
   "id": "deab5b08-ce84-4899-b6e3-487ef3b9c514",
   "metadata": {},
   "outputs": [
    {
     "name": "stdout",
     "output_type": "stream",
     "text": [
      "[[ 5  7  9  3 25 11 27 33]]\n"
     ]
    }
   ],
   "source": [
    "import numpy as np\n",
    "v=np.array([5,7,9,3,44,68,25,74,11,4,27,33,8])\n",
    "x=[]\n",
    "for i in v:\n",
    "    if i%2!=0:\n",
    "        x.append(i)\n",
    "\n",
    "n=np.array([x])\n",
    "print(n)"
   ]
  },
  {
   "cell_type": "code",
   "execution_count": 149,
   "id": "6cf95bc7-d32d-4b77-ba8c-9f5d3ebfe0d0",
   "metadata": {},
   "outputs": [
    {
     "data": {
      "text/plain": [
       "array([ 3,  8, 12, 18,  7, 11, 30])"
      ]
     },
     "execution_count": 149,
     "metadata": {},
     "output_type": "execute_result"
    }
   ],
   "source": [
    "# 1. Create an one dimensional array called \"V\".\n",
    "\n",
    "a = np.array([3,8,12,18,7,11,30])\n",
    "a"
   ]
  },
  {
   "cell_type": "code",
   "execution_count": 150,
   "id": "4c7a7f36-58e1-4d32-8fab-f7b3503a562c",
   "metadata": {},
   "outputs": [
    {
     "name": "stdout",
     "output_type": "stream",
     "text": [
      "[[ 3  7 11]]\n"
     ]
    }
   ],
   "source": [
    "# 2. Create a new array consists of the odd indices of previously created array \"V\".\n",
    "v = np.array([3,8,12,18,7,11,30])\n",
    "x=[]\n",
    "for i in v:\n",
    "    if i%2!=0:\n",
    "        x.append(i)\n",
    "\n",
    "n=np.array([x])\n",
    "print(n)"
   ]
  },
  {
   "cell_type": "code",
   "execution_count": 151,
   "id": "74bf97dc-6621-4515-8ae5-e7e44406a311",
   "metadata": {},
   "outputs": [
    {
     "name": "stdout",
     "output_type": "stream",
     "text": [
      "[ 3 12  7 30]\n"
     ]
    }
   ],
   "source": [
    "# another method\n",
    "v = np.array([3,8,12,18,7,11,30])\n",
    "odd_element=v[::2]\n",
    "print(odd_element)"
   ]
  },
  {
   "cell_type": "code",
   "execution_count": 152,
   "id": "0c517811-a87c-4cf9-a304-d4858982c1c3",
   "metadata": {},
   "outputs": [
    {
     "name": "stdout",
     "output_type": "stream",
     "text": [
      "[ 3  8 12 18  7 11 30]\n",
      "[30 11  7 18 12  8  3]\n"
     ]
    }
   ],
   "source": [
    "# 3. Create a new array backwards ordering from v.\n",
    "print(v)\n",
    "reverse_order=v[::-1]\n",
    "print(reverse_order)"
   ]
  },
  {
   "cell_type": "code",
   "execution_count": 153,
   "id": "3c3c573f-c9b7-4fea-b7f0-cfbffc4e5c82",
   "metadata": {},
   "outputs": [
    {
     "name": "stdout",
     "output_type": "stream",
     "text": [
      "[2 3 4]\n",
      "[200   3   4]\n",
      "200\n",
      "200\n"
     ]
    }
   ],
   "source": [
    "# 4. What will be the output of the following code:\n",
    "    # a= np.array([1,2,3,4,5])\n",
    "    # b[0]=200\n",
    "    # print(a[1])\n",
    "\n",
    "a= np.array([1,2,3,4,5])\n",
    "b=a[1:4]  # slicing method\n",
    "print(b)\n",
    "b[0]=200\n",
    "print(b)\n",
    "print(b[0])\n",
    "print(a[1])"
   ]
  },
  {
   "cell_type": "code",
   "execution_count": 154,
   "id": "90aa0878-c2fc-49a1-9304-ba2fb86e902e",
   "metadata": {},
   "outputs": [
    {
     "data": {
      "text/plain": [
       "array([[11, 12, 13, 14],\n",
       "       [21, 22, 23, 24],\n",
       "       [31, 32, 33, 34]])"
      ]
     },
     "execution_count": 154,
     "metadata": {},
     "output_type": "execute_result"
    }
   ],
   "source": [
    "# 5. Create two dimensional array called \"m\".\n",
    "\n",
    "m=np.array([[11,12,13,14],[21,22,23,24],[31,32,33,34]])\n",
    "\n",
    "m"
   ]
  },
  {
   "cell_type": "code",
   "execution_count": 155,
   "id": "a6dc93da-d340-4767-bce6-b2f88bf38bed",
   "metadata": {},
   "outputs": [
    {
     "name": "stdout",
     "output_type": "stream",
     "text": [
      "[[11 12 13 14]\n",
      " [21 22 23 24]\n",
      " [31 32 33 34]]\n"
     ]
    },
    {
     "data": {
      "text/plain": [
       "array([[14, 13, 12, 11],\n",
       "       [24, 23, 22, 21],\n",
       "       [34, 33, 32, 31]])"
      ]
     },
     "execution_count": 155,
     "metadata": {},
     "output_type": "execute_result"
    }
   ],
   "source": [
    "# 6. Create a new array from m, in which the elements of each row are in reverse order.\n",
    "print(m)\n",
    "m[::,::-1]"
   ]
  },
  {
   "cell_type": "code",
   "execution_count": 156,
   "id": "597461d7-b62e-41ac-9eee-b77b78dac3e2",
   "metadata": {},
   "outputs": [
    {
     "name": "stdout",
     "output_type": "stream",
     "text": [
      "[[11 12 13 14]\n",
      " [21 22 23 24]\n",
      " [31 32 33 34]]\n"
     ]
    },
    {
     "data": {
      "text/plain": [
       "array([[31, 32, 33, 34],\n",
       "       [21, 22, 23, 24],\n",
       "       [11, 12, 13, 14]])"
      ]
     },
     "execution_count": 156,
     "metadata": {},
     "output_type": "execute_result"
    }
   ],
   "source": [
    "# 7. Another one, where the rows are in reverse order.\n",
    "print(m)\n",
    "m[::-1]"
   ]
  },
  {
   "cell_type": "code",
   "execution_count": 157,
   "id": "9572e316-9763-401a-931e-6f92abcbe285",
   "metadata": {},
   "outputs": [
    {
     "name": "stdout",
     "output_type": "stream",
     "text": [
      "[[11 12 13 14]\n",
      " [21 22 23 24]\n",
      " [31 32 33 34]]\n"
     ]
    },
    {
     "data": {
      "text/plain": [
       "array([[34, 33, 32, 31],\n",
       "       [24, 23, 22, 21],\n",
       "       [14, 13, 12, 11]])"
      ]
     },
     "execution_count": 157,
     "metadata": {},
     "output_type": "execute_result"
    }
   ],
   "source": [
    "# 8. Create an array from m, where columns and rows are in reverse order.\n",
    "print(m)\n",
    "m[::-1,::-1]"
   ]
  },
  {
   "cell_type": "code",
   "execution_count": 158,
   "id": "5317c2d4-626c-42d1-b714-2f054a0de338",
   "metadata": {},
   "outputs": [
    {
     "name": "stdout",
     "output_type": "stream",
     "text": [
      "[[11 12 13 14]\n",
      " [21 22 23 24]\n",
      " [31 32 33 34]]\n"
     ]
    },
    {
     "data": {
      "text/plain": [
       "array([[22, 23]])"
      ]
     },
     "execution_count": 158,
     "metadata": {},
     "output_type": "execute_result"
    }
   ],
   "source": [
    "# 9. Cut of the first and last row and the first and last column.\n",
    "print(m)\n",
    "m[1:-1,1:-1]"
   ]
  },
  {
   "cell_type": "code",
   "execution_count": 159,
   "id": "70dc153f-75e4-44d8-b783-cdf2e6e5ed53",
   "metadata": {},
   "outputs": [
    {
     "data": {
      "text/plain": [
       "array([[1, 2, 3],\n",
       "       [4, 5, 6],\n",
       "       [7, 1, 0]])"
      ]
     },
     "execution_count": 159,
     "metadata": {},
     "output_type": "execute_result"
    }
   ],
   "source": [
    "ar=np.array([[1,2,3],\n",
    "             [4,5,6],\n",
    "             [7,1,0]])\n",
    "\n",
    "ar"
   ]
  },
  {
   "cell_type": "code",
   "execution_count": 160,
   "id": "aef0c4b3-5565-4a4e-8261-ee851cfd8e26",
   "metadata": {},
   "outputs": [
    {
     "data": {
      "text/plain": [
       "7"
      ]
     },
     "execution_count": 160,
     "metadata": {},
     "output_type": "execute_result"
    }
   ],
   "source": [
    "\n",
    "np.max(ar)"
   ]
  },
  {
   "cell_type": "code",
   "execution_count": 161,
   "id": "451cceb6-c45e-4cb1-be42-9ceeb380bae0",
   "metadata": {},
   "outputs": [
    {
     "data": {
      "text/plain": [
       "(array([1, 1, 1, 2], dtype=int64), array([0, 1, 2, 0], dtype=int64))"
      ]
     },
     "execution_count": 161,
     "metadata": {},
     "output_type": "execute_result"
    }
   ],
   "source": [
    "# condition applied in array to finding the max value in the array.\n",
    "np.where(ar>3)   # [4,5,6,7]"
   ]
  },
  {
   "cell_type": "code",
   "execution_count": 162,
   "id": "17934c81-468a-42c7-b3b7-dc5cba9020df",
   "metadata": {},
   "outputs": [
    {
     "data": {
      "text/plain": [
       "(array([1, 1, 2], dtype=int64), array([1, 2, 0], dtype=int64))"
      ]
     },
     "execution_count": 162,
     "metadata": {},
     "output_type": "execute_result"
    }
   ],
   "source": [
    "np.where(ar>4)"
   ]
  },
  {
   "cell_type": "code",
   "execution_count": 163,
   "id": "64af0c4d-c37a-4ec1-8579-f038639c3429",
   "metadata": {},
   "outputs": [
    {
     "data": {
      "text/plain": [
       "(array([1, 2], dtype=int64), array([2, 0], dtype=int64))"
      ]
     },
     "execution_count": 163,
     "metadata": {},
     "output_type": "execute_result"
    }
   ],
   "source": [
    "np.where(ar>5)"
   ]
  },
  {
   "cell_type": "code",
   "execution_count": 164,
   "id": "eaf3bc4a-34b4-4b6d-85c6-93d44625888b",
   "metadata": {},
   "outputs": [
    {
     "data": {
      "text/plain": [
       "(array([0, 2, 2], dtype=int64), array([0, 1, 2], dtype=int64))"
      ]
     },
     "execution_count": 164,
     "metadata": {},
     "output_type": "execute_result"
    }
   ],
   "source": [
    "np.where(ar<2)"
   ]
  },
  {
   "cell_type": "code",
   "execution_count": 165,
   "id": "28dc4581-92b5-402b-9c71-39b0f901fa67",
   "metadata": {},
   "outputs": [
    {
     "data": {
      "text/plain": [
       "(array([0, 0, 0, 1, 1, 1, 2, 2], dtype=int64),\n",
       " array([0, 1, 2, 0, 1, 2, 0, 1], dtype=int64))"
      ]
     },
     "execution_count": 165,
     "metadata": {},
     "output_type": "execute_result"
    }
   ],
   "source": [
    "np.nonzero(ar)"
   ]
  },
  {
   "cell_type": "markdown",
   "id": "35d728bb-1f49-4300-9fbb-7bb25225c53b",
   "metadata": {},
   "source": [
    "# Random Number and Probability"
   ]
  },
  {
   "cell_type": "code",
   "execution_count": 166,
   "id": "fa784333-7dbb-4fc2-8bc2-0017e433dfef",
   "metadata": {},
   "outputs": [],
   "source": [
    "# dice=[1,2,3,4,5,6]"
   ]
  },
  {
   "cell_type": "code",
   "execution_count": 167,
   "id": "e55d2bae-eddf-4f1b-b4ae-895fa2ab4119",
   "metadata": {},
   "outputs": [
    {
     "name": "stdout",
     "output_type": "stream",
     "text": [
      "0.1825325032638735\n"
     ]
    }
   ],
   "source": [
    "import random\n",
    "\n",
    "random_number=random.random()\n",
    "print(random_number)"
   ]
  },
  {
   "cell_type": "code",
   "execution_count": 168,
   "id": "8a6abf7a-55f5-4731-9bc6-68d92036017c",
   "metadata": {},
   "outputs": [
    {
     "ename": "TypeError",
     "evalue": "'numpy.ndarray' object is not callable",
     "output_type": "error",
     "traceback": [
      "\u001b[1;31m---------------------------------------------------------------------------\u001b[0m",
      "\u001b[1;31mTypeError\u001b[0m                                 Traceback (most recent call last)",
      "Cell \u001b[1;32mIn[168], line 2\u001b[0m\n\u001b[0;32m      1\u001b[0m x\u001b[38;5;241m=\u001b[39mrandom\u001b[38;5;241m.\u001b[39mSystemRandom()\n\u001b[1;32m----> 2\u001b[0m [x\u001b[38;5;241m.\u001b[39mrandom() \u001b[38;5;28;01mfor\u001b[39;00m _ \u001b[38;5;129;01min\u001b[39;00m \u001b[38;5;28;43mrange\u001b[39;49m\u001b[43m(\u001b[49m\u001b[38;5;241;43m10\u001b[39;49m\u001b[43m)\u001b[49m]\n",
      "\u001b[1;31mTypeError\u001b[0m: 'numpy.ndarray' object is not callable"
     ]
    }
   ],
   "source": [
    "x=random.SystemRandom()\n",
    "[x.random() for _ in range(10)]"
   ]
  },
  {
   "cell_type": "code",
   "execution_count": 169,
   "id": "9c18171b-2545-4f9f-a20d-5b807533d9e6",
   "metadata": {},
   "outputs": [
    {
     "name": "stdout",
     "output_type": "stream",
     "text": [
      "2\n"
     ]
    }
   ],
   "source": [
    "outcome=random.randint(1,6)\n",
    "print(outcome)"
   ]
  },
  {
   "cell_type": "code",
   "execution_count": 170,
   "id": "a2943050-a20c-4a33-aa4a-678ffe7b8bca",
   "metadata": {},
   "outputs": [
    {
     "ename": "TypeError",
     "evalue": "'numpy.ndarray' object is not callable",
     "output_type": "error",
     "traceback": [
      "\u001b[1;31m---------------------------------------------------------------------------\u001b[0m",
      "\u001b[1;31mTypeError\u001b[0m                                 Traceback (most recent call last)",
      "Cell \u001b[1;32mIn[170], line 5\u001b[0m\n\u001b[0;32m      1\u001b[0m \u001b[38;5;66;03m# [1,6] [10]\u001b[39;00m\n\u001b[0;32m      2\u001b[0m \n\u001b[0;32m      3\u001b[0m \u001b[38;5;66;03m# [1,2,3,4,5,6,1,3,5,4]\u001b[39;00m\n\u001b[1;32m----> 5\u001b[0m [random\u001b[38;5;241m.\u001b[39mrandint(\u001b[38;5;241m1\u001b[39m,\u001b[38;5;241m6\u001b[39m) \u001b[38;5;28;01mfor\u001b[39;00m _ \u001b[38;5;129;01min\u001b[39;00m \u001b[38;5;28;43mrange\u001b[39;49m\u001b[43m(\u001b[49m\u001b[38;5;241;43m10\u001b[39;49m\u001b[43m)\u001b[49m ]\n",
      "\u001b[1;31mTypeError\u001b[0m: 'numpy.ndarray' object is not callable"
     ]
    }
   ],
   "source": [
    "# [1,6] [10]\n",
    "\n",
    "# [1,2,3,4,5,6,1,3,5,4]\n",
    "\n",
    "[random.randint(1,6) for _ in range(10) ]"
   ]
  },
  {
   "cell_type": "code",
   "execution_count": 171,
   "id": "3b0c527d-890b-454c-915c-61f5bb649904",
   "metadata": {},
   "outputs": [
    {
     "name": "stdout",
     "output_type": "stream",
     "text": [
      "[1 3 3 5 2 1 2 4 1 3]\n"
     ]
    }
   ],
   "source": [
    "outcome=np.random.randint(1,6,size=10)\n",
    "print(outcome)"
   ]
  },
  {
   "cell_type": "code",
   "execution_count": 172,
   "id": "758ac209-53b6-4e8e-9492-bc862c395382",
   "metadata": {},
   "outputs": [
    {
     "name": "stdout",
     "output_type": "stream",
     "text": [
      "6\n",
      "[4 2 3 4 6 5 1 3 1 2]\n",
      "[1 2 1 4 3 4 3 5 3 6]\n",
      "[[4 2 1 3]\n",
      " [6 5 1 1]\n",
      " [4 2 2 1]\n",
      " [1 6 6 3]\n",
      " [6 4 3 4]]\n"
     ]
    }
   ],
   "source": [
    "print(np.random.randint(1,7))\n",
    "print(np.random.randint(1,7,size=10))\n",
    "\n",
    "print(np.random.randint(1,7,size=(10,)))\n",
    "print(np.random.randint(1,7,size=(5,4)))"
   ]
  },
  {
   "cell_type": "markdown",
   "id": "01490e84-0ebf-496f-a1a0-a5cab14172d8",
   "metadata": {},
   "source": [
    "# Random choices with Python"
   ]
  },
  {
   "cell_type": "code",
   "execution_count": 173,
   "id": "f05b600a-9717-47c5-b7fe-53e278a044f5",
   "metadata": {},
   "outputs": [
    {
     "name": "stdout",
     "output_type": "stream",
     "text": [
      "Milan\n"
     ]
    }
   ],
   "source": [
    "from random import choice\n",
    "possible_destinations=[\"Berlin\",\"Hamburg\",\"Munich\",\"Amsterdam\",\"London\",\"Paris\",\"Zurich\",\n",
    "                       \"Heidelberg\",\"Strasbourg\",\"Augsburg\",\n",
    "                       \"Milan\",\"Rome\",\"Italy\"]\n",
    "print(choice(possible_destinations))"
   ]
  },
  {
   "cell_type": "code",
   "execution_count": 174,
   "id": "b5c4bf64-8629-473f-9796-3eef8c3bde59",
   "metadata": {},
   "outputs": [
    {
     "name": "stdout",
     "output_type": "stream",
     "text": [
      "[['London' 'Paris' 'Milan' 'Hamburg']\n",
      " ['Augsburg' 'Augsburg' 'Munich' 'Paris']\n",
      " ['Amsterdam' 'Italy' 'Italy' 'Paris']]\n"
     ]
    }
   ],
   "source": [
    "from numpy.random import choice\n",
    "x2=choice(possible_destinations, size=(3,4))\n",
    "print(x2)"
   ]
  },
  {
   "cell_type": "markdown",
   "id": "d74b0154-e327-4f05-9683-e97e35126bd3",
   "metadata": {},
   "source": [
    "# You might have noticed that the cities names can have multiple occurrences. We can prevent this by setting the optional parameter \"replace\" to \"False\"."
   ]
  },
  {
   "cell_type": "code",
   "execution_count": 175,
   "id": "1a2a90b9-6060-4899-a5e7-90348e086265",
   "metadata": {},
   "outputs": [
    {
     "name": "stdout",
     "output_type": "stream",
     "text": [
      "[['Milan' 'Berlin' 'Augsburg' 'Paris']\n",
      " ['Italy' 'London' 'Rome' 'Heidelberg']\n",
      " ['Amsterdam' 'Zurich' 'Strasbourg' 'Munich']]\n"
     ]
    }
   ],
   "source": [
    "print(choice(possible_destinations, size=(3,4),replace=False))"
   ]
  },
  {
   "cell_type": "markdown",
   "id": "29d1b0c3-d16b-4938-af23-2d9c12856ded",
   "metadata": {},
   "source": [
    "# Random Samples with Python"
   ]
  },
  {
   "cell_type": "code",
   "execution_count": 178,
   "id": "46979d85-f1ce-4987-9637-aeb98a951f2f",
   "metadata": {},
   "outputs": [
    {
     "name": "stdout",
     "output_type": "stream",
     "text": [
      "[[0.675031   0.35233015 0.00322573 0.09129701]\n",
      " [0.39490051 0.21824904 0.0194597  0.78680297]\n",
      " [0.60494131 0.95666859 0.32280206 0.98010173]]\n"
     ]
    }
   ],
   "source": [
    "x = np.random.random_sample((3,4))\n",
    "\n",
    "print(x)"
   ]
  },
  {
   "cell_type": "code",
   "execution_count": 180,
   "id": "83ca03e7-1e8e-44ab-bc36-9b5eda816170",
   "metadata": {},
   "outputs": [
    {
     "data": {
      "text/plain": [
       "array([0.02009716, 0.35868381, 0.03687059, 0.57012127, 0.36069633,\n",
       "       0.30395408, 0.92991194])"
      ]
     },
     "execution_count": 180,
     "metadata": {},
     "output_type": "execute_result"
    }
   ],
   "source": [
    "x = np.random.random_sample(7)\n",
    "x"
   ]
  },
  {
   "cell_type": "code",
   "execution_count": 196,
   "id": "3031b472-da3b-46a9-ad63-4cb630e0d48b",
   "metadata": {},
   "outputs": [
    {
     "data": {
      "text/plain": [
       "array([[0.60810656, 0.54784179],\n",
       "       [0.9742943 , 0.60917882],\n",
       "       [0.03728713, 0.44738944],\n",
       "       [0.82757173, 0.9122241 ],\n",
       "       [0.12801386, 0.36750228],\n",
       "       [0.58564218, 0.00684201],\n",
       "       [0.80418689, 0.01391009]])"
      ]
     },
     "execution_count": 196,
     "metadata": {},
     "output_type": "execute_result"
    }
   ],
   "source": [
    "x = np.random.random_sample((7,2))\n",
    "x"
   ]
  },
  {
   "cell_type": "code",
   "execution_count": null,
   "id": "19a45abb-e78f-402a-be0b-e2511fd99334",
   "metadata": {},
   "outputs": [],
   "source": [
    "# 1. Create a null value of size 10 but the fifth value which is 1.\n",
    "# 2. Create a numpy value ranging from 10 to 49.\n",
    "# 3. Reverse the value (first element become the last).\n",
    "# 4. Create a 3x3 matrix with values ranging from 0 to 8.\n",
    "# 5. find the indices of non-zero elements from [1,2,0,0,4,0].\n",
    "# 6. Create a 3x3 identity matrix\n",
    "# 7. Create a 3x3x3 array with random values.\n",
    "# 8. Create a 10x10 array with random values and find the minimum and mamimum values.\n",
    "# 9. Create random number of size 30 and find the mean value.\n",
    "# 10. Create a 2d array with 1 on the border and 0 inside.\n",
    "# 11. Create a 5x5 matrix with values 1,2,3,4 just below the diagonal.\n",
    "# 12. Create a random value of size 10 and sort it.\n",
    "# -----------------------------------End--------------------------------------------"
   ]
  },
  {
   "cell_type": "code",
   "execution_count": 5,
   "id": "04e0dcef-2660-4efd-a79d-ba1d6269c77b",
   "metadata": {},
   "outputs": [
    {
     "name": "stdout",
     "output_type": "stream",
     "text": [
      "[0. 0. 0. 0. 1. 0. 0. 0. 0. 0.]\n"
     ]
    }
   ],
   "source": [
    "# 1. Create a null value of size 10 but the fifth value which is 1.\n",
    "import numpy as np\n",
    "\n",
    "z=np.zeros(10)\n",
    "z[4]=1\n",
    "print(z)"
   ]
  },
  {
   "cell_type": "code",
   "execution_count": 6,
   "id": "41ba6bfc-3ca7-446c-aaaf-1aabcec77f39",
   "metadata": {},
   "outputs": [
    {
     "name": "stdout",
     "output_type": "stream",
     "text": [
      "[10 11 12 13 14 15 16 17 18 19 20 21 22 23 24 25 26 27 28 29 30 31 32 33\n",
      " 34 35 36 37 38 39 40 41 42 43 44 45 46 47 48 49]\n"
     ]
    }
   ],
   "source": [
    "# 2. Create a numpy value ranging from 10 to 49.\n",
    "z=np.arange(10,50)\n",
    "print(z)"
   ]
  },
  {
   "cell_type": "code",
   "execution_count": 8,
   "id": "c431366d-b71e-4089-a72b-aa5911586e14",
   "metadata": {},
   "outputs": [
    {
     "data": {
      "text/plain": [
       "array([49, 48, 47, 46, 45, 44, 43, 42, 41, 40, 39, 38, 37, 36, 35, 34, 33,\n",
       "       32, 31, 30, 29, 28, 27, 26, 25, 24, 23, 22, 21, 20, 19, 18, 17, 16,\n",
       "       15, 14, 13, 12, 11, 10,  9,  8,  7,  6,  5,  4,  3,  2,  1,  0])"
      ]
     },
     "execution_count": 8,
     "metadata": {},
     "output_type": "execute_result"
    }
   ],
   "source": [
    "# 3. Reverse the value (first element become the last).\n",
    "z= np.arange(50)\n",
    "z=z[::-1]\n",
    "z"
   ]
  },
  {
   "cell_type": "code",
   "execution_count": 9,
   "id": "771f5eea-d697-42bb-a7ac-f3eb24501ecb",
   "metadata": {},
   "outputs": [
    {
     "data": {
      "text/plain": [
       "array([[0, 1, 2],\n",
       "       [3, 4, 5],\n",
       "       [6, 7, 8]])"
      ]
     },
     "execution_count": 9,
     "metadata": {},
     "output_type": "execute_result"
    }
   ],
   "source": [
    "# 4. Create a 3x3 matrix with values ranging from 0 to 8.\n",
    "z=np.arange(9).reshape(3,3)\n",
    "z"
   ]
  },
  {
   "cell_type": "code",
   "execution_count": 10,
   "id": "ba82d392-b0b3-4e42-b09c-d99ec0a6f90f",
   "metadata": {},
   "outputs": [
    {
     "data": {
      "text/plain": [
       "(array([0, 1, 4], dtype=int64),)"
      ]
     },
     "execution_count": 10,
     "metadata": {},
     "output_type": "execute_result"
    }
   ],
   "source": [
    "# 5. find the indices of non-zero elements from [1,2,0,0,4,0].\n",
    "\n",
    "l=np.array([1,2,0,0,4,0])\n",
    "np.where(l)"
   ]
  },
  {
   "cell_type": "code",
   "execution_count": 11,
   "id": "8bfb9061-21c0-4533-a440-3e9a2269ff12",
   "metadata": {},
   "outputs": [
    {
     "name": "stdout",
     "output_type": "stream",
     "text": [
      "(array([0, 1, 4], dtype=int64),)\n"
     ]
    }
   ],
   "source": [
    "nz=np.nonzero([1,2,0,0,4,0])\n",
    "print(nz)"
   ]
  },
  {
   "cell_type": "code",
   "execution_count": 13,
   "id": "5c08f996-9dae-4d24-80ae-7db43d94b9a1",
   "metadata": {},
   "outputs": [
    {
     "data": {
      "text/plain": [
       "array([[1., 0., 0.],\n",
       "       [0., 1., 0.],\n",
       "       [0., 0., 1.]])"
      ]
     },
     "execution_count": 13,
     "metadata": {},
     "output_type": "execute_result"
    }
   ],
   "source": [
    "# 6. Create a 3x3 identity matrix\n",
    "\n",
    "np.identity(3)"
   ]
  },
  {
   "cell_type": "code",
   "execution_count": 14,
   "id": "d4e2a4bf-08c8-4bdd-bcb7-80dcdc2e91df",
   "metadata": {},
   "outputs": [
    {
     "data": {
      "text/plain": [
       "array([[1., 0., 0.],\n",
       "       [0., 1., 0.],\n",
       "       [0., 0., 1.]])"
      ]
     },
     "execution_count": 14,
     "metadata": {},
     "output_type": "execute_result"
    }
   ],
   "source": [
    "x=np.eye(3)\n",
    "x"
   ]
  },
  {
   "cell_type": "code",
   "execution_count": 21,
   "id": "2b857620-ff4a-45aa-bb41-417dd88577c8",
   "metadata": {},
   "outputs": [
    {
     "name": "stdout",
     "output_type": "stream",
     "text": [
      "[[[0.34158662 0.91012483 0.43667041]\n",
      "  [0.39364164 0.82785621 0.6975901 ]\n",
      "  [0.87222441 0.34966545 0.87653509]]\n",
      "\n",
      " [[0.64331809 0.89360008 0.98483531]\n",
      "  [0.04245721 0.08297474 0.59503122]\n",
      "  [0.45946696 0.28109201 0.23695549]]\n",
      "\n",
      " [[0.24382625 0.33662563 0.88818464]\n",
      "  [0.60022565 0.93545551 0.21343221]\n",
      "  [0.63689786 0.81335434 0.50820637]]]\n"
     ]
    }
   ],
   "source": [
    "# 7. Create a 3x3x3 array with random values.\n",
    "z=np.random.random((3,3,3))\n",
    "print(z)"
   ]
  },
  {
   "cell_type": "code",
   "execution_count": 24,
   "id": "78d9f057-3090-4e35-9475-28357888e171",
   "metadata": {},
   "outputs": [
    {
     "data": {
      "text/plain": [
       "array([[32, 22, 12, 24, 34, 13, 33, 20,  4, 26],\n",
       "       [ 7, 24, 24,  8, 38, 33, 31, 11, 20, 15],\n",
       "       [ 8, 21,  6, 17, 16, 39, 29, 20, 31, 33],\n",
       "       [ 6, 39,  6, 36, 39, 12,  9, 36, 24,  5],\n",
       "       [34, 34,  4,  2, 23,  6, 27,  8, 30, 36],\n",
       "       [ 7, 26, 19, 24, 14, 26, 19,  6, 29, 30],\n",
       "       [20, 33, 28, 30, 11, 32, 17, 12, 19, 37],\n",
       "       [ 6, 17, 27,  9, 36, 18, 15,  1, 21, 15],\n",
       "       [35, 25, 19, 35, 20, 17, 29, 24, 33, 11],\n",
       "       [25, 16, 39, 23, 20, 34,  3, 33, 22, 20]])"
      ]
     },
     "execution_count": 24,
     "metadata": {},
     "output_type": "execute_result"
    }
   ],
   "source": [
    "# 8. Create a 10x10 array with random values and find the minimum and maximum values.\n",
    "\n",
    "r=np.random.randint(1,40,size=(10,10))\n",
    "r"
   ]
  },
  {
   "cell_type": "code",
   "execution_count": 29,
   "id": "1d33b96e-bb26-455c-9966-94f3b2842fae",
   "metadata": {},
   "outputs": [
    {
     "name": "stdout",
     "output_type": "stream",
     "text": [
      "[[0.44646932 0.42648074 0.7925636  0.5890581  0.62943929 0.49132554\n",
      "  0.53406991 0.05392298 0.10452174 0.55696618]\n",
      " [0.37171831 0.59883956 0.94257092 0.77940426 0.720199   0.13073834\n",
      "  0.54592848 0.09652671 0.54508346 0.80418735]\n",
      " [0.33146296 0.40825623 0.86660816 0.62383644 0.14032277 0.27822797\n",
      "  0.81636318 0.84147097 0.07084193 0.6626247 ]\n",
      " [0.92758765 0.17620864 0.16775231 0.25279271 0.20425622 0.00778499\n",
      "  0.50552947 0.54835309 0.30598307 0.313325  ]\n",
      " [0.30255194 0.36832057 0.05712267 0.8942941  0.93491036 0.87667456\n",
      "  0.76085414 0.42484677 0.10624386 0.58103731]\n",
      " [0.95546592 0.36806382 0.95981954 0.91395636 0.27635224 0.7781992\n",
      "  0.48736514 0.44147378 0.46985279 0.46407026]\n",
      " [0.81712143 0.86403453 0.76672814 0.1275026  0.06882526 0.3308549\n",
      "  0.29930278 0.10031739 0.95713728 0.80341585]\n",
      " [0.79558192 0.21956858 0.41284256 0.59372088 0.94537326 0.45501237\n",
      "  0.08440066 0.16862466 0.07803112 0.50699769]\n",
      " [0.89610388 0.85213699 0.41348177 0.85049825 0.19101969 0.81694591\n",
      "  0.77113522 0.47539902 0.94600655 0.13523459]\n",
      " [0.45489827 0.46029698 0.47491276 0.68189842 0.77827289 0.12989589\n",
      "  0.80801423 0.11120655 0.42817544 0.44449951]]\n",
      "0.00778499179526293 0.9598195385712603\n"
     ]
    }
   ],
   "source": [
    "z=np.random.random((10,10))\n",
    "print(z)\n",
    "zmin,zmax=z.min(),z.max()\n",
    "print(zmin,zmax)"
   ]
  },
  {
   "cell_type": "code",
   "execution_count": 31,
   "id": "7a5ddba4-0d2d-45e4-9b4b-1c3654fb3adc",
   "metadata": {},
   "outputs": [
    {
     "name": "stdout",
     "output_type": "stream",
     "text": [
      "[0.99446635 0.18987255 0.58507547 0.25172579 0.68435769 0.53611943\n",
      " 0.14215345 0.01235047 0.91889901 0.34465461 0.05188103 0.57435778\n",
      " 0.70949032 0.63593097 0.85927216 0.64151506 0.41539795 0.28080589\n",
      " 0.41735976 0.60137761 0.40421226 0.90907802 0.41397745 0.45275607\n",
      " 0.27779075 0.55094684 0.1092594  0.84779495 0.3979403  0.96154852]\n"
     ]
    },
    {
     "data": {
      "text/plain": [
       "21.54"
      ]
     },
     "execution_count": 31,
     "metadata": {},
     "output_type": "execute_result"
    }
   ],
   "source": [
    "# 9. Create random number of size 30 and find the mean value.\n",
    "print(np.random.random(size=30))\n",
    "r.mean()"
   ]
  },
  {
   "cell_type": "code",
   "execution_count": 32,
   "id": "62538557-3c00-493c-911f-475396b263b8",
   "metadata": {},
   "outputs": [
    {
     "name": "stdout",
     "output_type": "stream",
     "text": [
      "[0.76018295 0.86405297 0.01519799 0.73974988 0.84669922 0.53716679\n",
      " 0.64503313 0.68443329 0.84314089 0.40582254 0.05534673 0.9266399\n",
      " 0.07605832 0.59974373 0.78729154 0.76842917 0.79784236 0.75638048\n",
      " 0.47582709 0.24854322 0.22757835 0.81912193 0.34534258 0.53247743\n",
      " 0.59985249 0.11691176 0.64211648 0.09346971 0.70488781 0.41608306]\n",
      "0.5443807928258889\n"
     ]
    }
   ],
   "source": [
    "z=np.random.random(30)\n",
    "print(z)\n",
    "m=z.mean()\n",
    "print(m)"
   ]
  },
  {
   "cell_type": "code",
   "execution_count": 34,
   "id": "94e3d247-9446-4517-9a71-f743f52fe225",
   "metadata": {},
   "outputs": [
    {
     "data": {
      "text/plain": [
       "array([[1, 1, 1],\n",
       "       [1, 0, 1],\n",
       "       [1, 1, 1]])"
      ]
     },
     "execution_count": 34,
     "metadata": {},
     "output_type": "execute_result"
    }
   ],
   "source": [
    "# 10. Create a 2d array with 1 on the border and 0 inside.\n",
    "\n",
    "np.array([[1,1,1],[1,0,1],[1,1,1]])\n"
   ]
  },
  {
   "cell_type": "code",
   "execution_count": 60,
   "id": "c5f78fd9-3282-4917-b14e-e6c491195c9c",
   "metadata": {},
   "outputs": [
    {
     "name": "stdout",
     "output_type": "stream",
     "text": [
      "original array:\n",
      "[[1. 1. 1. 1. 1.]\n",
      " [1. 1. 1. 1. 1.]\n",
      " [1. 1. 1. 1. 1.]\n",
      " [1. 1. 1. 1. 1.]\n",
      " [1. 1. 1. 1. 1.]]\n"
     ]
    },
    {
     "data": {
      "text/plain": [
       "array([[1., 1., 1., 1., 1.],\n",
       "       [1., 0., 0., 0., 1.],\n",
       "       [1., 0., 0., 0., 1.],\n",
       "       [1., 0., 0., 0., 1.],\n",
       "       [1., 1., 1., 1., 1.]])"
      ]
     },
     "execution_count": 60,
     "metadata": {},
     "output_type": "execute_result"
    }
   ],
   "source": [
    "x=np.ones((5,5))\n",
    "print('original array:')\n",
    "print(x)\n",
    "x[1:-1,1:-1]=0\n",
    "x"
   ]
  },
  {
   "cell_type": "code",
   "execution_count": 44,
   "id": "9d2fe9d0-ab19-4b8c-99ae-13a2dec3444b",
   "metadata": {},
   "outputs": [
    {
     "name": "stdout",
     "output_type": "stream",
     "text": [
      "[1, 1, 1, 1, 1]\n",
      "[1, 0, 0, 0, 1]\n",
      "[1, 0, 0, 0, 1]\n",
      "[1, 0, 0, 0, 1]\n",
      "[1, 1, 1, 1, 1]\n"
     ]
    }
   ],
   "source": [
    "row=5\n",
    "col=5\n",
    "\n",
    "array=[[1 if i==0 or i==row-1 or j==0 or j==col-1 else 0 for j in range(col)] for i in range(row)]\n",
    "for row in array:\n",
    "    print(row)"
   ]
  },
  {
   "cell_type": "code",
   "execution_count": 45,
   "id": "465f6a91-9e6f-492d-9be7-bd20f7ca2f77",
   "metadata": {},
   "outputs": [
    {
     "data": {
      "text/plain": [
       "array([[1., 1., 1., 1., 1.],\n",
       "       [1., 0., 0., 0., 1.],\n",
       "       [1., 0., 0., 0., 1.],\n",
       "       [1., 0., 0., 0., 1.],\n",
       "       [1., 1., 1., 1., 1.]])"
      ]
     },
     "execution_count": 45,
     "metadata": {},
     "output_type": "execute_result"
    }
   ],
   "source": [
    "z=np.ones((5,5))\n",
    "z[1:-1,1:-1]=0\n",
    "z"
   ]
  },
  {
   "cell_type": "code",
   "execution_count": 42,
   "id": "58147593-da4c-4a76-9ab5-832ebd5060ce",
   "metadata": {},
   "outputs": [
    {
     "name": "stdout",
     "output_type": "stream",
     "text": [
      "[[0. 0. 0. 0. 0.]\n",
      " [1. 0. 0. 0. 0.]\n",
      " [0. 2. 0. 0. 0.]\n",
      " [0. 0. 3. 0. 0.]\n",
      " [0. 0. 0. 4. 0.]]\n"
     ]
    }
   ],
   "source": [
    "# 11. Create a 5x5 matrix with values 1,2,3,4 just below the diagonal.\n",
    "\n",
    "matrix = np.zeros((5,5))\n",
    "for i in range(1,5):\n",
    "    matrix[i,i-1]=i\n",
    "print(matrix)"
   ]
  },
  {
   "cell_type": "code",
   "execution_count": 49,
   "id": "7e3dbf1b-4f71-4e34-96d9-cad073ffaed9",
   "metadata": {},
   "outputs": [
    {
     "data": {
      "text/plain": [
       "array([0.03851234, 0.12405212, 0.36557762, 0.45125959, 0.47590726,\n",
       "       0.47638795, 0.50764412, 0.59827096, 0.75745667, 0.81640472])"
      ]
     },
     "execution_count": 49,
     "metadata": {},
     "output_type": "execute_result"
    }
   ],
   "source": [
    "# 12. Create a random value of size 10 and sort it.\n",
    "\n",
    "j=np.random.random(size=10)\n",
    "j.sort()\n",
    "j"
   ]
  },
  {
   "cell_type": "code",
   "execution_count": 62,
   "id": "c1d82160-0464-4704-875c-6e41dc8a254f",
   "metadata": {},
   "outputs": [
    {
     "name": "stdout",
     "output_type": "stream",
     "text": [
      "[1 2 3 4]\n"
     ]
    }
   ],
   "source": [
    "arr=np.array([1,2,3,4,5,6,7])\n",
    "print(arr[:4])\n"
   ]
  },
  {
   "cell_type": "code",
   "execution_count": 63,
   "id": "dbbab815-fb41-4745-95e9-e23ea51a3438",
   "metadata": {},
   "outputs": [
    {
     "name": "stdout",
     "output_type": "stream",
     "text": [
      "[5 6]\n"
     ]
    }
   ],
   "source": [
    "print(arr[-3:-1])"
   ]
  },
  {
   "cell_type": "code",
   "execution_count": 64,
   "id": "df5fdaf6-7d7b-424a-b49f-e780728f799c",
   "metadata": {},
   "outputs": [
    {
     "data": {
      "text/plain": [
       "array([[1., 1., 1., 1., 1.],\n",
       "       [1., 0., 0., 0., 1.],\n",
       "       [1., 0., 0., 0., 1.],\n",
       "       [1., 0., 0., 0., 1.],\n",
       "       [1., 1., 1., 1., 1.]])"
      ]
     },
     "execution_count": 64,
     "metadata": {},
     "output_type": "execute_result"
    }
   ],
   "source": [
    "z=np.ones((5,5))\n",
    "z[1:-1,1:-1]=0\n",
    "z"
   ]
  },
  {
   "cell_type": "code",
   "execution_count": 67,
   "id": "692ba7dd-3602-4635-8dd6-b27258fb3bb7",
   "metadata": {},
   "outputs": [
    {
     "name": "stdout",
     "output_type": "stream",
     "text": [
      "[2 4]\n"
     ]
    }
   ],
   "source": [
    "print(arr[1:5:2])"
   ]
  },
  {
   "cell_type": "code",
   "execution_count": 68,
   "id": "b280732f-2857-4587-b4b1-4a4469bc1fea",
   "metadata": {},
   "outputs": [
    {
     "name": "stdout",
     "output_type": "stream",
     "text": [
      "[1 2 3 4 5 6 7]\n",
      "[1 3 5 7]\n"
     ]
    }
   ],
   "source": [
    "print(arr)\n",
    "print(arr[::2])"
   ]
  },
  {
   "cell_type": "code",
   "execution_count": 69,
   "id": "3befdf3d-8b4a-406f-96b7-2fc9da1a47c0",
   "metadata": {},
   "outputs": [
    {
     "data": {
      "text/plain": [
       "array([[0, 0, 0, 0, 0],\n",
       "       [0, 0, 0, 0, 0]])"
      ]
     },
     "execution_count": 69,
     "metadata": {},
     "output_type": "execute_result"
    }
   ],
   "source": [
    "arr=np.array([[0,0,0,0,0],[0,0,0,0,0]])\n",
    "arr"
   ]
  },
  {
   "cell_type": "code",
   "execution_count": 74,
   "id": "5071afc5-d7b4-45be-8a3f-a7b20512eb1e",
   "metadata": {},
   "outputs": [
    {
     "data": {
      "text/plain": [
       "array([[0, 0, 0, 0, 0],\n",
       "       [0, 0, 0, 0, 0]])"
      ]
     },
     "execution_count": 74,
     "metadata": {},
     "output_type": "execute_result"
    }
   ],
   "source": [
    "arr"
   ]
  },
  {
   "cell_type": "code",
   "execution_count": 77,
   "id": "e0023d09-d9fd-4bb6-a5d2-b898a833b997",
   "metadata": {},
   "outputs": [
    {
     "name": "stdout",
     "output_type": "stream",
     "text": [
      "[[0 0 0 0 0]\n",
      " [0 0 0 0 0]]\n"
     ]
    }
   ],
   "source": [
    "print(arr[0:2])"
   ]
  },
  {
   "cell_type": "code",
   "execution_count": null,
   "id": "10ad14a7-bf07-497b-93b2-69a4cd1bb763",
   "metadata": {},
   "outputs": [],
   "source": []
  },
  {
   "cell_type": "code",
   "execution_count": 3,
   "id": "8cad2232-4533-43b6-b29b-b931ccef7e34",
   "metadata": {},
   "outputs": [
    {
     "name": "stdout",
     "output_type": "stream",
     "text": [
      "[[1. 1. 1.]\n",
      " [1. 0. 1.]\n",
      " [1. 1. 1.]]\n"
     ]
    }
   ],
   "source": [
    "import numpy as np\n",
    "\n",
    "# Create a 2D array of zeros\n",
    "array = np.zeros((3, 3))\n",
    "\n",
    "# Set the border elements to 1\n",
    "array[0, :] = 1\n",
    "array[-1, :] = 1\n",
    "array[:, 0] = 1\n",
    "array[:, -1] = 1\n",
    "\n",
    "print(array)"
   ]
  },
  {
   "cell_type": "code",
   "execution_count": 4,
   "id": "ee6b2992-7922-4285-a61b-e9c31963521b",
   "metadata": {},
   "outputs": [
    {
     "data": {
      "text/plain": [
       "array([[0.]])"
      ]
     },
     "execution_count": 4,
     "metadata": {},
     "output_type": "execute_result"
    }
   ],
   "source": [
    "array[1:-1,1:-1]"
   ]
  },
  {
   "cell_type": "code",
   "execution_count": 5,
   "id": "e8348c92-66a0-4f02-af42-08d949dfc469",
   "metadata": {},
   "outputs": [
    {
     "data": {
      "text/plain": [
       "array([[1., 1., 1., 1., 1.],\n",
       "       [1., 0., 0., 0., 1.],\n",
       "       [1., 0., 0., 0., 1.],\n",
       "       [1., 0., 0., 0., 1.],\n",
       "       [1., 1., 1., 1., 1.]])"
      ]
     },
     "execution_count": 5,
     "metadata": {},
     "output_type": "execute_result"
    }
   ],
   "source": [
    "z=np.ones((5,5))\n",
    "z[1:-1,1:-1]=0\n",
    "z"
   ]
  },
  {
   "cell_type": "code",
   "execution_count": 17,
   "id": "cb7ad7f5-9cac-4560-bf29-2ef485c76849",
   "metadata": {},
   "outputs": [
    {
     "data": {
      "text/plain": [
       "array([[ 1.,  1.,  1.,  1.,  1.],\n",
       "       [ 1., 56., 56., 56.,  1.],\n",
       "       [ 1., 56., 56., 56.,  1.],\n",
       "       [ 1., 56., 56., 56.,  1.],\n",
       "       [ 1.,  1.,  1.,  1.,  1.]])"
      ]
     },
     "execution_count": 17,
     "metadata": {},
     "output_type": "execute_result"
    }
   ],
   "source": [
    "z[1:-1,1:-1]=56 # 1 is the column index and -1 is subtracted from lower column and : 1 is the rows index and -1 is subtracted from the backward rows value.\n",
    "z   "
   ]
  },
  {
   "cell_type": "code",
   "execution_count": 11,
   "id": "f7dd5083-46b1-4b1f-800c-7544c1b57c1f",
   "metadata": {},
   "outputs": [
    {
     "data": {
      "text/plain": [
       "array([[ 1.,  1.,  1.,  1.,  1.],\n",
       "       [ 1., 10., 10., 10.,  1.],\n",
       "       [ 1., 10., 10., 10.,  1.],\n",
       "       [ 1., 10., 10., 10.,  1.],\n",
       "       [ 1.,  1.,  1.,  1.,  1.]])"
      ]
     },
     "execution_count": 11,
     "metadata": {},
     "output_type": "execute_result"
    }
   ],
   "source": [
    "# # 10. Create a 2d array with 1 on the border and 0 inside.\n",
    "import numpy as np\n",
    "z=np.ones((5,5))\n",
    "z[1:-1,1:-1]=10\n",
    "z"
   ]
  },
  {
   "cell_type": "code",
   "execution_count": 18,
   "id": "7db28657-1b54-43fb-a96b-d517dfbedb4b",
   "metadata": {},
   "outputs": [
    {
     "data": {
      "text/plain": [
       "array([[1.]])"
      ]
     },
     "execution_count": 18,
     "metadata": {},
     "output_type": "execute_result"
    }
   ],
   "source": [
    "t=np.ones((3,3))\n",
    "t[1:-1,1:-1]"
   ]
  },
  {
   "cell_type": "code",
   "execution_count": 30,
   "id": "06b37e19-69a9-404d-ab1a-9184e4b6bd4c",
   "metadata": {},
   "outputs": [
    {
     "data": {
      "text/plain": [
       "array([[1., 1., 1., 1., 1., 1., 1., 1., 1., 1.],\n",
       "       [1., 1., 1., 1., 1., 1., 1., 1., 1., 1.],\n",
       "       [1., 1., 1., 1., 1., 1., 1., 1., 1., 1.],\n",
       "       [1., 1., 1., 1., 1., 1., 1., 1., 1., 1.],\n",
       "       [1., 1., 1., 1., 1., 1., 1., 1., 1., 1.],\n",
       "       [1., 1., 1., 1., 1., 1., 1., 1., 1., 1.],\n",
       "       [1., 1., 1., 1., 1., 1., 1., 1., 1., 1.],\n",
       "       [1., 1., 1., 1., 1., 1., 1., 1., 1., 1.],\n",
       "       [1., 1., 1., 1., 1., 1., 1., 1., 1., 1.],\n",
       "       [1., 1., 1., 1., 1., 1., 1., 1., 1., 1.]])"
      ]
     },
     "execution_count": 30,
     "metadata": {},
     "output_type": "execute_result"
    }
   ],
   "source": [
    "z=np.ones((10,10))\n",
    "z[1:-1]\n",
    "z"
   ]
  },
  {
   "cell_type": "code",
   "execution_count": null,
   "id": "ad92e215-1ef1-4064-a360-b52cf2daf083",
   "metadata": {},
   "outputs": [],
   "source": []
  }
 ],
 "metadata": {
  "kernelspec": {
   "display_name": "Python 3 (ipykernel)",
   "language": "python",
   "name": "python3"
  },
  "language_info": {
   "codemirror_mode": {
    "name": "ipython",
    "version": 3
   },
   "file_extension": ".py",
   "mimetype": "text/x-python",
   "name": "python",
   "nbconvert_exporter": "python",
   "pygments_lexer": "ipython3",
   "version": "3.11.4"
  }
 },
 "nbformat": 4,
 "nbformat_minor": 5
}
