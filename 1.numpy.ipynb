{
 "cells": [
  {
   "cell_type": "markdown",
   "id": "16d87b75-b87b-469f-8649-9af8bad414a8",
   "metadata": {},
   "source": [
    "# 1. Numpy\n",
    "\n",
    " * __Numpy provides efficient storage.__\n",
    " * __Numpy provides better ways of handling data for processing.__\n",
    " * __It is fast.__\n",
    " * __It is easy to learn.__\n",
    " * __Numpy user relatively less memeory to store data.__\n",
    "\n",
    "# Jupyter\n",
    "\n",
    " * __The Jupyter Notebook is an open source web application that allows you to create line code, equations, visualizations and narrative text.__\n",
    " * __The Notebook has support for over 40 Programming languages, including Python, R, Jullia and Scala.__\n",
    " * __Notebooks can be shared with other using email,Dropbox, GitHub and the Jupyter Notebook viewers.__\n",
    " * __Your code can produce rich, interactive output HTML, images, videos, LaTeX, and many custom types.__ "
   ]
  },
  {
   "cell_type": "code",
   "execution_count": 1,
   "id": "7973aac1-71e6-4053-84d0-c493ae2329f6",
   "metadata": {},
   "outputs": [],
   "source": [
    "import numpy as np"
   ]
  },
  {
   "cell_type": "code",
   "execution_count": 2,
   "id": "5d0e341f-67bc-4722-853a-239c7d51de3a",
   "metadata": {},
   "outputs": [],
   "source": [
    "# Creating array\n",
    "\n",
    "myarray=np.array([2,3,32,7])\n"
   ]
  },
  {
   "cell_type": "code",
   "execution_count": 3,
   "id": "860fee85-f36e-4453-b328-1e720babaa8b",
   "metadata": {},
   "outputs": [
    {
     "data": {
      "text/plain": [
       "array([ 2,  3, 32,  7])"
      ]
     },
     "execution_count": 3,
     "metadata": {},
     "output_type": "execute_result"
    }
   ],
   "source": [
    "myarray"
   ]
  },
  {
   "cell_type": "code",
   "execution_count": 4,
   "id": "e5adafc6-904e-43a2-a0dc-b040c96d9ca0",
   "metadata": {},
   "outputs": [
    {
     "data": {
      "text/plain": [
       "array([ 2,  3, 32,  7], dtype=int8)"
      ]
     },
     "execution_count": 4,
     "metadata": {},
     "output_type": "execute_result"
    }
   ],
   "source": [
    "myarray=np.array([2,3,32,7],np.int8)\n",
    "myarray"
   ]
  },
  {
   "cell_type": "code",
   "execution_count": 5,
   "id": "e7a04bd6-fe87-4da7-895c-cadb3993d69d",
   "metadata": {},
   "outputs": [
    {
     "data": {
      "text/plain": [
       "array([ 2,  3, 32,  7])"
      ]
     },
     "execution_count": 5,
     "metadata": {},
     "output_type": "execute_result"
    }
   ],
   "source": [
    "myarray=np.array([2,3,32,7],np.int32)\n",
    "myarray"
   ]
  },
  {
   "cell_type": "code",
   "execution_count": 6,
   "id": "634cf645-5c03-4217-9f6d-e4f82a16b0a3",
   "metadata": {},
   "outputs": [
    {
     "data": {
      "text/plain": [
       "array([ 2,  3, 32,  7], dtype=int64)"
      ]
     },
     "execution_count": 6,
     "metadata": {},
     "output_type": "execute_result"
    }
   ],
   "source": [
    "myarray=np.array([2,3,32,7],np.int64)\n",
    "myarray"
   ]
  },
  {
   "cell_type": "code",
   "execution_count": 7,
   "id": "48c4bb9b-9d10-4e48-950a-1d2a7d4fb7c7",
   "metadata": {},
   "outputs": [],
   "source": [
    "# 1-D array\n",
    "\n",
    "myarr=np.array([3,6,37,8],np.int64)"
   ]
  },
  {
   "cell_type": "code",
   "execution_count": 8,
   "id": "6bb22ccb-647e-4495-b665-4f446b65fd8f",
   "metadata": {},
   "outputs": [
    {
     "data": {
      "text/plain": [
       "array([ 3,  6, 37,  8], dtype=int64)"
      ]
     },
     "execution_count": 8,
     "metadata": {},
     "output_type": "execute_result"
    }
   ],
   "source": [
    "myarr"
   ]
  },
  {
   "cell_type": "code",
   "execution_count": 9,
   "id": "fe19e323-5760-40fe-b24f-80fe8f9c50ef",
   "metadata": {},
   "outputs": [],
   "source": [
    "# 2-D array\n",
    "myarr=np.array([[3,6,9,12]],np.int64)"
   ]
  },
  {
   "cell_type": "code",
   "execution_count": 10,
   "id": "74a4a390-0dff-4826-aa5a-732d3afc40c3",
   "metadata": {},
   "outputs": [
    {
     "data": {
      "text/plain": [
       "array([[ 3,  6,  9, 12]], dtype=int64)"
      ]
     },
     "execution_count": 10,
     "metadata": {},
     "output_type": "execute_result"
    }
   ],
   "source": [
    "myarr"
   ]
  },
  {
   "cell_type": "code",
   "execution_count": 11,
   "id": "81ddf828-8605-457b-b815-d9f96d2236b1",
   "metadata": {},
   "outputs": [
    {
     "name": "stdout",
     "output_type": "stream",
     "text": [
      "3\n",
      "6\n",
      "9\n",
      "12\n"
     ]
    }
   ],
   "source": [
    "# Finding index number\n",
    "\n",
    "print(myarr[0,0])\n",
    "print(myarr[0,1])\n",
    "print(myarr[0,2])\n",
    "print(myarr[0,3])\n",
    "#print(myarr[1,3])"
   ]
  },
  {
   "cell_type": "code",
   "execution_count": 12,
   "id": "4dcc6422-9bc7-48a4-a8d2-cba718efbe95",
   "metadata": {},
   "outputs": [
    {
     "data": {
      "text/plain": [
       "(1, 4)"
      ]
     },
     "execution_count": 12,
     "metadata": {},
     "output_type": "execute_result"
    }
   ],
   "source": [
    "# show details of the array\n",
    "\n",
    "myarr.shape"
   ]
  },
  {
   "cell_type": "code",
   "execution_count": 13,
   "id": "672bf7be-4575-4be8-afe9-77ddec866c7e",
   "metadata": {},
   "outputs": [
    {
     "data": {
      "text/plain": [
       "dtype('int64')"
      ]
     },
     "execution_count": 13,
     "metadata": {},
     "output_type": "execute_result"
    }
   ],
   "source": [
    "# Checking data types of array\n",
    "\n",
    "myarr.dtype"
   ]
  },
  {
   "cell_type": "code",
   "execution_count": 14,
   "id": "b8273182-3e87-4458-8f4c-3371012e6f96",
   "metadata": {},
   "outputs": [
    {
     "data": {
      "text/plain": [
       "array([[ 3,  6,  9, 12]], dtype=int64)"
      ]
     },
     "execution_count": 14,
     "metadata": {},
     "output_type": "execute_result"
    }
   ],
   "source": [
    "myarr"
   ]
  },
  {
   "cell_type": "code",
   "execution_count": 15,
   "id": "41e6879d-8558-4333-81ee-91a775ea346b",
   "metadata": {},
   "outputs": [],
   "source": [
    "# how to change any element in numpy\n",
    "\n",
    "myarr[0,1]=45   # 0 is the row index value and 1 is the column index value.\n"
   ]
  },
  {
   "cell_type": "code",
   "execution_count": 16,
   "id": "fada1c3c-572f-49f9-a55f-c2d6d7b03c80",
   "metadata": {},
   "outputs": [
    {
     "data": {
      "text/plain": [
       "array([[ 3, 45,  9, 12]], dtype=int64)"
      ]
     },
     "execution_count": 16,
     "metadata": {},
     "output_type": "execute_result"
    }
   ],
   "source": [
    "myarr"
   ]
  },
  {
   "cell_type": "code",
   "execution_count": 17,
   "id": "638b7579-311f-40b4-961b-5132afb01845",
   "metadata": {},
   "outputs": [],
   "source": [
    "myarr[0,3]=100\n"
   ]
  },
  {
   "cell_type": "code",
   "execution_count": 18,
   "id": "d6356563-ae04-4310-82df-1442b0f4ef63",
   "metadata": {},
   "outputs": [
    {
     "data": {
      "text/plain": [
       "array([[  3,  45,   9, 100]], dtype=int64)"
      ]
     },
     "execution_count": 18,
     "metadata": {},
     "output_type": "execute_result"
    }
   ],
   "source": [
    "myarr"
   ]
  },
  {
   "cell_type": "markdown",
   "id": "18127cd7-cfa0-4e77-9d2a-cbe53dc7fb96",
   "metadata": {},
   "source": [
    "# Note:\n",
    "* __There are 5 general mechanism for creating array:__\n",
    "  * __1. Conversion from other Python structures. (eg: list, tuples).__\n",
    "  * __2. Intrinsic numpy array creating object(eg: arange, one, Zeros etc).__\n",
    "  * __3. Reading arrays from disk, either from standard or custom formats.__\n",
    "  * __4. Creating arrays from raw bytes through the use of string of buffers.__\n",
    "  * __5. Use of special library functions eg (random).__"
   ]
  },
  {
   "cell_type": "markdown",
   "id": "e37310e7",
   "metadata": {},
   "source": [
    "\n",
    "\n"
   ]
  },
  {
   "cell_type": "code",
   "execution_count": 19,
   "id": "8a5038a6-6b7d-4cfd-a087-ae0669498819",
   "metadata": {},
   "outputs": [
    {
     "data": {
      "text/plain": [
       "array([[1, 2, 3],\n",
       "       [5, 8, 5],\n",
       "       [0, 3, 1]])"
      ]
     },
     "execution_count": 19,
     "metadata": {},
     "output_type": "execute_result"
    }
   ],
   "source": [
    "listarray=np.array([[1,2,3],[5,8,5],[0,3,1]])\n",
    "listarray"
   ]
  },
  {
   "cell_type": "code",
   "execution_count": 20,
   "id": "fe0e90b1-f142-4108-a5fc-3cd44c39badd",
   "metadata": {},
   "outputs": [
    {
     "data": {
      "text/plain": [
       "dtype('int32')"
      ]
     },
     "execution_count": 20,
     "metadata": {},
     "output_type": "execute_result"
    }
   ],
   "source": [
    "# check the data types of the array\n",
    "\n",
    "listarray.dtype"
   ]
  },
  {
   "cell_type": "code",
   "execution_count": 21,
   "id": "d70a496f-6ad3-4c01-9123-e00c4d1505a2",
   "metadata": {},
   "outputs": [
    {
     "data": {
      "text/plain": [
       "(3, 3)"
      ]
     },
     "execution_count": 21,
     "metadata": {},
     "output_type": "execute_result"
    }
   ],
   "source": [
    "# Checking the shape of any data type\n",
    "\n",
    "listarray.shape"
   ]
  },
  {
   "cell_type": "code",
   "execution_count": 22,
   "id": "63f9b14c-4846-477f-a451-dfeb5729fbef",
   "metadata": {},
   "outputs": [
    {
     "data": {
      "text/plain": [
       "9"
      ]
     },
     "execution_count": 22,
     "metadata": {},
     "output_type": "execute_result"
    }
   ],
   "source": [
    "# Checking size of any array\n",
    "\n",
    "listarray.size"
   ]
  },
  {
   "cell_type": "code",
   "execution_count": 23,
   "id": "2ef7a73a-93aa-4714-9b51-54a859352a48",
   "metadata": {},
   "outputs": [
    {
     "data": {
      "text/plain": [
       "array({25, 34}, dtype=object)"
      ]
     },
     "execution_count": 23,
     "metadata": {},
     "output_type": "execute_result"
    }
   ],
   "source": [
    "# Set array # Data type is object.\n",
    "\n",
    "np.array({34,25,25,25})"
   ]
  },
  {
   "cell_type": "code",
   "execution_count": 24,
   "id": "5d9d93e8-f12a-44dc-8624-24eff2d2c9a8",
   "metadata": {},
   "outputs": [],
   "source": [
    "zeros=np.zeros((2,5))"
   ]
  },
  {
   "cell_type": "code",
   "execution_count": 25,
   "id": "8c3b61c9-0c51-49a7-8caf-3d7559216dd4",
   "metadata": {},
   "outputs": [
    {
     "data": {
      "text/plain": [
       "array([[0., 0., 0., 0., 0.],\n",
       "       [0., 0., 0., 0., 0.]])"
      ]
     },
     "execution_count": 25,
     "metadata": {},
     "output_type": "execute_result"
    }
   ],
   "source": [
    "zeros"
   ]
  },
  {
   "cell_type": "code",
   "execution_count": 26,
   "id": "b5df85c0-5f76-4793-bd58-8a0c89c65251",
   "metadata": {},
   "outputs": [
    {
     "data": {
      "text/plain": [
       "dtype('float64')"
      ]
     },
     "execution_count": 26,
     "metadata": {},
     "output_type": "execute_result"
    }
   ],
   "source": [
    "zeros.dtype"
   ]
  },
  {
   "cell_type": "code",
   "execution_count": 27,
   "id": "c9eb71ce-b377-46be-be1d-192edf9f989f",
   "metadata": {},
   "outputs": [],
   "source": [
    "range=np.arange(15)"
   ]
  },
  {
   "cell_type": "code",
   "execution_count": 28,
   "id": "24cdc0f3-9383-4304-bd9a-94fd2688d6ca",
   "metadata": {},
   "outputs": [
    {
     "data": {
      "text/plain": [
       "array([ 0,  1,  2,  3,  4,  5,  6,  7,  8,  9, 10, 11, 12, 13, 14])"
      ]
     },
     "execution_count": 28,
     "metadata": {},
     "output_type": "execute_result"
    }
   ],
   "source": [
    "range"
   ]
  },
  {
   "cell_type": "code",
   "execution_count": 29,
   "id": "cfc05a78-f7e7-41aa-ab50-6c12a7e78887",
   "metadata": {},
   "outputs": [
    {
     "data": {
      "text/plain": [
       "array([2.        , 2.02040816, 2.04081633, 2.06122449, 2.08163265,\n",
       "       2.10204082, 2.12244898, 2.14285714, 2.16326531, 2.18367347,\n",
       "       2.20408163, 2.2244898 , 2.24489796, 2.26530612, 2.28571429,\n",
       "       2.30612245, 2.32653061, 2.34693878, 2.36734694, 2.3877551 ,\n",
       "       2.40816327, 2.42857143, 2.44897959, 2.46938776, 2.48979592,\n",
       "       2.51020408, 2.53061224, 2.55102041, 2.57142857, 2.59183673,\n",
       "       2.6122449 , 2.63265306, 2.65306122, 2.67346939, 2.69387755,\n",
       "       2.71428571, 2.73469388, 2.75510204, 2.7755102 , 2.79591837,\n",
       "       2.81632653, 2.83673469, 2.85714286, 2.87755102, 2.89795918,\n",
       "       2.91836735, 2.93877551, 2.95918367, 2.97959184, 3.        ])"
      ]
     },
     "execution_count": 29,
     "metadata": {},
     "output_type": "execute_result"
    }
   ],
   "source": [
    "np.linspace(2.0,3.0,num=50)"
   ]
  },
  {
   "cell_type": "code",
   "execution_count": 30,
   "id": "8b7ab3d7-7c3f-4808-913b-fe75d201e817",
   "metadata": {},
   "outputs": [
    {
     "data": {
      "text/plain": [
       "array([2.  , 2.02, 2.04, 2.06, 2.08, 2.1 , 2.12, 2.14, 2.16, 2.18, 2.2 ,\n",
       "       2.22, 2.24, 2.26, 2.28, 2.3 , 2.32, 2.34, 2.36, 2.38, 2.4 , 2.42,\n",
       "       2.44, 2.46, 2.48, 2.5 , 2.52, 2.54, 2.56, 2.58, 2.6 , 2.62, 2.64,\n",
       "       2.66, 2.68, 2.7 , 2.72, 2.74, 2.76, 2.78, 2.8 , 2.82, 2.84, 2.86,\n",
       "       2.88, 2.9 , 2.92, 2.94, 2.96, 2.98])"
      ]
     },
     "execution_count": 30,
     "metadata": {},
     "output_type": "execute_result"
    }
   ],
   "source": [
    "np.linspace(2.0,3.0,num=50, endpoint=False)"
   ]
  },
  {
   "cell_type": "code",
   "execution_count": 31,
   "id": "22f05ac1-6a39-454a-8e3c-abc8adfd273e",
   "metadata": {},
   "outputs": [],
   "source": [
    "lspace=np.linspace(1,5,12,endpoint=False)"
   ]
  },
  {
   "cell_type": "code",
   "execution_count": 32,
   "id": "311e02e9-ad0b-4b89-b2d5-90ec28382fdd",
   "metadata": {},
   "outputs": [
    {
     "data": {
      "text/plain": [
       "array([1.        , 1.33333333, 1.66666667, 2.        , 2.33333333,\n",
       "       2.66666667, 3.        , 3.33333333, 3.66666667, 4.        ,\n",
       "       4.33333333, 4.66666667])"
      ]
     },
     "execution_count": 32,
     "metadata": {},
     "output_type": "execute_result"
    }
   ],
   "source": [
    "lspace"
   ]
  },
  {
   "cell_type": "code",
   "execution_count": 33,
   "id": "5d32354e-076a-4ed0-9821-e96de1e5c5dc",
   "metadata": {},
   "outputs": [],
   "source": [
    "# empty array\n",
    "\n",
    "emp=np.empty((4,6))"
   ]
  },
  {
   "cell_type": "code",
   "execution_count": 34,
   "id": "3a909c80-434d-4ed2-b246-9afca9b1595e",
   "metadata": {},
   "outputs": [
    {
     "data": {
      "text/plain": [
       "array([[9.24086089e-312, 7.65801751e-322, 0.00000000e+000,\n",
       "        0.00000000e+000, 8.01097888e-307, 1.16095484e-028],\n",
       "       [6.01729664e+175, 2.64937383e+180, 1.14073631e+243,\n",
       "        7.35874688e+223, 3.27340050e+132, 3.77075671e+233],\n",
       "       [3.57472422e+161, 1.94216729e-109, 8.29655075e-114,\n",
       "        7.65791870e-096, 8.82142681e+199, 1.96101067e+243],\n",
       "       [4.07186895e+223, 6.74421134e+217, 3.42664522e-062,\n",
       "        8.93168689e+271, 4.98131536e+151, 1.94920670e-153]])"
      ]
     },
     "execution_count": 34,
     "metadata": {},
     "output_type": "execute_result"
    }
   ],
   "source": [
    "emp"
   ]
  },
  {
   "cell_type": "code",
   "execution_count": 35,
   "id": "f2bb5116-8ba3-4937-89a9-767651564ebd",
   "metadata": {},
   "outputs": [
    {
     "name": "stdout",
     "output_type": "stream",
     "text": [
      "Matrix b:\n",
      " [1853189987  540680820]\n"
     ]
    }
   ],
   "source": [
    "import numpy as np\n",
    "\n",
    "b=np.empty(2,dtype=int)   # row is 1 and column 2\n",
    "print(\"Matrix b:\\n\",b)"
   ]
  },
  {
   "cell_type": "code",
   "execution_count": 36,
   "id": "ba1d3c19-7335-445b-9540-79b10746314d",
   "metadata": {},
   "outputs": [
    {
     "name": "stdout",
     "output_type": "stream",
     "text": [
      "\n",
      "Matrix a:\n",
      " [[1819636581 1713402740]\n",
      " [1931506287 1819042157]]\n"
     ]
    }
   ],
   "source": [
    "a=np.empty([2,2], dtype=int)\n",
    "print(\"\\nMatrix a:\\n\",a)"
   ]
  },
  {
   "cell_type": "code",
   "execution_count": 37,
   "id": "c9b8ea34-7896-46c4-9a4f-00cdbd09788a",
   "metadata": {},
   "outputs": [
    {
     "name": "stdout",
     "output_type": "stream",
     "text": [
      "\n",
      "Matrix c: \n",
      " [[         0          0 2060278000]\n",
      " [       435 2060275888        435]\n",
      " [2060275952        435       5792]]\n"
     ]
    }
   ],
   "source": [
    "c=np.empty([3,3],dtype=int)\n",
    "print('\\nMatrix c: \\n',c)"
   ]
  },
  {
   "cell_type": "markdown",
   "id": "a0119453-553e-42af-8d85-d70cf3c542ec",
   "metadata": {},
   "source": [
    "# identity\n",
    "\n",
    " * __The identity array is a square array withy ones on the main diagonal.__\n",
    " * __Number of rows (and columns) in n x n output.__\n",
    " * __n x n array with its main diagonal set to one, and all other element is 0.__"
   ]
  },
  {
   "cell_type": "code",
   "execution_count": 38,
   "id": "d791d034-5b76-4644-98c1-cdfd6f61a096",
   "metadata": {},
   "outputs": [
    {
     "data": {
      "text/plain": [
       "array([[1., 0., 0., 0., 0., 0., 0., 0., 0., 0.],\n",
       "       [0., 1., 0., 0., 0., 0., 0., 0., 0., 0.],\n",
       "       [0., 0., 1., 0., 0., 0., 0., 0., 0., 0.],\n",
       "       [0., 0., 0., 1., 0., 0., 0., 0., 0., 0.],\n",
       "       [0., 0., 0., 0., 1., 0., 0., 0., 0., 0.],\n",
       "       [0., 0., 0., 0., 0., 1., 0., 0., 0., 0.],\n",
       "       [0., 0., 0., 0., 0., 0., 1., 0., 0., 0.],\n",
       "       [0., 0., 0., 0., 0., 0., 0., 1., 0., 0.],\n",
       "       [0., 0., 0., 0., 0., 0., 0., 0., 1., 0.],\n",
       "       [0., 0., 0., 0., 0., 0., 0., 0., 0., 1.]])"
      ]
     },
     "execution_count": 38,
     "metadata": {},
     "output_type": "execute_result"
    }
   ],
   "source": [
    "ide=np.identity(10)\n",
    "ide"
   ]
  },
  {
   "cell_type": "code",
   "execution_count": 39,
   "id": "0f87e4fc-7e29-428b-81e5-9ec0178ace8d",
   "metadata": {},
   "outputs": [
    {
     "data": {
      "text/plain": [
       "array([[1., 0., 0., ..., 0., 0., 0.],\n",
       "       [0., 1., 0., ..., 0., 0., 0.],\n",
       "       [0., 0., 1., ..., 0., 0., 0.],\n",
       "       ...,\n",
       "       [0., 0., 0., ..., 1., 0., 0.],\n",
       "       [0., 0., 0., ..., 0., 1., 0.],\n",
       "       [0., 0., 0., ..., 0., 0., 1.]])"
      ]
     },
     "execution_count": 39,
     "metadata": {},
     "output_type": "execute_result"
    }
   ],
   "source": [
    "ide1=np.identity(100)\n",
    "ide1"
   ]
  },
  {
   "cell_type": "code",
   "execution_count": 40,
   "id": "6fb66d72-ecf3-43a6-9edf-366a040a0e8e",
   "metadata": {},
   "outputs": [
    {
     "data": {
      "text/plain": [
       "(100, 100)"
      ]
     },
     "execution_count": 40,
     "metadata": {},
     "output_type": "execute_result"
    }
   ],
   "source": [
    "ide1.shape"
   ]
  },
  {
   "cell_type": "code",
   "execution_count": 41,
   "id": "8dd87f74-73b9-428e-9675-56b191a0edb1",
   "metadata": {},
   "outputs": [
    {
     "data": {
      "text/plain": [
       "array([ 0,  1,  2,  3,  4,  5,  6,  7,  8,  9, 10, 11, 12, 13, 14, 15, 16,\n",
       "       17, 18, 19, 20, 21, 22, 23, 24, 25, 26, 27, 28, 29, 30, 31, 32, 33,\n",
       "       34, 35, 36, 37, 38, 39, 40, 41, 42, 43, 44, 45, 46, 47, 48, 49, 50,\n",
       "       51, 52, 53, 54, 55, 56, 57, 58, 59, 60, 61, 62, 63, 64, 65, 66, 67,\n",
       "       68, 69, 70, 71, 72, 73, 74, 75, 76, 77, 78, 79, 80, 81, 82, 83, 84,\n",
       "       85, 86, 87, 88, 89, 90, 91, 92, 93, 94, 95, 96, 97, 98])"
      ]
     },
     "execution_count": 41,
     "metadata": {},
     "output_type": "execute_result"
    }
   ],
   "source": [
    "# arange() in numpy\n",
    "arr=np.arange(99)\n",
    "arr"
   ]
  },
  {
   "cell_type": "code",
   "execution_count": 42,
   "id": "e4ba2ea7-86a4-45f9-8e45-07d4e4197a5f",
   "metadata": {},
   "outputs": [
    {
     "data": {
      "text/plain": [
       "array([[ 0,  1,  2,  3,  4,  5,  6,  7,  8,  9, 10, 11, 12, 13, 14, 15,\n",
       "        16, 17, 18, 19, 20, 21, 22, 23, 24, 25, 26, 27, 28, 29, 30, 31,\n",
       "        32],\n",
       "       [33, 34, 35, 36, 37, 38, 39, 40, 41, 42, 43, 44, 45, 46, 47, 48,\n",
       "        49, 50, 51, 52, 53, 54, 55, 56, 57, 58, 59, 60, 61, 62, 63, 64,\n",
       "        65],\n",
       "       [66, 67, 68, 69, 70, 71, 72, 73, 74, 75, 76, 77, 78, 79, 80, 81,\n",
       "        82, 83, 84, 85, 86, 87, 88, 89, 90, 91, 92, 93, 94, 95, 96, 97,\n",
       "        98]])"
      ]
     },
     "execution_count": 42,
     "metadata": {},
     "output_type": "execute_result"
    }
   ],
   "source": [
    "# reshape\n",
    "\n",
    "arr.reshape(3,33)"
   ]
  },
  {
   "cell_type": "code",
   "execution_count": 43,
   "id": "9a53e6dd-9ff2-4077-aa22-0c23f2c1ed9e",
   "metadata": {},
   "outputs": [
    {
     "data": {
      "text/plain": [
       "array([ 0,  1,  2,  3,  4,  5,  6,  7,  8,  9, 10, 11, 12, 13, 14, 15, 16,\n",
       "       17, 18, 19, 20, 21, 22, 23, 24, 25, 26, 27, 28, 29, 30, 31, 32, 33,\n",
       "       34, 35, 36, 37, 38, 39, 40, 41, 42, 43, 44, 45, 46, 47, 48, 49, 50,\n",
       "       51, 52, 53, 54, 55, 56, 57, 58, 59, 60, 61, 62, 63, 64, 65, 66, 67,\n",
       "       68, 69, 70, 71, 72, 73, 74, 75, 76, 77, 78, 79, 80, 81, 82, 83, 84,\n",
       "       85, 86, 87, 88, 89, 90, 91, 92, 93, 94, 95, 96, 97, 98, 99])"
      ]
     },
     "execution_count": 43,
     "metadata": {},
     "output_type": "execute_result"
    }
   ],
   "source": [
    "arr=np.arange(100)\n",
    "arr"
   ]
  },
  {
   "cell_type": "code",
   "execution_count": 44,
   "id": "72ad0d8a-1c42-4f7a-95a3-6e2df4f24fb3",
   "metadata": {},
   "outputs": [
    {
     "data": {
      "text/plain": [
       "array([[ 0,  1,  2,  3,  4,  5,  6,  7,  8,  9, 10, 11, 12, 13, 14, 15,\n",
       "        16, 17, 18, 19, 20, 21, 22, 23, 24],\n",
       "       [25, 26, 27, 28, 29, 30, 31, 32, 33, 34, 35, 36, 37, 38, 39, 40,\n",
       "        41, 42, 43, 44, 45, 46, 47, 48, 49],\n",
       "       [50, 51, 52, 53, 54, 55, 56, 57, 58, 59, 60, 61, 62, 63, 64, 65,\n",
       "        66, 67, 68, 69, 70, 71, 72, 73, 74],\n",
       "       [75, 76, 77, 78, 79, 80, 81, 82, 83, 84, 85, 86, 87, 88, 89, 90,\n",
       "        91, 92, 93, 94, 95, 96, 97, 98, 99]])"
      ]
     },
     "execution_count": 44,
     "metadata": {},
     "output_type": "execute_result"
    }
   ],
   "source": [
    "arr.reshape(4,25)"
   ]
  },
  {
   "cell_type": "code",
   "execution_count": 45,
   "id": "ca1c62d0-34af-4b2a-9604-f372829cd7a1",
   "metadata": {},
   "outputs": [
    {
     "data": {
      "text/plain": [
       "array([ 0,  1,  2,  3,  4,  5,  6,  7,  8,  9, 10, 11, 12, 13, 14, 15, 16,\n",
       "       17, 18, 19, 20, 21, 22, 23, 24, 25, 26, 27, 28, 29, 30, 31, 32, 33,\n",
       "       34, 35, 36, 37, 38, 39, 40, 41, 42, 43, 44, 45, 46, 47, 48, 49, 50,\n",
       "       51, 52, 53, 54, 55, 56, 57, 58, 59, 60, 61, 62, 63, 64, 65, 66, 67,\n",
       "       68, 69, 70, 71, 72, 73, 74, 75, 76, 77, 78, 79, 80, 81, 82, 83, 84,\n",
       "       85, 86, 87, 88, 89, 90, 91, 92, 93, 94, 95, 96, 97, 98, 99])"
      ]
     },
     "execution_count": 45,
     "metadata": {},
     "output_type": "execute_result"
    }
   ],
   "source": [
    "arr.ravel()"
   ]
  },
  {
   "cell_type": "code",
   "execution_count": 46,
   "id": "5660d8d5-c1bd-49fc-9b8a-d10ce4b763c6",
   "metadata": {},
   "outputs": [
    {
     "data": {
      "text/plain": [
       "(100,)"
      ]
     },
     "execution_count": 46,
     "metadata": {},
     "output_type": "execute_result"
    }
   ],
   "source": [
    "arr.shape"
   ]
  },
  {
   "cell_type": "code",
   "execution_count": 47,
   "id": "1d254cbf-a89a-4e8c-bfde-cd6e6808b6e7",
   "metadata": {},
   "outputs": [
    {
     "data": {
      "text/plain": [
       "[[1, 2, 3], [4, 5, 6], [7, 1, 0]]"
      ]
     },
     "execution_count": 47,
     "metadata": {},
     "output_type": "execute_result"
    }
   ],
   "source": [
    "# Numpy array\n",
    "\n",
    "x= [[1,2,3],[4,5,6],[7,1,0]]\n",
    "x"
   ]
  },
  {
   "cell_type": "code",
   "execution_count": 48,
   "id": "6ee3964a-67da-4dba-a1cb-3bf9f762be8c",
   "metadata": {},
   "outputs": [
    {
     "ename": "AttributeError",
     "evalue": "'list' object has no attribute 'shape'",
     "output_type": "error",
     "traceback": [
      "\u001b[1;31m---------------------------------------------------------------------------\u001b[0m",
      "\u001b[1;31mAttributeError\u001b[0m                            Traceback (most recent call last)",
      "Cell \u001b[1;32mIn[48], line 1\u001b[0m\n\u001b[1;32m----> 1\u001b[0m \u001b[43mx\u001b[49m\u001b[38;5;241;43m.\u001b[39;49m\u001b[43mshape\u001b[49m\n",
      "\u001b[1;31mAttributeError\u001b[0m: 'list' object has no attribute 'shape'"
     ]
    }
   ],
   "source": [
    "x.shape"
   ]
  },
  {
   "cell_type": "code",
   "execution_count": 49,
   "id": "f11c62cc-6f7a-4d69-bb8e-d58076757322",
   "metadata": {},
   "outputs": [],
   "source": [
    "ar=np.array(x)"
   ]
  },
  {
   "cell_type": "code",
   "execution_count": 50,
   "id": "937805af-f938-4bdb-85cb-07f3b1bbc38f",
   "metadata": {},
   "outputs": [
    {
     "data": {
      "text/plain": [
       "array([[1, 2, 3],\n",
       "       [4, 5, 6],\n",
       "       [7, 1, 0]])"
      ]
     },
     "execution_count": 50,
     "metadata": {},
     "output_type": "execute_result"
    }
   ],
   "source": [
    "ar"
   ]
  },
  {
   "cell_type": "code",
   "execution_count": 51,
   "id": "3a1c3c7b-f1a0-46de-aef4-cc1d555abd63",
   "metadata": {},
   "outputs": [
    {
     "data": {
      "text/plain": [
       "(3, 3)"
      ]
     },
     "execution_count": 51,
     "metadata": {},
     "output_type": "execute_result"
    }
   ],
   "source": [
    "ar.shape"
   ]
  },
  {
   "cell_type": "code",
   "execution_count": 52,
   "id": "d085113a-4eeb-4cc7-b197-5fe48a349d25",
   "metadata": {},
   "outputs": [
    {
     "data": {
      "text/plain": [
       "array([12,  8,  9])"
      ]
     },
     "execution_count": 52,
     "metadata": {},
     "output_type": "execute_result"
    }
   ],
   "source": [
    "ar.sum(axis=0)   # [12,8,9]   # addition perform by rows=0"
   ]
  },
  {
   "cell_type": "code",
   "execution_count": 53,
   "id": "13b69238-b7e4-416e-95aa-e3e5af34f72a",
   "metadata": {},
   "outputs": [
    {
     "data": {
      "text/plain": [
       "array([ 6, 15,  8])"
      ]
     },
     "execution_count": 53,
     "metadata": {},
     "output_type": "execute_result"
    }
   ],
   "source": [
    "ar.sum(axis=1)  # [6,15,8]  # addition perform by column=1"
   ]
  },
  {
   "cell_type": "markdown",
   "id": "c3fdca1d-aa15-431b-a77f-0270f01578ab",
   "metadata": {},
   "source": [
    "# Transpose() \n",
    "\n",
    " * __With the help of Numpy numpy.transpose(), we can perform the simple function of transpose within one line using numpy.transpose() method of numpy. It can transpose the 2-D arrays on the other hand it has no effect on 1-D arrays. This method transpose the 2-D numpy array.__"
   ]
  },
  {
   "cell_type": "code",
   "execution_count": 54,
   "id": "52c4795d-efc5-4b22-9c9f-feb9d683f377",
   "metadata": {},
   "outputs": [
    {
     "data": {
      "text/plain": [
       "array([[1, 2, 3],\n",
       "       [4, 5, 6],\n",
       "       [7, 1, 0]])"
      ]
     },
     "execution_count": 54,
     "metadata": {},
     "output_type": "execute_result"
    }
   ],
   "source": [
    "ar"
   ]
  },
  {
   "cell_type": "code",
   "execution_count": 55,
   "id": "ef704007-8a4b-47aa-869c-f560d6076b89",
   "metadata": {},
   "outputs": [
    {
     "data": {
      "text/plain": [
       "array([[1, 4, 7],\n",
       "       [2, 5, 1],\n",
       "       [3, 6, 0]])"
      ]
     },
     "execution_count": 55,
     "metadata": {},
     "output_type": "execute_result"
    }
   ],
   "source": [
    "# Tanspose\n",
    "ar.T"
   ]
  },
  {
   "cell_type": "code",
   "execution_count": 56,
   "id": "0891c0b6-fb4e-4d77-adac-1e5fec4ee8f4",
   "metadata": {},
   "outputs": [
    {
     "data": {
      "text/plain": [
       "<numpy.flatiter at 0x1b37ae29790>"
      ]
     },
     "execution_count": 56,
     "metadata": {},
     "output_type": "execute_result"
    }
   ],
   "source": [
    "# iterators \n",
    "\n",
    "ar.flat   "
   ]
  },
  {
   "cell_type": "code",
   "execution_count": 57,
   "id": "f481260e-80a0-4ff7-8d1d-9ac946995095",
   "metadata": {},
   "outputs": [
    {
     "name": "stdout",
     "output_type": "stream",
     "text": [
      "1\n",
      "2\n",
      "3\n",
      "4\n",
      "5\n",
      "6\n",
      "7\n",
      "1\n",
      "0\n"
     ]
    }
   ],
   "source": [
    "for items in ar.flat:\n",
    "    print(items)"
   ]
  },
  {
   "cell_type": "code",
   "execution_count": 58,
   "id": "f2f214e9-3d2b-4e3d-90dc-3d2db65b0fc7",
   "metadata": {},
   "outputs": [
    {
     "data": {
      "text/plain": [
       "2"
      ]
     },
     "execution_count": 58,
     "metadata": {},
     "output_type": "execute_result"
    }
   ],
   "source": [
    "# how to check dimension in array.\n",
    "\n",
    "ar.ndim"
   ]
  },
  {
   "cell_type": "code",
   "execution_count": 59,
   "id": "82758201-77b6-40a9-98b1-d487b99d80fb",
   "metadata": {},
   "outputs": [
    {
     "data": {
      "text/plain": [
       "9"
      ]
     },
     "execution_count": 59,
     "metadata": {},
     "output_type": "execute_result"
    }
   ],
   "source": [
    "# how to check size of the size\n",
    "\n",
    "ar.size"
   ]
  },
  {
   "cell_type": "code",
   "execution_count": 60,
   "id": "0999598b-42a2-452a-8f81-73fc11b1c3fe",
   "metadata": {},
   "outputs": [
    {
     "data": {
      "text/plain": [
       "array([[1, 2, 3],\n",
       "       [4, 5, 6],\n",
       "       [7, 1, 0]])"
      ]
     },
     "execution_count": 60,
     "metadata": {},
     "output_type": "execute_result"
    }
   ],
   "source": [
    "ar"
   ]
  },
  {
   "cell_type": "code",
   "execution_count": 61,
   "id": "d0afce98-473d-49d6-bd8e-1e007f87f98b",
   "metadata": {},
   "outputs": [
    {
     "data": {
      "text/plain": [
       "36"
      ]
     },
     "execution_count": 61,
     "metadata": {},
     "output_type": "execute_result"
    }
   ],
   "source": [
    "ar.nbytes"
   ]
  },
  {
   "cell_type": "code",
   "execution_count": 62,
   "id": "98f03917-7f2e-467f-9761-444fdc150998",
   "metadata": {},
   "outputs": [
    {
     "data": {
      "text/plain": [
       "array([  1,   2,   3,   4,   6, 634])"
      ]
     },
     "execution_count": 62,
     "metadata": {},
     "output_type": "execute_result"
    }
   ],
   "source": [
    "one=np.array([1,2,3,4,6,634])    # 1-D\n",
    "\n",
    "one"
   ]
  },
  {
   "cell_type": "code",
   "execution_count": 63,
   "id": "b50299c2-0aa1-4902-bacc-3365ef6252d7",
   "metadata": {},
   "outputs": [
    {
     "data": {
      "text/plain": [
       "6"
      ]
     },
     "execution_count": 63,
     "metadata": {},
     "output_type": "execute_result"
    }
   ],
   "source": [
    "one.size"
   ]
  },
  {
   "cell_type": "code",
   "execution_count": 64,
   "id": "227f92bf-2805-491f-b4a8-8c0bd0e532cc",
   "metadata": {},
   "outputs": [
    {
     "data": {
      "text/plain": [
       "24"
      ]
     },
     "execution_count": 64,
     "metadata": {},
     "output_type": "execute_result"
    }
   ],
   "source": [
    "one.nbytes"
   ]
  },
  {
   "cell_type": "markdown",
   "id": "f3fe0644-a0a7-4455-abae-3e3af2640d55",
   "metadata": {},
   "source": [
    " * __The main difference between attributes and method is that attributes are data, while method are action. This means that attributes store information, while methods perform actions. For example, an attribute might store the name of the array, while a method might be a function that calculates the sum of the slements of an array. To call an attribute, you can use the same dot notation and add parentheses, like this:__\n",
    " * __array.attributes*__\n",
    " * __array.method(argument1,argument2)__"
   ]
  },
  {
   "cell_type": "code",
   "execution_count": 67,
   "id": "3e36bbbd-5855-48bd-bccb-8b5613b2209e",
   "metadata": {},
   "outputs": [
    {
     "data": {
      "text/plain": [
       "array([  1,   2,   3,   4,   6, 634])"
      ]
     },
     "execution_count": 67,
     "metadata": {},
     "output_type": "execute_result"
    }
   ],
   "source": [
    "one"
   ]
  },
  {
   "cell_type": "code",
   "execution_count": 69,
   "id": "e43a531c-8781-49b2-8042-93487b9cc577",
   "metadata": {},
   "outputs": [
    {
     "data": {
      "text/plain": [
       "5"
      ]
     },
     "execution_count": 69,
     "metadata": {},
     "output_type": "execute_result"
    }
   ],
   "source": [
    "one.argmax()   # This is the index value of maximum number in the array"
   ]
  },
  {
   "cell_type": "code",
   "execution_count": 70,
   "id": "07b0490c-e201-4b99-8651-130754c216e8",
   "metadata": {},
   "outputs": [
    {
     "data": {
      "text/plain": [
       "0"
      ]
     },
     "execution_count": 70,
     "metadata": {},
     "output_type": "execute_result"
    }
   ],
   "source": [
    "one.argmin()  # This returns the minimum number in the array."
   ]
  },
  {
   "cell_type": "code",
   "execution_count": 71,
   "id": "c9f5c997-319a-49c6-958d-9403e69e49fd",
   "metadata": {},
   "outputs": [
    {
     "data": {
      "text/plain": [
       "array([  1,   2,   3,   4,   6, 634])"
      ]
     },
     "execution_count": 71,
     "metadata": {},
     "output_type": "execute_result"
    }
   ],
   "source": [
    "# argsort\n",
    "\n",
    "one"
   ]
  },
  {
   "cell_type": "code",
   "execution_count": 73,
   "id": "aa5dd1ae-8e93-42d0-b9b7-c023c96e55e8",
   "metadata": {},
   "outputs": [],
   "source": [
    "two=np.array([10,15,7,8,20,9,200,15])"
   ]
  },
  {
   "cell_type": "code",
   "execution_count": 74,
   "id": "d818e811-1f84-4175-bbbf-47c45e4a5263",
   "metadata": {},
   "outputs": [
    {
     "data": {
      "text/plain": [
       "array([ 10,  15,   7,   8,  20,   9, 200,  15])"
      ]
     },
     "execution_count": 74,
     "metadata": {},
     "output_type": "execute_result"
    }
   ],
   "source": [
    "two"
   ]
  },
  {
   "cell_type": "code",
   "execution_count": 75,
   "id": "bd22d475-ef9b-47c3-b2e9-0557da1de192",
   "metadata": {},
   "outputs": [
    {
     "data": {
      "text/plain": [
       "array([2, 3, 5, 0, 1, 7, 4, 6], dtype=int64)"
      ]
     },
     "execution_count": 75,
     "metadata": {},
     "output_type": "execute_result"
    }
   ],
   "source": [
    "two.argsort()    # ascending order"
   ]
  },
  {
   "cell_type": "code",
   "execution_count": 77,
   "id": "bf94019d-c4db-49d4-b1be-1cb1c69c7f52",
   "metadata": {},
   "outputs": [
    {
     "data": {
      "text/plain": [
       "array([[1, 2, 3],\n",
       "       [4, 5, 6],\n",
       "       [7, 1, 0]])"
      ]
     },
     "execution_count": 77,
     "metadata": {},
     "output_type": "execute_result"
    }
   ],
   "source": [
    "ar"
   ]
  },
  {
   "cell_type": "code",
   "execution_count": 78,
   "id": "36e87bdf-7c65-42a1-9240-8ff642fa910d",
   "metadata": {},
   "outputs": [
    {
     "data": {
      "text/plain": [
       "8"
      ]
     },
     "execution_count": 78,
     "metadata": {},
     "output_type": "execute_result"
    }
   ],
   "source": [
    "ar.argmin()   # column index"
   ]
  },
  {
   "cell_type": "code",
   "execution_count": 80,
   "id": "8a70b9e6-a7d9-4107-baba-075a3dedab46",
   "metadata": {},
   "outputs": [
    {
     "data": {
      "text/plain": [
       "6"
      ]
     },
     "execution_count": 80,
     "metadata": {},
     "output_type": "execute_result"
    }
   ],
   "source": [
    "ar.argmax()"
   ]
  },
  {
   "cell_type": "code",
   "execution_count": 81,
   "id": "932f31a0-d360-4680-a9cf-ef0e79c4e9dc",
   "metadata": {},
   "outputs": [
    {
     "data": {
      "text/plain": [
       "array([[1, 2, 3],\n",
       "       [4, 5, 6],\n",
       "       [7, 1, 0]])"
      ]
     },
     "execution_count": 81,
     "metadata": {},
     "output_type": "execute_result"
    }
   ],
   "source": [
    "ar"
   ]
  },
  {
   "cell_type": "code",
   "execution_count": 82,
   "id": "b093a16e-5a12-445b-99b0-26a911f452a8",
   "metadata": {},
   "outputs": [
    {
     "data": {
      "text/plain": [
       "array([2, 1, 1], dtype=int64)"
      ]
     },
     "execution_count": 82,
     "metadata": {},
     "output_type": "execute_result"
    }
   ],
   "source": [
    "ar.argmax(axis=0)   # rows"
   ]
  },
  {
   "cell_type": "code",
   "execution_count": 83,
   "id": "3ddc3311-9b3d-4cc1-883e-2edf27e06711",
   "metadata": {},
   "outputs": [
    {
     "data": {
      "text/plain": [
       "array([2, 2, 0], dtype=int64)"
      ]
     },
     "execution_count": 83,
     "metadata": {},
     "output_type": "execute_result"
    }
   ],
   "source": [
    "ar.argmax(axis=1)   #by column"
   ]
  },
  {
   "cell_type": "code",
   "execution_count": 84,
   "id": "8324b1e4-f584-4e46-b310-4f46cf962b40",
   "metadata": {},
   "outputs": [
    {
     "data": {
      "text/plain": [
       "array([[1, 2, 3],\n",
       "       [4, 5, 6],\n",
       "       [7, 1, 0]])"
      ]
     },
     "execution_count": 84,
     "metadata": {},
     "output_type": "execute_result"
    }
   ],
   "source": [
    "ar"
   ]
  },
  {
   "cell_type": "code",
   "execution_count": 86,
   "id": "2a4c96b9-4476-4cc6-94bd-379b6110d967",
   "metadata": {},
   "outputs": [
    {
     "data": {
      "text/plain": [
       "array([[0, 1, 2],\n",
       "       [0, 1, 2],\n",
       "       [2, 1, 0]], dtype=int64)"
      ]
     },
     "execution_count": 86,
     "metadata": {},
     "output_type": "execute_result"
    }
   ],
   "source": [
    "ar.argsort(axis=1)  #[0,1,2],[0,1,2],[2,1,0] # by column\n"
   ]
  },
  {
   "cell_type": "code",
   "execution_count": 87,
   "id": "aa52e2ab-ba03-4698-bfe4-91c833610e5b",
   "metadata": {},
   "outputs": [
    {
     "data": {
      "text/plain": [
       "array([[1, 2, 3],\n",
       "       [4, 5, 6],\n",
       "       [7, 1, 0]])"
      ]
     },
     "execution_count": 87,
     "metadata": {},
     "output_type": "execute_result"
    }
   ],
   "source": [
    "ar"
   ]
  },
  {
   "cell_type": "code",
   "execution_count": 89,
   "id": "1acfe742-c3ee-42ce-8ff3-2b1fe2b7e32c",
   "metadata": {},
   "outputs": [
    {
     "data": {
      "text/plain": [
       "array([[0, 2, 2],\n",
       "       [1, 0, 0],\n",
       "       [2, 1, 1]], dtype=int64)"
      ]
     },
     "execution_count": 89,
     "metadata": {},
     "output_type": "execute_result"
    }
   ],
   "source": [
    "ar.argsort(axis=0)  # arranged by rows."
   ]
  },
  {
   "cell_type": "code",
   "execution_count": 91,
   "id": "2e366d07-2a00-4da7-a4a5-48b63f9c4d87",
   "metadata": {},
   "outputs": [
    {
     "data": {
      "text/plain": [
       "array([1, 2, 3, 4, 5, 6, 7, 1, 0])"
      ]
     },
     "execution_count": 91,
     "metadata": {},
     "output_type": "execute_result"
    }
   ],
   "source": [
    "# ravel \n",
    "\n",
    "ar.ravel()   # arranged in sequence form."
   ]
  },
  {
   "cell_type": "code",
   "execution_count": 92,
   "id": "b1c32034-8bcf-4c55-bf03-e61e23998a9e",
   "metadata": {},
   "outputs": [
    {
     "data": {
      "text/plain": [
       "array([[1],\n",
       "       [2],\n",
       "       [3],\n",
       "       [4],\n",
       "       [5],\n",
       "       [6],\n",
       "       [7],\n",
       "       [1],\n",
       "       [0]])"
      ]
     },
     "execution_count": 92,
     "metadata": {},
     "output_type": "execute_result"
    }
   ],
   "source": [
    "# reshape\n",
    "\n",
    "ar.reshape(9,1)  # 9 rows and 1 column # 9X1 9"
   ]
  },
  {
   "cell_type": "code",
   "execution_count": 93,
   "id": "91a079f6-73e5-40cc-9b44-51fbaa60c337",
   "metadata": {},
   "outputs": [
    {
     "data": {
      "text/plain": [
       "array([[1, 2, 3],\n",
       "       [4, 5, 6],\n",
       "       [7, 1, 0]])"
      ]
     },
     "execution_count": 93,
     "metadata": {},
     "output_type": "execute_result"
    }
   ],
   "source": [
    "ar"
   ]
  },
  {
   "cell_type": "code",
   "execution_count": 94,
   "id": "e5e38522-edcf-4ca4-b9b8-1e104696e49c",
   "metadata": {},
   "outputs": [
    {
     "data": {
      "text/plain": [
       "array([[1, 2, 1],\n",
       "       [4, 0, 6],\n",
       "       [8, 1, 0]])"
      ]
     },
     "execution_count": 94,
     "metadata": {},
     "output_type": "execute_result"
    }
   ],
   "source": [
    "ar2=np.array([[1,2,1],[4,0,6],[8,1,0]])\n",
    "ar2"
   ]
  },
  {
   "cell_type": "code",
   "execution_count": 95,
   "id": "510e4a00-a00f-4c0b-bfd3-4f1ae1f22bff",
   "metadata": {},
   "outputs": [
    {
     "data": {
      "text/plain": [
       "array([[ 2,  4,  4],\n",
       "       [ 8,  5, 12],\n",
       "       [15,  2,  0]])"
      ]
     },
     "execution_count": 95,
     "metadata": {},
     "output_type": "execute_result"
    }
   ],
   "source": [
    "# Add two array\n",
    "ar+ar2  # add this array by column method."
   ]
  },
  {
   "cell_type": "code",
   "execution_count": 96,
   "id": "0373b237-21bd-4ed2-9ee5-0002295f254e",
   "metadata": {},
   "outputs": [
    {
     "data": {
      "text/plain": [
       "[324, 34, 34, 546]"
      ]
     },
     "execution_count": 96,
     "metadata": {},
     "output_type": "execute_result"
    }
   ],
   "source": [
    "x=[324,34]+[34,546]\n",
    "x    # If you performing list addition then addition is not allowed."
   ]
  },
  {
   "cell_type": "code",
   "execution_count": 97,
   "id": "1a75b13d-fad1-4bb9-b81e-48da298c5b00",
   "metadata": {},
   "outputs": [
    {
     "data": {
      "text/plain": [
       "array([[1, 2, 3],\n",
       "       [4, 5, 6],\n",
       "       [7, 1, 0]])"
      ]
     },
     "execution_count": 97,
     "metadata": {},
     "output_type": "execute_result"
    }
   ],
   "source": [
    "# multiplying two array\n",
    "\n",
    "ar"
   ]
  },
  {
   "cell_type": "code",
   "execution_count": 98,
   "id": "958eda98-fd3c-437e-9e6d-3ce3fda447e5",
   "metadata": {},
   "outputs": [
    {
     "data": {
      "text/plain": [
       "array([[1, 2, 1],\n",
       "       [4, 0, 6],\n",
       "       [8, 1, 0]])"
      ]
     },
     "execution_count": 98,
     "metadata": {},
     "output_type": "execute_result"
    }
   ],
   "source": [
    "ar2"
   ]
  },
  {
   "cell_type": "code",
   "execution_count": 99,
   "id": "e8b416ac-bd9a-4273-8bdf-2612e14b4eb2",
   "metadata": {},
   "outputs": [
    {
     "data": {
      "text/plain": [
       "array([[ 1,  4,  3],\n",
       "       [16,  0, 36],\n",
       "       [56,  1,  0]])"
      ]
     },
     "execution_count": 99,
     "metadata": {},
     "output_type": "execute_result"
    }
   ],
   "source": [
    "ar*ar2  # multiplied by column method i.e by default"
   ]
  },
  {
   "cell_type": "code",
   "execution_count": 100,
   "id": "19248b31-e9a5-466d-a1d0-2dd47190942c",
   "metadata": {},
   "outputs": [
    {
     "data": {
      "text/plain": [
       "array([[1, 2, 3],\n",
       "       [4, 5, 6],\n",
       "       [7, 1, 0]])"
      ]
     },
     "execution_count": 100,
     "metadata": {},
     "output_type": "execute_result"
    }
   ],
   "source": [
    "# how to find the square root of the array if possible\n",
    "ar"
   ]
  },
  {
   "cell_type": "code",
   "execution_count": 101,
   "id": "ab9a37af-2556-44b6-b747-2403f95bbe8f",
   "metadata": {},
   "outputs": [
    {
     "data": {
      "text/plain": [
       "array([[1.        , 1.41421356, 1.73205081],\n",
       "       [2.        , 2.23606798, 2.44948974],\n",
       "       [2.64575131, 1.        , 0.        ]])"
      ]
     },
     "execution_count": 101,
     "metadata": {},
     "output_type": "execute_result"
    }
   ],
   "source": [
    "np.sqrt(ar)"
   ]
  },
  {
   "cell_type": "code",
   "execution_count": 102,
   "id": "9b07266e-212a-4902-a9da-bd6fad92f668",
   "metadata": {},
   "outputs": [
    {
     "data": {
      "text/plain": [
       "array([[1, 2, 1],\n",
       "       [4, 0, 6],\n",
       "       [8, 1, 0]])"
      ]
     },
     "execution_count": 102,
     "metadata": {},
     "output_type": "execute_result"
    }
   ],
   "source": [
    "ar2"
   ]
  },
  {
   "cell_type": "code",
   "execution_count": 103,
   "id": "9887277e-1875-4b51-b1e1-dba22d03b0d0",
   "metadata": {},
   "outputs": [
    {
     "data": {
      "text/plain": [
       "array([[1.        , 1.41421356, 1.        ],\n",
       "       [2.        , 0.        , 2.44948974],\n",
       "       [2.82842712, 1.        , 0.        ]])"
      ]
     },
     "execution_count": 103,
     "metadata": {},
     "output_type": "execute_result"
    }
   ],
   "source": [
    "np.sqrt(ar2)"
   ]
  },
  {
   "cell_type": "code",
   "execution_count": 104,
   "id": "23377897-2bec-4ab2-9b01-7539f113b43e",
   "metadata": {},
   "outputs": [
    {
     "data": {
      "text/plain": [
       "array([[1, 2, 3],\n",
       "       [4, 5, 6],\n",
       "       [7, 1, 0]])"
      ]
     },
     "execution_count": 104,
     "metadata": {},
     "output_type": "execute_result"
    }
   ],
   "source": [
    "ar"
   ]
  },
  {
   "cell_type": "code",
   "execution_count": 105,
   "id": "67b23b6c-b020-4d98-8697-856ff9ba916f",
   "metadata": {},
   "outputs": [
    {
     "data": {
      "text/plain": [
       "29"
      ]
     },
     "execution_count": 105,
     "metadata": {},
     "output_type": "execute_result"
    }
   ],
   "source": [
    "# sum of all element in the array.\n",
    "ar.sum()"
   ]
  },
  {
   "cell_type": "code",
   "execution_count": 106,
   "id": "da210abd-65ab-4d10-9bf7-d29826aa8acb",
   "metadata": {},
   "outputs": [
    {
     "data": {
      "text/plain": [
       "7"
      ]
     },
     "execution_count": 106,
     "metadata": {},
     "output_type": "execute_result"
    }
   ],
   "source": [
    "ar.max()"
   ]
  },
  {
   "cell_type": "code",
   "execution_count": 107,
   "id": "eea6488e-8c82-4c9d-a477-011b4c0372ba",
   "metadata": {},
   "outputs": [
    {
     "data": {
      "text/plain": [
       "array([[1, 2, 1],\n",
       "       [4, 0, 6],\n",
       "       [8, 1, 0]])"
      ]
     },
     "execution_count": 107,
     "metadata": {},
     "output_type": "execute_result"
    }
   ],
   "source": [
    "ar2"
   ]
  },
  {
   "cell_type": "code",
   "execution_count": 108,
   "id": "1579bec4-bc3f-4f41-9c91-01a468b48f43",
   "metadata": {},
   "outputs": [
    {
     "data": {
      "text/plain": [
       "8"
      ]
     },
     "execution_count": 108,
     "metadata": {},
     "output_type": "execute_result"
    }
   ],
   "source": [
    "ar2.max()"
   ]
  },
  {
   "cell_type": "code",
   "execution_count": 109,
   "id": "ef0934f7-7b7b-4a0f-99a4-20bde1d917b8",
   "metadata": {},
   "outputs": [
    {
     "data": {
      "text/plain": [
       "array([[1, 2, 3],\n",
       "       [4, 5, 6],\n",
       "       [7, 1, 0]])"
      ]
     },
     "execution_count": 109,
     "metadata": {},
     "output_type": "execute_result"
    }
   ],
   "source": [
    "ar"
   ]
  },
  {
   "cell_type": "code",
   "execution_count": 110,
   "id": "183b3bf7-a4d7-4e0c-a469-abc7752807de",
   "metadata": {},
   "outputs": [
    {
     "data": {
      "text/plain": [
       "(array([1, 1, 1, 2], dtype=int64), array([0, 1, 2, 0], dtype=int64))"
      ]
     },
     "execution_count": 110,
     "metadata": {},
     "output_type": "execute_result"
    }
   ],
   "source": [
    "np.where(ar>3)  # it gives the index value greater than 3 by rows and by ascending order"
   ]
  },
  {
   "cell_type": "code",
   "execution_count": 112,
   "id": "806daf03-fb22-4f35-afbe-338debc7951b",
   "metadata": {},
   "outputs": [
    {
     "data": {
      "text/plain": [
       "(array([1, 1, 2], dtype=int64), array([1, 2, 0], dtype=int64))"
      ]
     },
     "execution_count": 112,
     "metadata": {},
     "output_type": "execute_result"
    }
   ],
   "source": [
    "np.where(ar>4)  #[1,1,2]"
   ]
  },
  {
   "cell_type": "code",
   "execution_count": 113,
   "id": "83d2bcaa-0e78-45d6-ac12-b779a4a69490",
   "metadata": {},
   "outputs": [
    {
     "data": {
      "text/plain": [
       "(array([1, 2], dtype=int64), array([2, 0], dtype=int64))"
      ]
     },
     "execution_count": 113,
     "metadata": {},
     "output_type": "execute_result"
    }
   ],
   "source": [
    "np.where(ar>5) #"
   ]
  },
  {
   "cell_type": "code",
   "execution_count": 117,
   "id": "0ad29f75-d169-4d95-a8b9-c01803776f91",
   "metadata": {},
   "outputs": [
    {
     "data": {
      "text/plain": [
       "8"
      ]
     },
     "execution_count": 117,
     "metadata": {},
     "output_type": "execute_result"
    }
   ],
   "source": [
    "# Zeros  # It counts total value of non zeros in your array\n",
    "\n",
    "np.count_nonzero(ar)"
   ]
  },
  {
   "cell_type": "code",
   "execution_count": 118,
   "id": "e9ad5b3b-f9cf-478e-a8f1-38845299ba33",
   "metadata": {},
   "outputs": [
    {
     "data": {
      "text/plain": [
       "array([[1, 2, 3],\n",
       "       [4, 5, 6],\n",
       "       [7, 1, 0]])"
      ]
     },
     "execution_count": 118,
     "metadata": {},
     "output_type": "execute_result"
    }
   ],
   "source": [
    "ar"
   ]
  },
  {
   "cell_type": "code",
   "execution_count": 119,
   "id": "337133f9-a7db-4ed3-ba21-7b3ddae4d04d",
   "metadata": {},
   "outputs": [
    {
     "data": {
      "text/plain": [
       "(array([0, 0, 0, 1, 1, 1, 2, 2], dtype=int64),\n",
       " array([0, 1, 2, 0, 1, 2, 0, 1], dtype=int64))"
      ]
     },
     "execution_count": 119,
     "metadata": {},
     "output_type": "execute_result"
    }
   ],
   "source": [
    "np.nonzero(ar)"
   ]
  },
  {
   "cell_type": "code",
   "execution_count": null,
   "id": "654ee4b5-9747-4fc2-9930-9b817767e159",
   "metadata": {},
   "outputs": [],
   "source": []
  },
  {
   "cell_type": "code",
   "execution_count": null,
   "id": "4e76eb7d-f167-4cde-98fb-b2421f9cae5f",
   "metadata": {},
   "outputs": [],
   "source": []
  }
 ],
 "metadata": {
  "kernelspec": {
   "display_name": "Python 3 (ipykernel)",
   "language": "python",
   "name": "python3"
  },
  "language_info": {
   "codemirror_mode": {
    "name": "ipython",
    "version": 3
   },
   "file_extension": ".py",
   "mimetype": "text/x-python",
   "name": "python",
   "nbconvert_exporter": "python",
   "pygments_lexer": "ipython3",
   "version": "3.11.4"
  }
 },
 "nbformat": 4,
 "nbformat_minor": 5
}
